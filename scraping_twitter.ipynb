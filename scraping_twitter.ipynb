{
 "cells": [
  {
   "cell_type": "code",
   "execution_count": 34,
   "metadata": {},
   "outputs": [],
   "source": [
    "import twint\n",
    "import nest_asyncio\n",
    "import tqdm\n",
    "import datetime\n",
    "nest_asyncio.apply()\n",
    "DATA_FILE = \"data_test/\""
   ]
  },
  {
   "cell_type": "code",
   "execution_count": 35,
   "metadata": {},
   "outputs": [
    {
     "name": "stdout",
     "output_type": "stream",
     "text": [
      "['abu_sayyaf', 'afghanistan', 'agro', 'al-qaeda', 'al-qaeda_in_the_arabian_peninsula', 'al-qaeda_in_the_islamic_maghreb', 'al-shabaab', 'ammonium_nitrate', 'attack', 'biological_weapon', 'car_bomb', 'chemical_weapon', 'conventional_weapon', 'dirty_bomb', 'eco-terrorism', 'environmental_terrorism', 'euskadi_ta_askatasuna', 'extremism', 'farc', 'fundamentalism', 'hamas', 'hezbollah', 'improvised_explosive_device', 'iran', 'iraq', 'irish_republican_army', 'islamist', 'jihad', 'nationalism', 'nigeria', 'nuclear', 'nuclear_enrichment', 'pakistan', 'palestine_liberation_front', 'pirates', 'plo', 'political_radicalism', 'recruitment', 'somalia', 'suicide_attack', 'suicide_bomber', 'taliban', 'tamil_tigers', 'tehrik-i-taliban_pakistan', 'terror', 'terrorism', 'weapons-grade', 'yemen']\n"
     ]
    }
   ],
   "source": [
    "search_terms = []\n",
    "with open('config/search-terms.txt') as f:\n",
    "    lines = f.read().splitlines()\n",
    "search_terms = lines\n",
    "print(search_terms)"
   ]
  },
  {
   "cell_type": "code",
   "execution_count": 36,
   "metadata": {},
   "outputs": [],
   "source": [
    "short_terms = ['abu_sayyaf', 'al-qaeda', 'al-qaeda_in_the_arabian_peninsula', 'al-qaeda_in_the_islamic_maghreb', 'al-shabaab', 'ammonium_nitrate', 'biological_weapon', 'car_bomb', 'chemical_weapon', 'conventional_weapon', 'dirty_bomb', 'eco-terrorism', 'environmental_terrorism', 'euskadi_ta_askatasuna', 'extremism', 'farc', 'fundamentalism', 'hezbollah', 'improvised_explosive_device', 'irish_republican_army', 'jihad', 'nuclear_enrichment', 'palestine_liberation_front', 'political_radicalism', 'suicide_attack', 'suicide_bomber', 'taliban', 'tamil_tigers', 'tehrik-i-taliban_pakistan', 'weapons-grade']"
   ]
  },
  {
   "cell_type": "code",
   "execution_count": 37,
   "metadata": {},
   "outputs": [],
   "source": [
    "long_terms = ['afghanistan', 'hamas', 'iran', 'iraq', 'islamist', 'nationalism', 'nigeria', 'pakistan', 'somalia', 'terrorism', 'yemen']"
   ]
  },
  {
   "cell_type": "code",
   "execution_count": 38,
   "metadata": {},
   "outputs": [],
   "source": [
    "black_list = ['agro', 'attack', 'nuclear', 'pirates', 'plo', 'recruitment', 'terror']"
   ]
  },
  {
   "cell_type": "code",
   "execution_count": 39,
   "metadata": {},
   "outputs": [],
   "source": [
    "concatenated = short_terms+long_terms+black_list\n",
    "for elem in search_terms:\n",
    "    if elem not in concatenated :\n",
    "        print(\"The two lists differ\")"
   ]
  },
  {
   "cell_type": "code",
   "execution_count": 40,
   "metadata": {},
   "outputs": [
    {
     "name": "stdout",
     "output_type": "stream",
     "text": [
      "['2012-01-01', '2012-02-01', '2012-03-01', '2012-04-01', '2012-05-01', '2012-06-01', '2012-07-01', '2012-08-01', '2012-09-01', '2012-10-01', '2012-11-01', '2012-12-01', '2013-01-01', '2013-02-01', '2013-03-01', '2013-04-01', '2013-05-01', '2013-06-01', '2013-07-01', '2013-08-01', '2013-09-01', '2013-10-01', '2013-11-01', '2013-12-01', '2014-01-01', '2014-02-01', '2014-03-01', '2014-04-01', '2014-05-01', '2014-06-01', '2014-07-01', '2014-08-01', '2014-09-01', '2014-10-01', '2014-11-01', '2014-12-01']\n"
     ]
    }
   ],
   "source": [
    "dates = []\n",
    "for y in ['2012', '2013', '2014'] :\n",
    "    for m in range(1,12 + 1):\n",
    "        dates.append(f\"{y}-{m:02d}-01\")\n",
    "print(dates)"
   ]
  },
  {
   "cell_type": "code",
   "execution_count": 41,
   "metadata": {},
   "outputs": [
    {
     "name": "stdout",
     "output_type": "stream",
     "text": [
      "['abu_sayyaf', 'afghanistan']\n",
      "['2012-01-01', '2012-02-01']\n"
     ]
    }
   ],
   "source": [
    "dummy_terms = search_terms[:2]\n",
    "dummy_dates = dates[:2]\n",
    "print(dummy_terms)\n",
    "print(dummy_dates)"
   ]
  },
  {
   "cell_type": "code",
   "execution_count": 42,
   "metadata": {},
   "outputs": [],
   "source": [
    "import threading\n",
    "import multiprocessing\n",
    "from time import sleep\n",
    "from joblib import Parallel, delayed\n",
    "\n",
    "NB_PROC = 12\n",
    "NB_THREAD_P_PROC = 20"
   ]
  },
  {
   "cell_type": "code",
   "execution_count": 43,
   "metadata": {},
   "outputs": [
    {
     "name": "stdout",
     "output_type": "stream",
     "text": [
      "pineapple  from  2012-02-02  to  2012-02-03\n"
     ]
    },
    {
     "ename": "AttributeError",
     "evalue": "module 'twint_lib' has no attribute 'Config'",
     "output_type": "error",
     "traceback": [
      "\u001b[1;31m---------------------------------------------------------------------------\u001b[0m",
      "\u001b[1;31mAttributeError\u001b[0m                            Traceback (most recent call last)",
      "\u001b[1;32m<ipython-input-43-310a89d3ca98>\u001b[0m in \u001b[0;36m<module>\u001b[1;34m\u001b[0m\n\u001b[0;32m     34\u001b[0m     \u001b[0mtwint\u001b[0m\u001b[1;33m.\u001b[0m\u001b[0mrun\u001b[0m\u001b[1;33m.\u001b[0m\u001b[0mSearch\u001b[0m\u001b[1;33m(\u001b[0m\u001b[0mc\u001b[0m\u001b[1;33m)\u001b[0m\u001b[1;33m\u001b[0m\u001b[1;33m\u001b[0m\u001b[0m\n\u001b[0;32m     35\u001b[0m \u001b[1;33m\u001b[0m\u001b[0m\n\u001b[1;32m---> 36\u001b[1;33m \u001b[0mScrap\u001b[0m\u001b[1;33m(\u001b[0m\u001b[1;34m'pineapple'\u001b[0m\u001b[1;33m,\u001b[0m \u001b[1;34m'2012-02-02'\u001b[0m\u001b[1;33m,\u001b[0m \u001b[1;34m'2012-02-03'\u001b[0m\u001b[1;33m)\u001b[0m\u001b[1;33m\u001b[0m\u001b[1;33m\u001b[0m\u001b[0m\n\u001b[0m",
      "\u001b[1;32m<ipython-input-43-310a89d3ca98>\u001b[0m in \u001b[0;36mScrap\u001b[1;34m(term, since, until)\u001b[0m\n\u001b[0;32m     24\u001b[0m \u001b[1;32mdef\u001b[0m \u001b[0mScrap\u001b[0m\u001b[1;33m(\u001b[0m\u001b[0mterm\u001b[0m\u001b[1;33m,\u001b[0m \u001b[0msince\u001b[0m\u001b[1;33m,\u001b[0m \u001b[0muntil\u001b[0m\u001b[1;33m)\u001b[0m\u001b[1;33m:\u001b[0m\u001b[1;33m\u001b[0m\u001b[1;33m\u001b[0m\u001b[0m\n\u001b[0;32m     25\u001b[0m     \u001b[0mprint\u001b[0m\u001b[1;33m(\u001b[0m\u001b[0mterm\u001b[0m\u001b[1;33m,\u001b[0m \u001b[1;34m' from '\u001b[0m\u001b[1;33m,\u001b[0m \u001b[0msince\u001b[0m\u001b[1;33m,\u001b[0m \u001b[1;34m' to '\u001b[0m\u001b[1;33m,\u001b[0m \u001b[0muntil\u001b[0m\u001b[1;33m)\u001b[0m\u001b[1;33m\u001b[0m\u001b[1;33m\u001b[0m\u001b[0m\n\u001b[1;32m---> 26\u001b[1;33m     \u001b[0mc\u001b[0m \u001b[1;33m=\u001b[0m \u001b[0mtwint\u001b[0m\u001b[1;33m.\u001b[0m\u001b[0mConfig\u001b[0m\u001b[1;33m(\u001b[0m\u001b[1;33m)\u001b[0m\u001b[1;33m\u001b[0m\u001b[1;33m\u001b[0m\u001b[0m\n\u001b[0m\u001b[0;32m     27\u001b[0m     \u001b[0mc\u001b[0m\u001b[1;33m.\u001b[0m\u001b[0mSearch\u001b[0m \u001b[1;33m=\u001b[0m \u001b[0mterm\u001b[0m\u001b[1;33m\u001b[0m\u001b[1;33m\u001b[0m\u001b[0m\n\u001b[0;32m     28\u001b[0m     \u001b[0mc\u001b[0m\u001b[1;33m.\u001b[0m\u001b[0mSince\u001b[0m \u001b[1;33m=\u001b[0m \u001b[0msince\u001b[0m\u001b[1;33m\u001b[0m\u001b[1;33m\u001b[0m\u001b[0m\n",
      "\u001b[1;31mAttributeError\u001b[0m: module 'twint_lib' has no attribute 'Config'"
     ]
    }
   ],
   "source": [
    "def process_run(task_queue):\n",
    "    for i in range(NB_THREAD_P_PROC):\n",
    "        thread = Thread(target = thread_run, args=(task_queue))\n",
    "        thread.start()\n",
    "\n",
    "def thread_run(task_queue):\n",
    "    continue_ = True\n",
    "    while continue_:\n",
    "        task = task_queue.get()\n",
    "        if task == None: #TODO change\n",
    "            tadk_queue.put(None)\n",
    "            continue_ = False\n",
    "            break\n",
    "        term = task[0]\n",
    "        since = task[1]\n",
    "        until = task[2]\n",
    "        print(\"Beginning scrapping \", term, \" from \", since, \" until \", until)\n",
    "        Scrap(term, since, until)\n",
    "        print(\"Finished scrapping \", term, \" from \", since, \" until \", until)\n",
    "        if (int(until[-2:])>25):\n",
    "            print(\"##################### Finished term \", term)\n",
    "    print(\"No more element in the queue, terminating\")\n",
    "\n",
    "def Scrap(term, since, until):\n",
    "    print(term, ' from ', since, ' to ', until)\n",
    "    c = twint.Config()\n",
    "    c.Search = term\n",
    "    c.Since = since\n",
    "    c.Until = until\n",
    "    #c.Until = \"2012-06-01\"\n",
    "    c.Output = DATA_FILE+term+'/'+since+'-'+term+\".csv\"\n",
    "    c.Hide_output = True\n",
    "    c.Store_csv = True\n",
    "    twint.run.Search(c)\n",
    "    \n",
    "Scrap('pineapple', '2012-02-02', '2012-02-03')"
   ]
  },
  {
   "cell_type": "code",
   "execution_count": null,
   "metadata": {},
   "outputs": [],
   "source": [
    "work = [[i, dummy_dates[j], dummy_dates[j+1]] for j in range(len(dummy_dates)-1) for i in dummy_terms]\n",
    "work = sorted(work, key= lambda elem: elem[0])\n",
    "print(work)\n",
    "task_queue = multiprocessing.Queue()\n",
    "for w in work:\n",
    "    task_queue.put(w)\n",
    "for i in range(NB_PROC):\n",
    "    task_queue.put(None)"
   ]
  },
  {
   "cell_type": "code",
   "execution_count": null,
   "metadata": {},
   "outputs": [],
   "source": [
    "if __name__ == '__main__':\n",
    "    task_queue = multiprocessing.Queue()\n",
    "    work = [['abu_sayyaf', '2012-01-01', '2012-02-01'], ['afghanistan', '2012-01-01', '2012-02-01']]\n",
    "    for w in work:\n",
    "        task_queue.put(w)\n",
    "    for i in range(NB_PROC):\n",
    "        task_queue.put(None)\n",
    "    num_cores = multiprocessing.cpu_count()\n",
    "    print(num_cores)\n",
    "    the_pool = multiprocessing.Pool(NB_PROC, process_run, (task_queue,))\n",
    "    #results = Parallel(n_jobs=NB_PROC)(delayed(process_run)(task_queue) for i in range(NB_PROC))\n",
    "    sleep(10)"
   ]
  },
  {
   "cell_type": "code",
   "execution_count": null,
   "metadata": {},
   "outputs": [],
   "source": [
    "%run multiprocessing-script.py"
   ]
  },
  {
   "cell_type": "code",
   "execution_count": null,
   "metadata": {},
   "outputs": [],
   "source": [
    "print('''\n",
    "Time taken to scrap \n",
    "abu_sayyaf : 7 min 44 sec, 11.8 MB\n",
    "afghanistan : \n",
    "\n",
    "''')"
   ]
  },
  {
   "cell_type": "code",
   "execution_count": null,
   "metadata": {},
   "outputs": [],
   "source": []
  }
 ],
 "metadata": {
  "kernelspec": {
   "display_name": "Python [conda env:ada]",
   "language": "python",
   "name": "conda-env-ada-py"
  },
  "language_info": {
   "codemirror_mode": {
    "name": "ipython",
    "version": 3
   },
   "file_extension": ".py",
   "mimetype": "text/x-python",
   "name": "python",
   "nbconvert_exporter": "python",
   "pygments_lexer": "ipython3",
   "version": "3.8.5"
  }
 },
 "nbformat": 4,
 "nbformat_minor": 4
}
