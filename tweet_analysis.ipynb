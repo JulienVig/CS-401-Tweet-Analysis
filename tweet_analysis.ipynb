{
 "cells": [
  {
   "cell_type": "markdown",
   "metadata": {},
   "source": [
    "# Imports and constants\n",
    "\n",
    "Let's first import all libraries needed and files constants."
   ]
  },
  {
   "cell_type": "code",
   "execution_count": 1,
   "metadata": {
    "ExecuteTime": {
     "end_time": "2020-12-15T17:32:52.104554Z",
     "start_time": "2020-12-15T17:32:50.096447Z"
    },
    "scrolled": false
   },
   "outputs": [
    {
     "name": "stderr",
     "output_type": "stream",
     "text": [
      "/Applications/anaconda3/lib/python3.7/site-packages/statsmodels/tools/_testing.py:19: FutureWarning: pandas.util.testing is deprecated. Use the functions in the public API at pandas.testing instead.\n",
      "  import pandas.util.testing as tm\n"
     ]
    }
   ],
   "source": [
    "import os \n",
    "import numpy as np\n",
    "import pandas as pd\n",
    "import seaborn as sns\n",
    "import matplotlib.pyplot as plt\n",
    "from datetime import datetime\n",
    "import statsmodels.formula.api as smf\n",
    "from tqdm import tqdm"
   ]
  },
  {
   "cell_type": "code",
   "execution_count": 2,
   "metadata": {
    "ExecuteTime": {
     "end_time": "2020-12-15T17:32:52.127404Z",
     "start_time": "2020-12-15T17:32:52.112433Z"
    }
   },
   "outputs": [],
   "source": [
    "SRC = 'tweets/'\n",
    "RAW_DATA = SRC + 'raw_data/'\n",
    "DATA = SRC + 'data/'\n",
    "\n",
    "#Tweet counts\n",
    "MONTHLY_COUNT = SRC + 'monthly_count/'\n",
    "TERRORISM_COUNT = MONTHLY_COUNT + 'short_terrorism.csv'\n",
    "DOMESTIC_COUNT = MONTHLY_COUNT + 'domestic_security.csv'\n",
    "\n",
    "#Sentiment analysis\n",
    "MONTHLY_SENT = SRC + 'monthly_sentiment/'\n",
    "TERRORISM_SENT = MONTHLY_SENT + 'short_terrorism.csv'\n",
    "DOMESTIC_SENT = MONTHLY_SENT + 'domestic_security.csv'\n",
    "\n",
    "DOMAINS = ['short_terrorism', 'domestic_security','short_terrorism_sentiment', 'domestic_security_sentiment']"
   ]
  },
  {
   "cell_type": "markdown",
   "metadata": {},
   "source": [
    "Due to the large size of our dataset, only the aggregations are included in the github repository. The raw dataset is available [here](https://drive.google.com/drive/folders/1cjZ2Mw286f8JNPUlfYkcOO21SQDTDKd4?usp=sharing).\n",
    "\n",
    "The original data folder architecture is as follows:\n",
    "```\n",
    "tweets\n",
    "│       \n",
    "│\n",
    "└───raw_data\n",
    "│   └───short_terrorism\n",
    "│   |   └───abu_sayyaf/\n",
    "│   |   └───al-qaeda/\n",
    "│   |       ...\n",
    "|   |\n",
    "│   └───domestic_security\n",
    "│   |   └───air_marshal/\n",
    "│   |   └───border_patrol/\n",
    "│   |       ...\n",
    "│   \n",
    "└───data\n",
    "│   └───short_terrorism\n",
    "│   |       abu_sayyaf.csv\n",
    "│   |       al-qaeda.csv\n",
    "│   |       ...\n",
    "|   |\n",
    "│   └───domestic_security\n",
    "│   └───short_terrorism_sentiment\n",
    "│   └───domestic_security_sentiment\n",
    "|\n",
    "└───monthly_count\n",
    "|       short_terrorism.csv\n",
    "|       domestic_security.csv\n",
    "|\n",
    "└───monthly_sentiment\n",
    "|       short_terrorism.csv\n",
    "|       domestic_security.csv\n",
    "\n",
    "```\n",
    "\n",
    "`raw_data` contains the data resulting from the scraping and `data` contains the same data organised by keyword in a more convenient format. From `data`, `monthly_count` and `monthly_sentiment` are computed and used for the analysis.\n",
    "\n",
    "Only the folders `monthly_count` and `monthly_sentiment` are included on github as they are reasonably small and sufficient for the analysis."
   ]
  },
  {
   "cell_type": "markdown",
   "metadata": {},
   "source": [
    "# Scraping Tweets\n",
    "\n",
    "In order to scrap the tweets containing the selected keywords we used the the Twint library that lets us choose the time period as well as filtering only tweets that contains a keyword. \n",
    "However the scrapping cannot be done from a notebook if we want to make use of parallelism.\n",
    "\n",
    "The multi-threaded scrapping can be tested by running at the root:\n",
    "```\n",
    "cd twint\n",
    "python multiprocessing-script.py\n",
    "```\n",
    "This will create a folder `sample_scrap` at the root of the project where the scrapped data will be written.\n",
    "\n",
    "The main scrapping steps are illustrated bellow:"
   ]
  },
  {
   "cell_type": "code",
   "execution_count": 3,
   "metadata": {
    "ExecuteTime": {
     "end_time": "2020-12-15T17:32:52.155180Z",
     "start_time": "2020-12-15T17:32:52.133112Z"
    },
    "scrolled": true
   },
   "outputs": [],
   "source": [
    "#Import the library\n",
    "import twint\n",
    "from config.keywords import * #Define the lists of keywords\n",
    "from scripts.time_partition import create_keyword_partition "
   ]
  },
  {
   "cell_type": "code",
   "execution_count": 4,
   "metadata": {
    "ExecuteTime": {
     "end_time": "2020-12-15T17:32:52.368135Z",
     "start_time": "2020-12-15T17:32:52.164713Z"
    }
   },
   "outputs": [
    {
     "data": {
      "text/plain": [
       "[['abu_sayyaf', '2012-01-01', '2012-01-07'],\n",
       " ['abu_sayyaf', '2012-01-08', '2012-01-14'],\n",
       " ['abu_sayyaf', '2012-01-15', '2012-01-21'],\n",
       " ['abu_sayyaf', '2012-01-22', '2012-01-31'],\n",
       " ['abu_sayyaf', '2012-02-01', '2012-02-07']]"
      ]
     },
     "execution_count": 4,
     "metadata": {},
     "output_type": "execute_result"
    }
   ],
   "source": [
    "#Create a list of list containing the keywords to search for and the time period\n",
    "#Such a partition lets us run multiple threads and processes scrapping independently of each other\n",
    "work = []\n",
    "for keyword in terrorism_short_terms:\n",
    "    work += create_keyword_partition(keyword, 4) #Returns a partition where each month is divided in 4 periods\n",
    "\n",
    "work[:5]"
   ]
  },
  {
   "cell_type": "code",
   "execution_count": 5,
   "metadata": {
    "ExecuteTime": {
     "end_time": "2020-12-15T17:32:52.386215Z",
     "start_time": "2020-12-15T17:32:52.376230Z"
    }
   },
   "outputs": [],
   "source": [
    "#This is the main Scrapping function where the use of Twint is showed\n",
    "#Each process runs this function in parallel\n",
    "\n",
    "def Scrap(term, since, until):\n",
    "    \"\"\"\n",
    "    Scraps the tweets containing the keyword `term` in the time frame starting from `since`\n",
    "    and ending on `until`.\n",
    "    \"\"\"\n",
    "    print(term, ' from ', since, ' to ', until)\n",
    "    c = twint.Config()\n",
    "    c.Search = term\n",
    "    c.Since = since\n",
    "    c.Until = until\n",
    "    \n",
    "    #Create and define the folder in which we write the output\n",
    "    folder = term\n",
    "    if not os.path.isdir(folder):\n",
    "        os.mkdir(term)\n",
    "    c.Output = folder+'/'+since+'-'+term+\".csv\"\n",
    "    c.Hide_output = True\n",
    "    c.Store_csv = True\n",
    "    twint.run.Search(c) #Start the scrapping"
   ]
  },
  {
   "cell_type": "code",
   "execution_count": 6,
   "metadata": {
    "ExecuteTime": {
     "end_time": "2020-12-15T17:32:52.499975Z",
     "start_time": "2020-12-15T17:32:52.396302Z"
    }
   },
   "outputs": [
    {
     "data": {
      "text/html": [
       "<div>\n",
       "<style scoped>\n",
       "    .dataframe tbody tr th:only-of-type {\n",
       "        vertical-align: middle;\n",
       "    }\n",
       "\n",
       "    .dataframe tbody tr th {\n",
       "        vertical-align: top;\n",
       "    }\n",
       "\n",
       "    .dataframe thead th {\n",
       "        text-align: right;\n",
       "    }\n",
       "</style>\n",
       "<table border=\"1\" class=\"dataframe\">\n",
       "  <thead>\n",
       "    <tr style=\"text-align: right;\">\n",
       "      <th></th>\n",
       "      <th>conversation_id</th>\n",
       "      <th>created_at</th>\n",
       "      <th>date</th>\n",
       "      <th>time</th>\n",
       "      <th>timezone</th>\n",
       "      <th>user_id</th>\n",
       "      <th>username</th>\n",
       "      <th>name</th>\n",
       "      <th>place</th>\n",
       "      <th>tweet</th>\n",
       "      <th>...</th>\n",
       "      <th>geo</th>\n",
       "      <th>source</th>\n",
       "      <th>user_rt_id</th>\n",
       "      <th>user_rt</th>\n",
       "      <th>retweet_id</th>\n",
       "      <th>reply_to</th>\n",
       "      <th>retweet_date</th>\n",
       "      <th>translate</th>\n",
       "      <th>trans_src</th>\n",
       "      <th>trans_dest</th>\n",
       "    </tr>\n",
       "    <tr>\n",
       "      <th>id</th>\n",
       "      <th></th>\n",
       "      <th></th>\n",
       "      <th></th>\n",
       "      <th></th>\n",
       "      <th></th>\n",
       "      <th></th>\n",
       "      <th></th>\n",
       "      <th></th>\n",
       "      <th></th>\n",
       "      <th></th>\n",
       "      <th></th>\n",
       "      <th></th>\n",
       "      <th></th>\n",
       "      <th></th>\n",
       "      <th></th>\n",
       "      <th></th>\n",
       "      <th></th>\n",
       "      <th></th>\n",
       "      <th></th>\n",
       "      <th></th>\n",
       "      <th></th>\n",
       "    </tr>\n",
       "  </thead>\n",
       "  <tbody>\n",
       "    <tr>\n",
       "      <th>156404221326016512</th>\n",
       "      <td>156404221326016512</td>\n",
       "      <td>2012-01-09 16:57:26 CET</td>\n",
       "      <td>2012-01-09</td>\n",
       "      <td>16:57:26</td>\n",
       "      <td>100</td>\n",
       "      <td>36270749</td>\n",
       "      <td>qtaybi</td>\n",
       "      <td>Aybi Advincula</td>\n",
       "      <td>NaN</td>\n",
       "      <td>\"@LieeLuxuriant: Naparanoid naman ako. Nasa MM...</td>\n",
       "      <td>...</td>\n",
       "      <td>NaN</td>\n",
       "      <td>NaN</td>\n",
       "      <td>NaN</td>\n",
       "      <td>NaN</td>\n",
       "      <td>NaN</td>\n",
       "      <td>[]</td>\n",
       "      <td>NaN</td>\n",
       "      <td>NaN</td>\n",
       "      <td>NaN</td>\n",
       "      <td>NaN</td>\n",
       "    </tr>\n",
       "    <tr>\n",
       "      <th>156372760732504066</th>\n",
       "      <td>156364678736527361</td>\n",
       "      <td>2012-01-09 14:52:26 CET</td>\n",
       "      <td>2012-01-09</td>\n",
       "      <td>14:52:26</td>\n",
       "      <td>100</td>\n",
       "      <td>31599828</td>\n",
       "      <td>cecilecd</td>\n",
       "      <td>Ces</td>\n",
       "      <td>NaN</td>\n",
       "      <td>@JoneJoanie yup we fought about it na last Sat...</td>\n",
       "      <td>...</td>\n",
       "      <td>NaN</td>\n",
       "      <td>NaN</td>\n",
       "      <td>NaN</td>\n",
       "      <td>NaN</td>\n",
       "      <td>NaN</td>\n",
       "      <td>[]</td>\n",
       "      <td>NaN</td>\n",
       "      <td>NaN</td>\n",
       "      <td>NaN</td>\n",
       "      <td>NaN</td>\n",
       "    </tr>\n",
       "    <tr>\n",
       "      <th>156359804980445186</th>\n",
       "      <td>156359804980445186</td>\n",
       "      <td>2012-01-09 14:00:57 CET</td>\n",
       "      <td>2012-01-09</td>\n",
       "      <td>14:00:57</td>\n",
       "      <td>100</td>\n",
       "      <td>134240162</td>\n",
       "      <td>eavesdropann</td>\n",
       "      <td>#TeamSidney 🚹 eavesdropann</td>\n",
       "      <td>NaN</td>\n",
       "      <td>RT @ntarc Philippine President Warns Of Possib...</td>\n",
       "      <td>...</td>\n",
       "      <td>NaN</td>\n",
       "      <td>NaN</td>\n",
       "      <td>NaN</td>\n",
       "      <td>NaN</td>\n",
       "      <td>NaN</td>\n",
       "      <td>[]</td>\n",
       "      <td>NaN</td>\n",
       "      <td>NaN</td>\n",
       "      <td>NaN</td>\n",
       "      <td>NaN</td>\n",
       "    </tr>\n",
       "    <tr>\n",
       "      <th>156339068186267649</th>\n",
       "      <td>156339068186267649</td>\n",
       "      <td>2012-01-09 12:38:33 CET</td>\n",
       "      <td>2012-01-09</td>\n",
       "      <td>12:38:33</td>\n",
       "      <td>100</td>\n",
       "      <td>53934450</td>\n",
       "      <td>jembautista</td>\n",
       "      <td>Jem</td>\n",
       "      <td>NaN</td>\n",
       "      <td>RT Abu Sayyaf lang make kidnap you? Eww, cheap...</td>\n",
       "      <td>...</td>\n",
       "      <td>NaN</td>\n",
       "      <td>NaN</td>\n",
       "      <td>NaN</td>\n",
       "      <td>NaN</td>\n",
       "      <td>NaN</td>\n",
       "      <td>[]</td>\n",
       "      <td>NaN</td>\n",
       "      <td>NaN</td>\n",
       "      <td>NaN</td>\n",
       "      <td>NaN</td>\n",
       "    </tr>\n",
       "    <tr>\n",
       "      <th>156252985314390016</th>\n",
       "      <td>156252054690607105</td>\n",
       "      <td>2012-01-09 06:56:29 CET</td>\n",
       "      <td>2012-01-09</td>\n",
       "      <td>06:56:29</td>\n",
       "      <td>100</td>\n",
       "      <td>47643</td>\n",
       "      <td>myrizalist</td>\n",
       "      <td>The Vulcan Of Taal</td>\n",
       "      <td>NaN</td>\n",
       "      <td>@moiragallaga It won't work against the wrist ...</td>\n",
       "      <td>...</td>\n",
       "      <td>NaN</td>\n",
       "      <td>NaN</td>\n",
       "      <td>NaN</td>\n",
       "      <td>NaN</td>\n",
       "      <td>NaN</td>\n",
       "      <td>[]</td>\n",
       "      <td>NaN</td>\n",
       "      <td>NaN</td>\n",
       "      <td>NaN</td>\n",
       "      <td>NaN</td>\n",
       "    </tr>\n",
       "  </tbody>\n",
       "</table>\n",
       "<p>5 rows × 35 columns</p>\n",
       "</div>"
      ],
      "text/plain": [
       "                       conversation_id               created_at        date  \\\n",
       "id                                                                            \n",
       "156404221326016512  156404221326016512  2012-01-09 16:57:26 CET  2012-01-09   \n",
       "156372760732504066  156364678736527361  2012-01-09 14:52:26 CET  2012-01-09   \n",
       "156359804980445186  156359804980445186  2012-01-09 14:00:57 CET  2012-01-09   \n",
       "156339068186267649  156339068186267649  2012-01-09 12:38:33 CET  2012-01-09   \n",
       "156252985314390016  156252054690607105  2012-01-09 06:56:29 CET  2012-01-09   \n",
       "\n",
       "                        time  timezone    user_id      username  \\\n",
       "id                                                                \n",
       "156404221326016512  16:57:26       100   36270749        qtaybi   \n",
       "156372760732504066  14:52:26       100   31599828      cecilecd   \n",
       "156359804980445186  14:00:57       100  134240162  eavesdropann   \n",
       "156339068186267649  12:38:33       100   53934450   jembautista   \n",
       "156252985314390016  06:56:29       100      47643    myrizalist   \n",
       "\n",
       "                                          name place  \\\n",
       "id                                                     \n",
       "156404221326016512              Aybi Advincula   NaN   \n",
       "156372760732504066                         Ces   NaN   \n",
       "156359804980445186  #TeamSidney 🚹 eavesdropann   NaN   \n",
       "156339068186267649                         Jem   NaN   \n",
       "156252985314390016          The Vulcan Of Taal   NaN   \n",
       "\n",
       "                                                                tweet  ...  \\\n",
       "id                                                                     ...   \n",
       "156404221326016512  \"@LieeLuxuriant: Naparanoid naman ako. Nasa MM...  ...   \n",
       "156372760732504066  @JoneJoanie yup we fought about it na last Sat...  ...   \n",
       "156359804980445186  RT @ntarc Philippine President Warns Of Possib...  ...   \n",
       "156339068186267649  RT Abu Sayyaf lang make kidnap you? Eww, cheap...  ...   \n",
       "156252985314390016  @moiragallaga It won't work against the wrist ...  ...   \n",
       "\n",
       "                   geo source user_rt_id user_rt  retweet_id  reply_to  \\\n",
       "id                                                                       \n",
       "156404221326016512 NaN    NaN        NaN     NaN         NaN        []   \n",
       "156372760732504066 NaN    NaN        NaN     NaN         NaN        []   \n",
       "156359804980445186 NaN    NaN        NaN     NaN         NaN        []   \n",
       "156339068186267649 NaN    NaN        NaN     NaN         NaN        []   \n",
       "156252985314390016 NaN    NaN        NaN     NaN         NaN        []   \n",
       "\n",
       "                    retweet_date translate trans_src trans_dest  \n",
       "id                                                               \n",
       "156404221326016512           NaN       NaN       NaN        NaN  \n",
       "156372760732504066           NaN       NaN       NaN        NaN  \n",
       "156359804980445186           NaN       NaN       NaN        NaN  \n",
       "156339068186267649           NaN       NaN       NaN        NaN  \n",
       "156252985314390016           NaN       NaN       NaN        NaN  \n",
       "\n",
       "[5 rows x 35 columns]"
      ]
     },
     "execution_count": 6,
     "metadata": {},
     "output_type": "execute_result"
    }
   ],
   "source": [
    "#Here is an sample output \n",
    "pd.read_csv(SRC + 'sample/raw_data.csv', index_col=0).head()"
   ]
  },
  {
   "cell_type": "markdown",
   "metadata": {},
   "source": [
    "# Aggregating by keywords\n",
    "\n",
    "Once the scrapping done, the current file architecture is not partical to work with: due to the parallelized scrapping, we have one folder per keyword in which there is multiple files containing different periods scrapped. We sometimes divided the scrapping of a big keyword into weeks, resulting in 144 files for a single keyword.\n",
    "We will aggregate the tweets into a single file per keyword for an easier handling of data."
   ]
  },
  {
   "cell_type": "code",
   "execution_count": 7,
   "metadata": {
    "ExecuteTime": {
     "end_time": "2020-12-15T17:32:52.515163Z",
     "start_time": "2020-12-15T17:32:52.503222Z"
    }
   },
   "outputs": [],
   "source": [
    "def concat_files(domain='short_terrorism'):\n",
    "    \"\"\"\n",
    "    Crawl in the specified directory and combine every time periods into one for each keyword.\n",
    "    \"\"\"\n",
    "    walk = os.walk(RAW_DATA + domain)\n",
    "    next(walk)\n",
    "    \n",
    "    if not os.path.isdir(DATA):\n",
    "        os.mkdir(DATA)\n",
    "    \n",
    "    for root, dirs, filenames in walk:\n",
    "        print(root[2:])\n",
    "        combined_df = pd.concat([pd.read_csv(os.path.join(root, f)) for f in filenames])\n",
    "        combined_df.to_csv(DATA + domain + root[2:] + \".csv\")\n"
   ]
  },
  {
   "cell_type": "markdown",
   "metadata": {
    "ExecuteTime": {
     "end_time": "2020-12-15T12:53:16.241994Z",
     "start_time": "2020-12-15T12:53:16.210503Z"
    }
   },
   "source": [
    "Given the `raw_data` folder, all is left is to call the function twice: `concat_files('short_terrorism')` and `concat_files('domestic_security')` in order to create the `data` folder containing a single file for each keyword."
   ]
  },
  {
   "cell_type": "markdown",
   "metadata": {},
   "source": [
    "# Monthly tweet count\n",
    "\n",
    "What we have now is a single file for each keyword, recording all tweets posted during our time frame. In order to analyze the evolution of the number of tweets, we need to count how many tweets are posted every month. The result will be two files in the `monthly_count` folder: `short_terrorism.csv` and `domestic_security.csv` containing the monthly tweet counts per keyword. "
   ]
  },
  {
   "cell_type": "code",
   "execution_count": 8,
   "metadata": {
    "ExecuteTime": {
     "end_time": "2020-12-15T17:32:52.534947Z",
     "start_time": "2020-12-15T17:32:52.522141Z"
    }
   },
   "outputs": [],
   "source": [
    "def count_monthly_views(init, path, keyword):\n",
    "    \"\"\"\n",
    "    Read the file at `path` and counts the number of tweets per month containing the `keyword`.\n",
    "    :param init: empty dataframe listing every days of the time period, it is used to set the count of \n",
    "    days with no tweets to 0.\n",
    "    :param path: file path to the csv\n",
    "    :param keyword: keyword name\n",
    "    \"\"\"\n",
    "    df = pd.read_csv(path)\n",
    "    df[\"date\"] = pd.to_datetime(df.date)\n",
    "    count = df.groupby(\"date\").count()[['id']].rename(columns={'id':'tweets'})\n",
    "    entire_period = (init + count).fillna(value=0)\n",
    "    entire_period['tweets'] = entire_period.tweets.astype(int)\n",
    "    entire_period['keyword'] = keyword\n",
    "    return entire_period.reset_index()\n",
    "\n",
    "def compute_count():\n",
    "    \"\"\"\n",
    "    Computes the monthly views for every keyword and write the outputs in `monthly_count`\n",
    "    \"\"\"\n",
    "    start_date = datetime(2012, 1, 1)\n",
    "    end_date = datetime(2014,12,31)\n",
    "    \n",
    "    #Create an zero-filled df listing every days of the period in order to set the count of days\n",
    "    #with no tweets to 0.\n",
    "    dates = pd.date_range(start_date,end_date,freq='d', name='date')\n",
    "    init = pd.DataFrame(data=np.zeros((len(dates),1)), columns=['tweets'],index=dates, dtype=int)\n",
    "    \n",
    "    for folder in DOMAINS[:2]:\n",
    "        counts = pd.DataFrame(columns=[\"date\", 'tweets', 'keyword'])\n",
    "        for file in sorted(os.listdir(DATA + folder)):\n",
    "            print(file)\n",
    "            keyword = file.split('.csv')[0]\n",
    "            counts = counts.append(count_monthly_views(init, DATA + folder + '/' + file, keyword))\n",
    "        counts.to_csv(MONTHLY_COUNT + folder + '.csv')"
   ]
  },
  {
   "cell_type": "markdown",
   "metadata": {
    "ExecuteTime": {
     "end_time": "2020-12-15T09:37:45.035663Z",
     "start_time": "2020-12-15T09:37:45.028494Z"
    }
   },
   "source": [
    "Given the `data` folder, running `compute_count()` counts the  number of tweets per month for each keyword and write the outputs in `monthly_count`."
   ]
  },
  {
   "cell_type": "markdown",
   "metadata": {},
   "source": [
    "As described in the report, our input is two csv files, in the same format as the Wikipedia views from the paper but with a number of tweets per day and per subject instead. On this dataset, we will perform some cleaning, then exploration of the data, and finally an in-depth analysis."
   ]
  },
  {
   "cell_type": "markdown",
   "metadata": {},
   "source": [
    "# Loading\n",
    "\n",
    "Now that the data scrapping is done let's start working on the data."
   ]
  },
  {
   "cell_type": "code",
   "execution_count": 9,
   "metadata": {
    "ExecuteTime": {
     "end_time": "2020-12-15T17:32:52.603153Z",
     "start_time": "2020-12-15T17:32:52.541647Z"
    }
   },
   "outputs": [],
   "source": [
    "terrorism_raw = pd.read_csv(TERRORISM_COUNT, index_col=0)\n",
    "domestic_raw = pd.read_csv(DOMESTIC_COUNT, index_col=0)"
   ]
  },
  {
   "cell_type": "code",
   "execution_count": 10,
   "metadata": {
    "ExecuteTime": {
     "end_time": "2020-12-15T17:32:52.623974Z",
     "start_time": "2020-12-15T17:32:52.605567Z"
    }
   },
   "outputs": [
    {
     "name": "stdout",
     "output_type": "stream",
     "text": [
      "29592\n"
     ]
    },
    {
     "data": {
      "text/html": [
       "<div>\n",
       "<style scoped>\n",
       "    .dataframe tbody tr th:only-of-type {\n",
       "        vertical-align: middle;\n",
       "    }\n",
       "\n",
       "    .dataframe tbody tr th {\n",
       "        vertical-align: top;\n",
       "    }\n",
       "\n",
       "    .dataframe thead th {\n",
       "        text-align: right;\n",
       "    }\n",
       "</style>\n",
       "<table border=\"1\" class=\"dataframe\">\n",
       "  <thead>\n",
       "    <tr style=\"text-align: right;\">\n",
       "      <th></th>\n",
       "      <th>date</th>\n",
       "      <th>tweets</th>\n",
       "      <th>keyword</th>\n",
       "    </tr>\n",
       "  </thead>\n",
       "  <tbody>\n",
       "    <tr>\n",
       "      <th>0</th>\n",
       "      <td>2012-01-01</td>\n",
       "      <td>7</td>\n",
       "      <td>abu_sayyaf</td>\n",
       "    </tr>\n",
       "    <tr>\n",
       "      <th>1</th>\n",
       "      <td>2012-01-02</td>\n",
       "      <td>1</td>\n",
       "      <td>abu_sayyaf</td>\n",
       "    </tr>\n",
       "    <tr>\n",
       "      <th>2</th>\n",
       "      <td>2012-01-03</td>\n",
       "      <td>5</td>\n",
       "      <td>abu_sayyaf</td>\n",
       "    </tr>\n",
       "    <tr>\n",
       "      <th>3</th>\n",
       "      <td>2012-01-04</td>\n",
       "      <td>22</td>\n",
       "      <td>abu_sayyaf</td>\n",
       "    </tr>\n",
       "    <tr>\n",
       "      <th>4</th>\n",
       "      <td>2012-01-05</td>\n",
       "      <td>93</td>\n",
       "      <td>abu_sayyaf</td>\n",
       "    </tr>\n",
       "  </tbody>\n",
       "</table>\n",
       "</div>"
      ],
      "text/plain": [
       "         date  tweets     keyword\n",
       "0  2012-01-01       7  abu_sayyaf\n",
       "1  2012-01-02       1  abu_sayyaf\n",
       "2  2012-01-03       5  abu_sayyaf\n",
       "3  2012-01-04      22  abu_sayyaf\n",
       "4  2012-01-05      93  abu_sayyaf"
      ]
     },
     "execution_count": 10,
     "metadata": {},
     "output_type": "execute_result"
    }
   ],
   "source": [
    "print(len(terrorism_raw))\n",
    "terrorism_raw.head()"
   ]
  },
  {
   "cell_type": "code",
   "execution_count": 11,
   "metadata": {
    "ExecuteTime": {
     "end_time": "2020-12-15T17:32:52.658031Z",
     "start_time": "2020-12-15T17:32:52.627565Z"
    },
    "scrolled": true
   },
   "outputs": [
    {
     "name": "stdout",
     "output_type": "stream",
     "text": [
      "26304\n"
     ]
    },
    {
     "data": {
      "text/html": [
       "<div>\n",
       "<style scoped>\n",
       "    .dataframe tbody tr th:only-of-type {\n",
       "        vertical-align: middle;\n",
       "    }\n",
       "\n",
       "    .dataframe tbody tr th {\n",
       "        vertical-align: top;\n",
       "    }\n",
       "\n",
       "    .dataframe thead th {\n",
       "        text-align: right;\n",
       "    }\n",
       "</style>\n",
       "<table border=\"1\" class=\"dataframe\">\n",
       "  <thead>\n",
       "    <tr style=\"text-align: right;\">\n",
       "      <th></th>\n",
       "      <th>date</th>\n",
       "      <th>tweets</th>\n",
       "      <th>keyword</th>\n",
       "    </tr>\n",
       "  </thead>\n",
       "  <tbody>\n",
       "    <tr>\n",
       "      <th>0</th>\n",
       "      <td>2012-01-01</td>\n",
       "      <td>11</td>\n",
       "      <td>air_marshal</td>\n",
       "    </tr>\n",
       "    <tr>\n",
       "      <th>1</th>\n",
       "      <td>2012-01-02</td>\n",
       "      <td>13</td>\n",
       "      <td>air_marshal</td>\n",
       "    </tr>\n",
       "    <tr>\n",
       "      <th>2</th>\n",
       "      <td>2012-01-03</td>\n",
       "      <td>9</td>\n",
       "      <td>air_marshal</td>\n",
       "    </tr>\n",
       "    <tr>\n",
       "      <th>3</th>\n",
       "      <td>2012-01-04</td>\n",
       "      <td>9</td>\n",
       "      <td>air_marshal</td>\n",
       "    </tr>\n",
       "    <tr>\n",
       "      <th>4</th>\n",
       "      <td>2012-01-05</td>\n",
       "      <td>7</td>\n",
       "      <td>air_marshal</td>\n",
       "    </tr>\n",
       "  </tbody>\n",
       "</table>\n",
       "</div>"
      ],
      "text/plain": [
       "         date  tweets      keyword\n",
       "0  2012-01-01      11  air_marshal\n",
       "1  2012-01-02      13  air_marshal\n",
       "2  2012-01-03       9  air_marshal\n",
       "3  2012-01-04       9  air_marshal\n",
       "4  2012-01-05       7  air_marshal"
      ]
     },
     "execution_count": 11,
     "metadata": {},
     "output_type": "execute_result"
    }
   ],
   "source": [
    "print(len(domestic_raw))\n",
    "domestic_raw.head()"
   ]
  },
  {
   "cell_type": "markdown",
   "metadata": {},
   "source": [
    "Nothing to comment as of yet. We only have the columns that are of use to us, which are the date and keyword as well as the number of tweets for this combination"
   ]
  },
  {
   "cell_type": "markdown",
   "metadata": {},
   "source": [
    "# Cleaning"
   ]
  },
  {
   "cell_type": "code",
   "execution_count": 12,
   "metadata": {
    "ExecuteTime": {
     "end_time": "2020-12-15T17:32:52.688126Z",
     "start_time": "2020-12-15T17:32:52.661547Z"
    }
   },
   "outputs": [
    {
     "name": "stdout",
     "output_type": "stream",
     "text": [
      "Columns types in the terrorism dataset: \n",
      " date       object\n",
      "tweets      int64\n",
      "keyword    object\n",
      "dtype: object\n",
      "Columns types in the domestic security dataset: \n",
      " date       object\n",
      "tweets      int64\n",
      "keyword    object\n",
      "dtype: object\n",
      "Number of terrorism keywords:  27\n",
      "Number of domestic security keywords:  24\n",
      "The number of dates in each dataset should be equal: 1096 and 1096\n"
     ]
    }
   ],
   "source": [
    "# We check the types of the columns, as well as the number of keywords and dates\n",
    "print('Columns types in the terrorism dataset: \\n', terrorism_raw.dtypes)\n",
    "print('Columns types in the domestic security dataset: \\n', domestic_raw.dtypes)\n",
    "print('Number of terrorism keywords: ', terrorism_raw.keyword.nunique())\n",
    "print('Number of domestic security keywords: ', domestic_raw.keyword.nunique())\n",
    "print('The number of dates in each dataset should be equal: {} and {}'.format(domestic_raw.date.nunique(), terrorism_raw.date.nunique()))"
   ]
  },
  {
   "cell_type": "code",
   "execution_count": 13,
   "metadata": {
    "ExecuteTime": {
     "end_time": "2020-12-15T17:32:52.716404Z",
     "start_time": "2020-12-15T17:32:52.692864Z"
    }
   },
   "outputs": [],
   "source": [
    "# Converting date types from String to datetime\n",
    "terrorism_raw['date'] = pd.to_datetime(terrorism_raw.date)\n",
    "domestic_raw['date'] = pd.to_datetime(domestic_raw.date)"
   ]
  },
  {
   "cell_type": "code",
   "execution_count": 14,
   "metadata": {
    "ExecuteTime": {
     "end_time": "2020-12-15T17:32:52.736973Z",
     "start_time": "2020-12-15T17:32:52.719531Z"
    },
    "scrolled": true
   },
   "outputs": [
    {
     "name": "stdout",
     "output_type": "stream",
     "text": [
      "date       0\n",
      "tweets     0\n",
      "keyword    0\n",
      "dtype: int64\n",
      "date       0\n",
      "tweets     0\n",
      "keyword    0\n",
      "dtype: int64\n"
     ]
    }
   ],
   "source": [
    "# Checking that we do not have any invalid values\n",
    "print(terrorism_raw.isna().sum())\n",
    "print(domestic_raw.isna().sum())"
   ]
  },
  {
   "cell_type": "code",
   "execution_count": 15,
   "metadata": {
    "ExecuteTime": {
     "end_time": "2020-12-15T17:32:52.754368Z",
     "start_time": "2020-12-15T17:32:52.741751Z"
    }
   },
   "outputs": [
    {
     "name": "stdout",
     "output_type": "stream",
     "text": [
      "2012-01-01 00:00:00 2014-12-31 00:00:00\n",
      "2012-01-01 00:00:00 2014-12-31 00:00:00\n"
     ]
    }
   ],
   "source": [
    "# Checking that the dates start and end at the right time\n",
    "print(terrorism_raw.date.min(), terrorism_raw.date.max())\n",
    "print(domestic_raw.date.min(), domestic_raw.date.max())"
   ]
  },
  {
   "cell_type": "code",
   "execution_count": 16,
   "metadata": {
    "ExecuteTime": {
     "end_time": "2020-12-15T17:32:52.768604Z",
     "start_time": "2020-12-15T17:32:52.760139Z"
    }
   },
   "outputs": [],
   "source": [
    "terrorism_df = terrorism_raw.copy()\n",
    "domestic_df = domestic_raw.copy()"
   ]
  },
  {
   "cell_type": "markdown",
   "metadata": {},
   "source": [
    "Now that we know our datasets have no obvious anomalies, and all our data types are coherent, we can start the exploration phase."
   ]
  },
  {
   "cell_type": "markdown",
   "metadata": {},
   "source": [
    "# Exploration"
   ]
  },
  {
   "cell_type": "code",
   "execution_count": 17,
   "metadata": {
    "ExecuteTime": {
     "end_time": "2020-12-15T17:32:52.783251Z",
     "start_time": "2020-12-15T17:32:52.771830Z"
    }
   },
   "outputs": [],
   "source": [
    "def plot_keywords_monthly(df, sample=False):\n",
    "    \"\"\"\n",
    "    For a given dataframe, plots the views per month. Plot a random keyword is `sample` is \n",
    "    `True` and all of them otherwise.\n",
    "    \"\"\"\n",
    "    keywords = df.keyword.unique()\n",
    "    \n",
    "    if sample:\n",
    "        index = np.random.randint(len(keywords))\n",
    "        keywords = [keywords[index]]\n",
    "        \n",
    "    for keyword in keywords:\n",
    "        monthly = df[df.keyword == keyword].groupby(pd.Grouper(key='date', freq='M')).sum()\n",
    "        plt.figure(figsize=(15,3))\n",
    "        sns.scatterplot(x='date', y='tweets', data=monthly)\n",
    "        plt.title(keyword)\n",
    "        plt.show()"
   ]
  },
  {
   "cell_type": "markdown",
   "metadata": {},
   "source": [
    "The first exploratory step is to look at the views per keyword, but since we don't want to plot every day as it would be too many datapoints and be unreadable we will group them by month."
   ]
  },
  {
   "cell_type": "code",
   "execution_count": 18,
   "metadata": {
    "ExecuteTime": {
     "end_time": "2020-12-15T17:32:53.390270Z",
     "start_time": "2020-12-15T17:32:52.786521Z"
    },
    "scrolled": true
   },
   "outputs": [
    {
     "data": {
      "image/png": "[encoded data removed]",
      "text/plain": [
       "<Figure size 1080x216 with 1 Axes>"
      ]
     },
     "metadata": {
      "needs_background": "light"
     },
     "output_type": "display_data"
    }
   ],
   "source": [
    "plot_keywords_monthly(terrorism_df, sample=True)"
   ]
  },
  {
   "cell_type": "code",
   "execution_count": 19,
   "metadata": {
    "ExecuteTime": {
     "end_time": "2020-12-15T17:32:53.897158Z",
     "start_time": "2020-12-15T17:32:53.403403Z"
    },
    "scrolled": true
   },
   "outputs": [
    {
     "data": {
      "image/png": "[encoded data removed]",
      "text/plain": [
       "<Figure size 1080x216 with 1 Axes>"
      ]
     },
     "metadata": {
      "needs_background": "light"
     },
     "output_type": "display_data"
    }
   ],
   "source": [
    "plot_keywords_monthly(domestic_df, sample=True)"
   ]
  },
  {
   "cell_type": "markdown",
   "metadata": {},
   "source": [
    "We observe that for individual keywords, the tweet count is quite irregular. Let us look at the global trend by aggregating every keyword."
   ]
  },
  {
   "cell_type": "code",
   "execution_count": 20,
   "metadata": {
    "ExecuteTime": {
     "end_time": "2020-12-15T17:32:53.949974Z",
     "start_time": "2020-12-15T17:32:53.901773Z"
    }
   },
   "outputs": [],
   "source": [
    "monthly_terrorism_df = terrorism_df.groupby(pd.Grouper(key='date', freq='M')).sum().reset_index()\n",
    "monthly_domestic_df = domestic_df.groupby(pd.Grouper(key='date', freq='M')).sum().reset_index()"
   ]
  },
  {
   "cell_type": "code",
   "execution_count": 21,
   "metadata": {
    "ExecuteTime": {
     "end_time": "2020-12-15T17:32:54.977582Z",
     "start_time": "2020-12-15T17:32:53.956853Z"
    }
   },
   "outputs": [
    {
     "data": {
      "image/png": "[encoded data removed]",
      "text/plain": [
       "<Figure size 1080x360 with 1 Axes>"
      ]
     },
     "metadata": {
      "needs_background": "light"
     },
     "output_type": "display_data"
    },
    {
     "data": {
      "image/png": "[encoded data removed]",
      "text/plain": [
       "<Figure size 1080x360 with 1 Axes>"
      ]
     },
     "metadata": {
      "needs_background": "light"
     },
     "output_type": "display_data"
    }
   ],
   "source": [
    "def plot_global_trend(df, title):\n",
    "    \"\"\"Plot the number of tweets per day contained in the given dataframe.\"\"\"\n",
    "    plt.figure(figsize=(15,5))\n",
    "    sns.scatterplot(x='date', y='tweets', data=df)\n",
    "    plt.title(title)\n",
    "\n",
    "plot_global_trend(monthly_terrorism_df, 'Terrorism keywords')\n",
    "plot_global_trend(monthly_domestic_df, 'Domestic security keywords')"
   ]
  },
  {
   "cell_type": "markdown",
   "metadata": {},
   "source": [
    "Here the data is not as irregular but we still have some peaks at various points in time and not a stable trend. However, we might have a few keywords with a high number of tweets skewing our results. We will try to do the same plots, but we will first process the dataset in the following way: \n",
    "\n",
    "For each keyword, we will normalize the number of tweets each month by dividing it by the maximum number of tweets on any given month, so that the resulting value is between 0 and 1, but the trend will look the same. This way every keyword gives an equal contribution to the global trend. \n",
    "This makes sense because we are interested in trends for each keyword individually, and this will not be modified by this operation."
   ]
  },
  {
   "cell_type": "code",
   "execution_count": 22,
   "metadata": {
    "ExecuteTime": {
     "end_time": "2020-12-15T17:32:55.595234Z",
     "start_time": "2020-12-15T17:32:54.984887Z"
    }
   },
   "outputs": [
    {
     "data": {
      "image/png": "[encoded data removed]",
      "text/plain": [
       "<Figure size 1080x216 with 1 Axes>"
      ]
     },
     "metadata": {
      "needs_background": "light"
     },
     "output_type": "display_data"
    }
   ],
   "source": [
    "# Here is an example of this operation on a single keyword :\n",
    "keyword = 'al-qaeda'\n",
    "monthly = terrorism_df[terrorism_df.keyword == keyword].groupby(pd.Grouper(key='date', freq='M')).sum()\n",
    "monthly['tweets'] = monthly.tweets/monthly.tweets.max() # Here we divide by max tweets in a month\n",
    "plt.figure(figsize=(15,3))\n",
    "sns.scatterplot(x='date', y='tweets', data=monthly)\n",
    "plt.title(keyword)\n",
    "plt.show()\n",
    "# As we can see, the only the y-axis changed, but the relative values are the same"
   ]
  },
  {
   "cell_type": "code",
   "execution_count": 23,
   "metadata": {
    "ExecuteTime": {
     "end_time": "2020-12-15T17:32:57.777362Z",
     "start_time": "2020-12-15T17:32:55.614828Z"
    }
   },
   "outputs": [
    {
     "data": {
      "image/png": "[encoded data removed]",
      "text/plain": [
       "<Figure size 1080x360 with 1 Axes>"
      ]
     },
     "metadata": {
      "needs_background": "light"
     },
     "output_type": "display_data"
    },
    {
     "data": {
      "image/png": "[encoded data removed]",
      "text/plain": [
       "<Figure size 1080x360 with 1 Axes>"
      ]
     },
     "metadata": {
      "needs_background": "light"
     },
     "output_type": "display_data"
    }
   ],
   "source": [
    "# Now we apply this operation on all keywords before summing\n",
    "def normalize_df_and_plot_monthly(df, title):\n",
    "    \"\"\"Normalize the keywords in df by dividing the keywords counts by their respective maximum monthly counts.\"\"\"\n",
    "    copy = df.copy()\n",
    "    for keyword in copy.keyword.unique():\n",
    "        #Compute the monthly counts\n",
    "        monthly = copy[copy.keyword == keyword].groupby(pd.Grouper(key='date', freq='M')).sum()\n",
    "        #Normalize the current keyword counts\n",
    "        copy.tweets = np.where(copy.keyword == keyword, copy.tweets/monthly.tweets.max(), copy.tweets)\n",
    "    norm_monthly_df = copy.groupby(pd.Grouper(key='date', freq='M')).sum().reset_index()\n",
    "    \n",
    "    #Plot the normalized dataframe\n",
    "    plt.figure(figsize=(15,5))\n",
    "    sns.scatterplot(x='date', y='tweets', data=norm_monthly_df)\n",
    "    plt.title(title)\n",
    "    return norm_monthly_df\n",
    "\n",
    "normalized_terrorism_df = normalize_df_and_plot_monthly(terrorism_df, 'Terrorism normalized counts')\n",
    "normalized_domestic_df = normalize_df_and_plot_monthly(domestic_df, 'Domestic security normalized counts')"
   ]
  },
  {
   "cell_type": "markdown",
   "metadata": {},
   "source": [
    "However an issue arises now because keywords with very few tweets might be very irregular since stability comes from having a lot of users taking turns tweeting about a subjects. For instance, the trend of a keyword that is only tweeted by 10 people might be severely affected if only one of them stops. We will look at the mean number of tweets per subject and take out keywords with under 100 tweets per day on average."
   ]
  },
  {
   "cell_type": "code",
   "execution_count": 24,
   "metadata": {
    "ExecuteTime": {
     "end_time": "2020-12-15T17:32:58.039476Z",
     "start_time": "2020-12-15T17:32:57.810680Z"
    }
   },
   "outputs": [
    {
     "name": "stdout",
     "output_type": "stream",
     "text": [
      "Eliminated 16 keywords out of 27\n",
      "Eliminated 17 keywords out of 24\n"
     ]
    }
   ],
   "source": [
    "def eliminate_low_tweets(df):\n",
    "    df_means = df.groupby(pd.Grouper(key='keyword')).mean()\n",
    "    nb_keywords = df_means.index.nunique()\n",
    "    df_means = df_means[df_means.tweets > 100.0]\n",
    "    new_nb_keywords = df_means.index.nunique()\n",
    "    print('Eliminated {} keywords out of {}'.format(nb_keywords - new_nb_keywords, nb_keywords))\n",
    "    return df[df.keyword.isin(df_means.index)]\n",
    "\n",
    "filtered_terrorism_df = eliminate_low_tweets(terrorism_df)\n",
    "filtered_domestic_df = eliminate_low_tweets(domestic_df)"
   ]
  },
  {
   "cell_type": "code",
   "execution_count": 25,
   "metadata": {
    "ExecuteTime": {
     "end_time": "2020-12-15T17:32:59.131697Z",
     "start_time": "2020-12-15T17:32:58.103223Z"
    }
   },
   "outputs": [
    {
     "data": {
      "image/png": "[encoded data removed]",
      "text/plain": [
       "<Figure size 1080x360 with 1 Axes>"
      ]
     },
     "metadata": {
      "needs_background": "light"
     },
     "output_type": "display_data"
    },
    {
     "data": {
      "image/png": "[encoded data removed]",
      "text/plain": [
       "<Figure size 1080x360 with 1 Axes>"
      ]
     },
     "metadata": {
      "needs_background": "light"
     },
     "output_type": "display_data"
    }
   ],
   "source": [
    "final_terrorism_df = normalize_df_and_plot_monthly(filtered_terrorism_df, 'Terrorism normalized and filtered counts')\n",
    "final_domestic_df = normalize_df_and_plot_monthly(filtered_domestic_df, 'Domestic security  normalized and filtered counts')"
   ]
  },
  {
   "cell_type": "markdown",
   "metadata": {},
   "source": [
    "The trends look somewhat smoother now. We can proceed with the analysis"
   ]
  },
  {
   "cell_type": "markdown",
   "metadata": {},
   "source": [
    "# Data analysis"
   ]
  },
  {
   "cell_type": "code",
   "execution_count": 26,
   "metadata": {
    "ExecuteTime": {
     "end_time": "2020-12-15T17:32:59.183410Z",
     "start_time": "2020-12-15T17:32:59.135501Z"
    }
   },
   "outputs": [
    {
     "data": {
      "text/html": [
       "<div>\n",
       "<style scoped>\n",
       "    .dataframe tbody tr th:only-of-type {\n",
       "        vertical-align: middle;\n",
       "    }\n",
       "\n",
       "    .dataframe tbody tr th {\n",
       "        vertical-align: top;\n",
       "    }\n",
       "\n",
       "    .dataframe thead th {\n",
       "        text-align: right;\n",
       "    }\n",
       "</style>\n",
       "<table border=\"1\" class=\"dataframe\">\n",
       "  <thead>\n",
       "    <tr style=\"text-align: right;\">\n",
       "      <th></th>\n",
       "      <th>date</th>\n",
       "      <th>tweets_security</th>\n",
       "      <th>tweets_terrorism</th>\n",
       "    </tr>\n",
       "  </thead>\n",
       "  <tbody>\n",
       "    <tr>\n",
       "      <th>0</th>\n",
       "      <td>2012-01-31</td>\n",
       "      <td>1.727746</td>\n",
       "      <td>3.054700</td>\n",
       "    </tr>\n",
       "    <tr>\n",
       "      <th>1</th>\n",
       "      <td>2012-02-29</td>\n",
       "      <td>1.734141</td>\n",
       "      <td>3.290300</td>\n",
       "    </tr>\n",
       "    <tr>\n",
       "      <th>2</th>\n",
       "      <td>2012-03-31</td>\n",
       "      <td>1.886777</td>\n",
       "      <td>3.568069</td>\n",
       "    </tr>\n",
       "    <tr>\n",
       "      <th>3</th>\n",
       "      <td>2012-04-30</td>\n",
       "      <td>3.081733</td>\n",
       "      <td>3.156634</td>\n",
       "    </tr>\n",
       "    <tr>\n",
       "      <th>4</th>\n",
       "      <td>2012-05-31</td>\n",
       "      <td>1.971143</td>\n",
       "      <td>4.112672</td>\n",
       "    </tr>\n",
       "  </tbody>\n",
       "</table>\n",
       "</div>"
      ],
      "text/plain": [
       "        date  tweets_security  tweets_terrorism\n",
       "0 2012-01-31         1.727746          3.054700\n",
       "1 2012-02-29         1.734141          3.290300\n",
       "2 2012-03-31         1.886777          3.568069\n",
       "3 2012-04-30         3.081733          3.156634\n",
       "4 2012-05-31         1.971143          4.112672"
      ]
     },
     "execution_count": 26,
     "metadata": {},
     "output_type": "execute_result"
    }
   ],
   "source": [
    "# We start by merging both dataframes\n",
    "total_tweets = final_domestic_df.copy()\n",
    "total_tweets = total_tweets.rename(columns={\"tweets\": \"tweets_security\"})\n",
    "total_tweets['tweets_terrorism'] = final_terrorism_df['tweets']\n",
    "\n",
    "# Then we sort by month, and reset the index to have them numbered in increasing order\n",
    "total_tweets = total_tweets.sort_values('date')\n",
    "total_tweets.head()"
   ]
  },
  {
   "cell_type": "markdown",
   "metadata": {},
   "source": [
    "Now we perform the Interrupted Time Series analysis\n",
    "\n",
    "The regression formula is as follows : $$Y_t = \\beta_0 + \\beta_1\\times time + \\beta_2\\times intervention + \\beta_3\\times postslope + \\epsilon_{1}$$\n",
    "\n",
    "Where $Y_t$ is the views at time $t$, the $\\beta$ are the parameters of the model, and $\\epsilon_1$ is the residuals\n",
    "\n",
    "There are 3 variables that are used to predict the total views :\n",
    "\n",
    "`time`, `intervention` and `postslope`. I will create a column for each in the dataframe :\n",
    "\n",
    "- Time: This is just the current month, from 1 to 32\n",
    "- Intervention: Whether or not the interruption has happened already (0 for the first 17 months, then 1)\n",
    "- Postslope: The time since the interruption (0 for the first 17 months, then $time - 17$)"
   ]
  },
  {
   "cell_type": "code",
   "execution_count": 27,
   "metadata": {
    "ExecuteTime": {
     "end_time": "2020-12-15T17:32:59.210537Z",
     "start_time": "2020-12-15T17:32:59.187528Z"
    }
   },
   "outputs": [],
   "source": [
    "# Now we create those variables in our dataframe\n",
    "def create_ITS_variables(df):\n",
    "    df['time'] = df.index+1\n",
    "    df['intervention'] = np.where(df['time'] <= 17, 0, 1)\n",
    "    df['postslope'] = (df.time - 17) * df.intervention\n",
    "    \n",
    "create_ITS_variables(total_tweets)"
   ]
  },
  {
   "cell_type": "code",
   "execution_count": 28,
   "metadata": {
    "ExecuteTime": {
     "end_time": "2020-12-15T17:32:59.298964Z",
     "start_time": "2020-12-15T17:32:59.213764Z"
    },
    "scrolled": false
   },
   "outputs": [
    {
     "name": "stdout",
     "output_type": "stream",
     "text": [
      "\n",
      "terrorism model :\n",
      "                            OLS Regression Results                            \n",
      "==============================================================================\n",
      "Dep. Variable:       tweets_terrorism   R-squared:                       0.484\n",
      "Model:                            OLS   Adj. R-squared:                  0.435\n",
      "Method:                 Least Squares   F-statistic:                     9.990\n",
      "Date:                Tue, 15 Dec 2020   Prob (F-statistic):           8.46e-05\n",
      "Time:                        18:32:59   Log-Likelihood:                -33.905\n",
      "No. Observations:                  36   AIC:                             75.81\n",
      "Df Residuals:                      32   BIC:                             82.14\n",
      "Df Model:                           3                                         \n",
      "Covariance Type:            nonrobust                                         \n",
      "================================================================================\n",
      "                   coef    std err          t      P>|t|      [0.025      0.975]\n",
      "--------------------------------------------------------------------------------\n",
      "Intercept        3.1010      0.334      9.287      0.000       2.421       3.781\n",
      "time             0.1076      0.033      3.302      0.002       0.041       0.174\n",
      "intervention    -0.9767      0.438     -2.227      0.033      -1.870      -0.084\n",
      "postslope       -0.0257      0.043     -0.602      0.551      -0.113       0.061\n",
      "==============================================================================\n",
      "Omnibus:                        0.377   Durbin-Watson:                   1.639\n",
      "Prob(Omnibus):                  0.828   Jarque-Bera (JB):                0.481\n",
      "Skew:                           0.214   Prob(JB):                        0.786\n",
      "Kurtosis:                       2.629   Cond. No.                         95.9\n",
      "==============================================================================\n",
      "\n",
      "Warnings:\n",
      "[1] Standard Errors assume that the covariance matrix of the errors is correctly specified.\n",
      "\n",
      "security model :\n",
      "                            OLS Regression Results                            \n",
      "==============================================================================\n",
      "Dep. Variable:        tweets_security   R-squared:                       0.164\n",
      "Model:                            OLS   Adj. R-squared:                  0.086\n",
      "Method:                 Least Squares   F-statistic:                     2.098\n",
      "Date:                Tue, 15 Dec 2020   Prob (F-statistic):              0.120\n",
      "Time:                        18:32:59   Log-Likelihood:                -21.876\n",
      "No. Observations:                  36   AIC:                             51.75\n",
      "Df Residuals:                      32   BIC:                             58.09\n",
      "Df Model:                           3                                         \n",
      "Covariance Type:            nonrobust                                         \n",
      "================================================================================\n",
      "                   coef    std err          t      P>|t|      [0.025      0.975]\n",
      "--------------------------------------------------------------------------------\n",
      "Intercept        2.1125      0.239      8.837      0.000       1.626       2.599\n",
      "time             0.0136      0.023      0.583      0.564      -0.034       0.061\n",
      "intervention    -0.3733      0.314     -1.189      0.243      -1.013       0.266\n",
      "postslope        0.0297      0.031      0.972      0.338      -0.033       0.092\n",
      "==============================================================================\n",
      "Omnibus:                        6.685   Durbin-Watson:                   1.106\n",
      "Prob(Omnibus):                  0.035   Jarque-Bera (JB):                5.301\n",
      "Skew:                           0.886   Prob(JB):                       0.0706\n",
      "Kurtosis:                       3.629   Cond. No.                         95.9\n",
      "==============================================================================\n",
      "\n",
      "Warnings:\n",
      "[1] Standard Errors assume that the covariance matrix of the errors is correctly specified.\n"
     ]
    },
    {
     "name": "stderr",
     "output_type": "stream",
     "text": [
      "/Applications/anaconda3/lib/python3.7/site-packages/statsmodels/compat/pandas.py:23: FutureWarning: The Panel class is removed from pandas. Accessing it from the top-level namespace will also be removed in the next version\n",
      "  data_klasses = (pandas.Series, pandas.DataFrame, pandas.Panel)\n"
     ]
    }
   ],
   "source": [
    "# Now that all our variables are ready, we can fit our regressions (one for each dataset)\n",
    "def regression_model(df, name, prefix='tweets'):\n",
    "    # Declaring the model\n",
    "    print('\\n{} model :'.format(name))\n",
    "    model = smf.ols(formula='{}_{} ~ time + intervention + postslope'.format(prefix, name), data=df)\n",
    "\n",
    "    # Fitting the model\n",
    "    np.random.seed(1)\n",
    "    result = model.fit()\n",
    "\n",
    "    # Checking the results\n",
    "    print(result.summary())\n",
    "    return result\n",
    "\n",
    "result_terrorism = regression_model(total_tweets, 'terrorism')\n",
    "result_security = regression_model(total_tweets, 'security')"
   ]
  },
  {
   "cell_type": "markdown",
   "metadata": {},
   "source": [
    "For the first model, the terrorism keywords, we find an adjusted R-squared value of 0.435, which means that even when accounting for the number of parameters, there is quite a strong explanatory power. Indeed, our p-value for `time` is very close to zero, and even though the p-value for `intervention` is higher, is is still under 0.05, which suggests a significance in this result. On the other hand, the p-value of `postslope` is greater than 0.05 which  means that the statistical significance for this parameter is very weak. So overall, the results point to an immediate decrease in tweets after the Snowden revelations (intervention = -0.37) but no significant change in the upwards post-intervention trend.\n",
    "\n",
    "For the second model, we only have R-squared = 0.164 which is not very high, but when adjusting for the number of parameters, the explanatory power falls to 0.086. Furthermore, all p-values are above 0.2, only suggesting at best a very weak predictive power for both `intervention` and `postslope`. It seems like the model is not very relevant for this set of keywords. This is expected from keywords which were not supposed to be affected by Chilling Effects."
   ]
  },
  {
   "cell_type": "code",
   "execution_count": 29,
   "metadata": {
    "ExecuteTime": {
     "end_time": "2020-12-15T17:32:59.378808Z",
     "start_time": "2020-12-15T17:32:59.306647Z"
    },
    "scrolled": true
   },
   "outputs": [
    {
     "data": {
      "text/html": [
       "<div>\n",
       "<style scoped>\n",
       "    .dataframe tbody tr th:only-of-type {\n",
       "        vertical-align: middle;\n",
       "    }\n",
       "\n",
       "    .dataframe tbody tr th {\n",
       "        vertical-align: top;\n",
       "    }\n",
       "\n",
       "    .dataframe thead th {\n",
       "        text-align: right;\n",
       "    }\n",
       "</style>\n",
       "<table border=\"1\" class=\"dataframe\">\n",
       "  <thead>\n",
       "    <tr style=\"text-align: right;\">\n",
       "      <th></th>\n",
       "      <th>date</th>\n",
       "      <th>tweets_security</th>\n",
       "      <th>tweets_terrorism</th>\n",
       "      <th>time</th>\n",
       "      <th>intervention</th>\n",
       "      <th>postslope</th>\n",
       "      <th>prediction_terrorism</th>\n",
       "      <th>confidence_lower_terrorism</th>\n",
       "      <th>confidence_upper_terrorism</th>\n",
       "      <th>prediction_security</th>\n",
       "      <th>confidence_lower_security</th>\n",
       "      <th>confidence_upper_security</th>\n",
       "    </tr>\n",
       "  </thead>\n",
       "  <tbody>\n",
       "    <tr>\n",
       "      <th>0</th>\n",
       "      <td>2012-01-31</td>\n",
       "      <td>1.727746</td>\n",
       "      <td>3.054700</td>\n",
       "      <td>1</td>\n",
       "      <td>0</td>\n",
       "      <td>0</td>\n",
       "      <td>3.208570</td>\n",
       "      <td>2.585918</td>\n",
       "      <td>3.831223</td>\n",
       "      <td>2.126097</td>\n",
       "      <td>1.680309</td>\n",
       "      <td>2.571886</td>\n",
       "    </tr>\n",
       "    <tr>\n",
       "      <th>1</th>\n",
       "      <td>2012-02-29</td>\n",
       "      <td>1.734141</td>\n",
       "      <td>3.290300</td>\n",
       "      <td>2</td>\n",
       "      <td>0</td>\n",
       "      <td>0</td>\n",
       "      <td>3.316172</td>\n",
       "      <td>2.749064</td>\n",
       "      <td>3.883280</td>\n",
       "      <td>2.139692</td>\n",
       "      <td>1.733671</td>\n",
       "      <td>2.545714</td>\n",
       "    </tr>\n",
       "    <tr>\n",
       "      <th>2</th>\n",
       "      <td>2012-03-31</td>\n",
       "      <td>1.886777</td>\n",
       "      <td>3.568069</td>\n",
       "      <td>3</td>\n",
       "      <td>0</td>\n",
       "      <td>0</td>\n",
       "      <td>3.423773</td>\n",
       "      <td>2.909635</td>\n",
       "      <td>3.937912</td>\n",
       "      <td>2.153287</td>\n",
       "      <td>1.785190</td>\n",
       "      <td>2.521385</td>\n",
       "    </tr>\n",
       "    <tr>\n",
       "      <th>3</th>\n",
       "      <td>2012-04-30</td>\n",
       "      <td>3.081733</td>\n",
       "      <td>3.156634</td>\n",
       "      <td>4</td>\n",
       "      <td>0</td>\n",
       "      <td>0</td>\n",
       "      <td>3.531375</td>\n",
       "      <td>3.066750</td>\n",
       "      <td>3.996000</td>\n",
       "      <td>2.166882</td>\n",
       "      <td>1.834234</td>\n",
       "      <td>2.499531</td>\n",
       "    </tr>\n",
       "    <tr>\n",
       "      <th>4</th>\n",
       "      <td>2012-05-31</td>\n",
       "      <td>1.971143</td>\n",
       "      <td>4.112672</td>\n",
       "      <td>5</td>\n",
       "      <td>0</td>\n",
       "      <td>0</td>\n",
       "      <td>3.638977</td>\n",
       "      <td>3.219184</td>\n",
       "      <td>4.058769</td>\n",
       "      <td>2.180478</td>\n",
       "      <td>1.879927</td>\n",
       "      <td>2.481028</td>\n",
       "    </tr>\n",
       "  </tbody>\n",
       "</table>\n",
       "</div>"
      ],
      "text/plain": [
       "        date  tweets_security  tweets_terrorism  time  intervention  \\\n",
       "0 2012-01-31         1.727746          3.054700     1             0   \n",
       "1 2012-02-29         1.734141          3.290300     2             0   \n",
       "2 2012-03-31         1.886777          3.568069     3             0   \n",
       "3 2012-04-30         3.081733          3.156634     4             0   \n",
       "4 2012-05-31         1.971143          4.112672     5             0   \n",
       "\n",
       "   postslope  prediction_terrorism  confidence_lower_terrorism  \\\n",
       "0          0              3.208570                    2.585918   \n",
       "1          0              3.316172                    2.749064   \n",
       "2          0              3.423773                    2.909635   \n",
       "3          0              3.531375                    3.066750   \n",
       "4          0              3.638977                    3.219184   \n",
       "\n",
       "   confidence_upper_terrorism  prediction_security  confidence_lower_security  \\\n",
       "0                    3.831223             2.126097                   1.680309   \n",
       "1                    3.883280             2.139692                   1.733671   \n",
       "2                    3.937912             2.153287                   1.785190   \n",
       "3                    3.996000             2.166882                   1.834234   \n",
       "4                    4.058769             2.180478                   1.879927   \n",
       "\n",
       "   confidence_upper_security  \n",
       "0                   2.571886  \n",
       "1                   2.545714  \n",
       "2                   2.521385  \n",
       "3                   2.499531  \n",
       "4                   2.481028  "
      ]
     },
     "execution_count": 29,
     "metadata": {},
     "output_type": "execute_result"
    }
   ],
   "source": [
    "# We now have the parameters of our model, so we can make our predictions for the total tweets per month\n",
    "# We also produce 95% confidence intervals\n",
    "def predict(result, df, name):\n",
    "    beta_0 = result.params['Intercept']\n",
    "    beta_1 = result.params['time']\n",
    "    beta_2 = result.params['intervention']\n",
    "    beta_3 = result.params['postslope']\n",
    "    confidence = result.get_prediction(df).conf_int(alpha=0.05)\n",
    "    df['prediction_{}'.format(name)] = beta_0 + beta_1*df.time + beta_2*df.intervention + beta_3*df.postslope\n",
    "    df['confidence_lower_{}'.format(name)] = confidence[:, 0]\n",
    "    df['confidence_upper_{}'.format(name)] = confidence[:, 1]\n",
    "    \n",
    "predict(result_terrorism, total_tweets, 'terrorism')\n",
    "predict(result_security, total_tweets, 'security')\n",
    "total_tweets.head()"
   ]
  },
  {
   "cell_type": "code",
   "execution_count": 30,
   "metadata": {
    "ExecuteTime": {
     "end_time": "2020-12-15T17:32:59.812554Z",
     "start_time": "2020-12-15T17:32:59.383352Z"
    }
   },
   "outputs": [
    {
     "data": {
      "image/png": "[encoded data removed]",
      "text/plain": [
       "<Figure size 720x360 with 1 Axes>"
      ]
     },
     "metadata": {
      "needs_background": "light"
     },
     "output_type": "display_data"
    }
   ],
   "source": [
    "# Finally, we plot the results with 95% confidence intervals\n",
    "def plot_half(half, df, color, prefix, label='__nolegend__'):\n",
    "    x = half['time']\n",
    "    plt.plot(x, half['prediction_{}'.format(df)], color=color)\n",
    "    plt.scatter(x, half['{}_{}'.format(prefix, df)], color=color, label=label)\n",
    "    plt.fill_between(x, half['confidence_lower_{}'.format(df)], half['confidence_upper_{}'.format(df)], color=color, alpha=0.3)\n",
    "\n",
    "def plot_predictions(df, name, color, prefix='tweets'):\n",
    "    pre_interruption = df[:17]\n",
    "    post_interruption = df[17:]\n",
    "    plot_half(pre_interruption, name, color, prefix, label='{}-related keywords'.format(name))\n",
    "    plot_half(post_interruption, name, color, prefix)\n",
    "    \n",
    "    \n",
    "\n",
    "plt.figure(figsize=(10,5))\n",
    "plot_predictions(total_tweets, 'terrorism', 'xkcd:lipstick red')\n",
    "plot_predictions(total_tweets, 'security', 'xkcd:ultramarine blue')\n",
    "plt.axvline(17.5, color='black', label='_nolegend_')\n",
    "plt.xlabel('Time (Months)')\n",
    "plt.ylabel('Total tweets normaized')\n",
    "plt.title(\"Evolution of number of tweets over time\")\n",
    "# plt.legend(bbox_to_anchor=(1.05, 1), loc='upper left')\n",
    "plt.legend()\n",
    "plt.show()"
   ]
  },
  {
   "cell_type": "markdown",
   "metadata": {},
   "source": [
    "In accordance with the model parameters commented above, we observe a drop in tweets following the Snowden revelations, but no change in the trend for the terrorism keywords\n",
    "For the security keywords, there is almost no drop, and only a very slight change in trend (going up)"
   ]
  },
  {
   "cell_type": "markdown",
   "metadata": {},
   "source": [
    "# Sentiment analysis\n",
    "\n",
    "The value of analyzing tweets is the fact that we can extract more information from Tweets than pageviews. By performing a sentiment analysis on the tweets containing one of the selected keywords, we can check if the sentiments expressed by users were influenced by the revelations. One hypothesis may be that users would refrain to express positive opinions concerning terrorism matters after the revelations."
   ]
  },
  {
   "cell_type": "markdown",
   "metadata": {},
   "source": [
    "## Data processing\n",
    "\n",
    "Here is the plan: first extract the sentiment of each tweets, and then aggregate the values monthly for each keyword. This way we can perform an ITS on the evolution of the sentiments.\n",
    "\n",
    "### Sentiment extraction\n",
    "\n",
    "For each Tweet we compute the proportion of Negative, Neutral and Positive sentiment. We also extract the Compound value that is a normalized sum of all the sentiment, providing a handy single-value aggregate. The compound value can be considered positive when greater than 0.5, neutral between 0.5 and -0.5 and negative bellow -0.5."
   ]
  },
  {
   "cell_type": "code",
   "execution_count": 31,
   "metadata": {
    "ExecuteTime": {
     "end_time": "2020-12-15T17:33:02.197721Z",
     "start_time": "2020-12-15T17:32:59.815271Z"
    }
   },
   "outputs": [
    {
     "name": "stderr",
     "output_type": "stream",
     "text": [
      "[nltk_data] Downloading package vader_lexicon to\n",
      "[nltk_data]     /Users/julien/nltk_data...\n",
      "[nltk_data]   Package vader_lexicon is already up-to-date!\n"
     ]
    }
   ],
   "source": [
    "#NLP libraries\n",
    "import spacy\n",
    "import nltk\n",
    "nltk.download('vader_lexicon')\n",
    "from nltk.sentiment.vader import SentimentIntensityAnalyzer"
   ]
  },
  {
   "cell_type": "markdown",
   "metadata": {},
   "source": [
    "Here is an illustration of the sentiment analysis class from Vader, used on tweets from the `Abu sayyaf` tweets. It extracts the proportion of each sentiment and computes the compound value."
   ]
  },
  {
   "cell_type": "code",
   "execution_count": 32,
   "metadata": {
    "ExecuteTime": {
     "end_time": "2020-12-15T17:33:02.230399Z",
     "start_time": "2020-12-15T17:33:02.202368Z"
    },
    "scrolled": true
   },
   "outputs": [
    {
     "name": "stdout",
     "output_type": "stream",
     "text": [
      "Philippine kidnappers believed linked to the Islamist group Abu Sayyaf demand a $2 million ransom for Australian hostage.\n",
      "{'neg': 0.086, 'neu': 0.914, 'pos': 0.0, 'compound': -0.128}\n",
      "\n",
      "Hahaha! RT @SheQuebral @Jimparedes “@Jimparedes: #ItsMoreFunInThePhilippines From hereon, Abu Sayyaf will be renamed Abu SAYA!” LOL !!!\n",
      "{'neg': 0.0, 'neu': 0.644, 'pos': 0.356, 'compound': 0.8519}\n"
     ]
    }
   ],
   "source": [
    "analyser = SentimentIntensityAnalyzer()\n",
    "sample_str_1 = \"Philippine kidnappers believed linked to the Islamist group Abu Sayyaf demand a $2 million ransom for Australian hostage.\"\n",
    "print(sample_str_1 , analyser.polarity_scores(sample_str_1), sep='\\n', end='\\n\\n')\n",
    "\n",
    "sample_str_2 = 'Hahaha! RT @SheQuebral @Jimparedes “@Jimparedes: #ItsMoreFunInThePhilippines From hereon, Abu Sayyaf will be renamed Abu SAYA!” LOL !!!'\n",
    "print(sample_str_2 , analyser.polarity_scores(sample_str_2), sep='\\n')"
   ]
  },
  {
   "cell_type": "code",
   "execution_count": 33,
   "metadata": {
    "ExecuteTime": {
     "end_time": "2020-12-15T17:33:02.242769Z",
     "start_time": "2020-12-15T17:33:02.234325Z"
    }
   },
   "outputs": [],
   "source": [
    "def compute_sentiment(df):\n",
    "    \"\"\"\n",
    "    Compute the sentiment proportion for each tweet in the specified dataframe.\n",
    "    \"\"\"\n",
    "    analyser = SentimentIntensityAnalyzer()\n",
    "    df['sentiment'] = df['tweet'].apply(lambda x: analyser.polarity_scores(x))\n",
    "    for sent in ['neg', 'neu', 'pos', 'compound']:\n",
    "        df[sent] = df['sentiment'].apply(lambda x: x.get(sent))"
   ]
  },
  {
   "cell_type": "code",
   "execution_count": 34,
   "metadata": {
    "ExecuteTime": {
     "end_time": "2020-12-15T17:33:02.262639Z",
     "start_time": "2020-12-15T17:33:02.247591Z"
    }
   },
   "outputs": [],
   "source": [
    "def sentiment_analysis(source_folder):\n",
    "    \"\"\"\n",
    "    For every keywords computes the sentiment analysis of the tweets. \n",
    "    The proportions are added in new columns and the resulting dataframes are \n",
    "    written in the `data` folder.\n",
    "    \"\"\"\n",
    "    source_dir = os.listdir(source_folder)\n",
    "    for file in source_dir[6:]:\n",
    "        dataframe = pd.read_csv(source_folder+file)\n",
    "        compute_sentiment(dataframe)\n",
    "        save_dir = source_folder[:-1]+\"_sentiment/\"\n",
    "        if not os.path.exists(save_dir):\n",
    "            os.mkdir(save_dir)\n",
    "        dataframe.to_csv(save_dir+file)"
   ]
  },
  {
   "cell_type": "markdown",
   "metadata": {
    "ExecuteTime": {
     "end_time": "2020-12-15T09:37:55.690925Z",
     "start_time": "2020-12-15T09:37:55.681937Z"
    }
   },
   "source": [
    "Given the `data` folder, running `sentiment_analysis(DATA + DOMAINS[0])` and `sentiment_analysis(DATA + DOMAINS[1])` performs the sentiment extraction on the tweets."
   ]
  },
  {
   "cell_type": "markdown",
   "metadata": {},
   "source": [
    "### Monthly agreggation\n",
    "\n",
    "After the sentiment extraction is done, we now compute the mean proportions by month in order to analyse the evolution of the sentiments."
   ]
  },
  {
   "cell_type": "code",
   "execution_count": 35,
   "metadata": {
    "ExecuteTime": {
     "end_time": "2020-12-15T17:33:02.281250Z",
     "start_time": "2020-12-15T17:33:02.267736Z"
    }
   },
   "outputs": [],
   "source": [
    "def monthly_mean(folder, csv_name):\n",
    "    \"\"\"\n",
    "    For each keyword, aggregates the sentiment proportitions by month through averaging and\n",
    "    write the resulting dataframe in a csv.\n",
    "    :param folder: folder path where are stored all the keyword csv's\n",
    "    :param csv_name: name of the output csv containing the aggregation\n",
    "    \"\"\"\n",
    "    \n",
    "    #Incrementally build a dataframe containing all the keywords monthly averages\n",
    "    cols = ['date','keyword','neg','neu','pos', 'compound']\n",
    "    sentiment_df = pd.DataFrame(columns=cols) #final df\n",
    "    for filename in tqdm(os.listdir(folder)):\n",
    "        keyword = pd.read_csv(folder + filename)\n",
    "        \n",
    "        keyword['date'] = pd.to_datetime(keyword.date, errors='coerce') #Convert dates from string to datetimes\n",
    "        keyword = keyword[~keyword.date.isna()] #Remove Nan values\n",
    "        \n",
    "        monthly_mean = keyword.groupby(pd.Grouper(key='date', freq='M')).mean() #Monthly average\n",
    "        monthly_mean['keyword'] = filename.split('.csv')[0] #Extract the keyword name\n",
    "        monthly_mean = monthly_mean.reset_index()[cols]\n",
    "        sentiment_df = pd.concat([sentiment_df, monthly_mean]) #Store result in final df\n",
    "    sentiment_df.to_csv(MONTHLY_SENT + csv_name)"
   ]
  },
  {
   "cell_type": "markdown",
   "metadata": {
    "ExecuteTime": {
     "end_time": "2020-12-15T09:37:55.744006Z",
     "start_time": "2020-12-15T09:37:55.738100Z"
    },
    "scrolled": false
   },
   "source": [
    "Given the `data` folder and the previously sentiment extfactions, running `monthly_mean(DATA + DOMAINS[2], 'short_terrorism.csv')` and `monthly_mean(DATA + DOMAINS[3], 'domestic_security.csv')` computes the monthly sentiment average per keyword."
   ]
  },
  {
   "cell_type": "markdown",
   "metadata": {},
   "source": [
    "## Analysis"
   ]
  },
  {
   "cell_type": "markdown",
   "metadata": {},
   "source": [
    "Now that we have data aggregated by month, we will combine all keywords and inspect the general trends re-using the ITS analysis."
   ]
  },
  {
   "cell_type": "code",
   "execution_count": 36,
   "metadata": {
    "ExecuteTime": {
     "end_time": "2020-12-15T17:33:02.315947Z",
     "start_time": "2020-12-15T17:33:02.286945Z"
    }
   },
   "outputs": [],
   "source": [
    "#First load the files and convert the dates from string to datetime objects for easier use\n",
    "terrorism_keyword_raw = pd.read_csv(MONTHLY_SENT + 'short_terrorism.csv', index_col=0)\n",
    "domestic_keyword_raw = pd.read_csv(MONTHLY_SENT + 'domestic_security.csv', index_col=0)\n",
    "terrorism_keyword_raw['date'] = pd.to_datetime(terrorism_keyword_raw.date)\n",
    "domestic_keyword_raw['date'] = pd.to_datetime(domestic_keyword_raw.date)"
   ]
  },
  {
   "cell_type": "code",
   "execution_count": 37,
   "metadata": {
    "ExecuteTime": {
     "end_time": "2020-12-15T17:33:02.336212Z",
     "start_time": "2020-12-15T17:33:02.318025Z"
    },
    "scrolled": true
   },
   "outputs": [
    {
     "data": {
      "text/html": [
       "<div>\n",
       "<style scoped>\n",
       "    .dataframe tbody tr th:only-of-type {\n",
       "        vertical-align: middle;\n",
       "    }\n",
       "\n",
       "    .dataframe tbody tr th {\n",
       "        vertical-align: top;\n",
       "    }\n",
       "\n",
       "    .dataframe thead th {\n",
       "        text-align: right;\n",
       "    }\n",
       "</style>\n",
       "<table border=\"1\" class=\"dataframe\">\n",
       "  <thead>\n",
       "    <tr style=\"text-align: right;\">\n",
       "      <th></th>\n",
       "      <th>date</th>\n",
       "      <th>keyword</th>\n",
       "      <th>neg</th>\n",
       "      <th>neu</th>\n",
       "      <th>pos</th>\n",
       "      <th>compound</th>\n",
       "    </tr>\n",
       "  </thead>\n",
       "  <tbody>\n",
       "    <tr>\n",
       "      <th>0</th>\n",
       "      <td>2012-01-31</td>\n",
       "      <td>abu_sayyaf</td>\n",
       "      <td>0.089470</td>\n",
       "      <td>0.879476</td>\n",
       "      <td>0.031047</td>\n",
       "      <td>-0.111974</td>\n",
       "    </tr>\n",
       "    <tr>\n",
       "      <th>1</th>\n",
       "      <td>2012-02-29</td>\n",
       "      <td>abu_sayyaf</td>\n",
       "      <td>0.158325</td>\n",
       "      <td>0.826464</td>\n",
       "      <td>0.015210</td>\n",
       "      <td>-0.319260</td>\n",
       "    </tr>\n",
       "    <tr>\n",
       "      <th>2</th>\n",
       "      <td>2012-03-31</td>\n",
       "      <td>abu_sayyaf</td>\n",
       "      <td>0.097435</td>\n",
       "      <td>0.873979</td>\n",
       "      <td>0.028590</td>\n",
       "      <td>-0.143835</td>\n",
       "    </tr>\n",
       "    <tr>\n",
       "      <th>3</th>\n",
       "      <td>2012-04-30</td>\n",
       "      <td>abu_sayyaf</td>\n",
       "      <td>0.141879</td>\n",
       "      <td>0.817297</td>\n",
       "      <td>0.040834</td>\n",
       "      <td>-0.217376</td>\n",
       "    </tr>\n",
       "    <tr>\n",
       "      <th>4</th>\n",
       "      <td>2012-05-31</td>\n",
       "      <td>abu_sayyaf</td>\n",
       "      <td>0.060284</td>\n",
       "      <td>0.894125</td>\n",
       "      <td>0.045606</td>\n",
       "      <td>-0.046395</td>\n",
       "    </tr>\n",
       "  </tbody>\n",
       "</table>\n",
       "</div>"
      ],
      "text/plain": [
       "        date     keyword       neg       neu       pos  compound\n",
       "0 2012-01-31  abu_sayyaf  0.089470  0.879476  0.031047 -0.111974\n",
       "1 2012-02-29  abu_sayyaf  0.158325  0.826464  0.015210 -0.319260\n",
       "2 2012-03-31  abu_sayyaf  0.097435  0.873979  0.028590 -0.143835\n",
       "3 2012-04-30  abu_sayyaf  0.141879  0.817297  0.040834 -0.217376\n",
       "4 2012-05-31  abu_sayyaf  0.060284  0.894125  0.045606 -0.046395"
      ]
     },
     "execution_count": 37,
     "metadata": {},
     "output_type": "execute_result"
    }
   ],
   "source": [
    "terrorism_keyword_raw.head()"
   ]
  },
  {
   "cell_type": "markdown",
   "metadata": {},
   "source": [
    "To summarize, we have for each keyword the monthly averages of every sentiments: negative, neutral, positive and the compound value."
   ]
  },
  {
   "cell_type": "code",
   "execution_count": 38,
   "metadata": {
    "ExecuteTime": {
     "end_time": "2020-12-15T17:33:03.025120Z",
     "start_time": "2020-12-15T17:33:02.343113Z"
    },
    "scrolled": false
   },
   "outputs": [
    {
     "data": {
      "image/png": "[encoded data removed]",
      "text/plain": [
       "<Figure size 1080x360 with 1 Axes>"
      ]
     },
     "metadata": {
      "needs_background": "light"
     },
     "output_type": "display_data"
    },
    {
     "data": {
      "image/png": "[encoded data removed]",
      "text/plain": [
       "<Figure size 1080x360 with 1 Axes>"
      ]
     },
     "metadata": {
      "needs_background": "light"
     },
     "output_type": "display_data"
    }
   ],
   "source": [
    "def plot_keyword_sentiment(df, sample=False):\n",
    "    \"\"\"\n",
    "    Plots the sentiment proportions and the compound value for all the keywords. If `sample` is True\n",
    "    then plots a random keyword.\n",
    "    \"\"\"\n",
    "    keywords = df.keyword.unique()\n",
    "    if sample:\n",
    "        index = np.random.randint(len(keywords))\n",
    "        keywords = [keywords[index]]\n",
    "        \n",
    "    for keyword in keywords:\n",
    "        plt.figure(figsize=(15,5))\n",
    "        keyword_df = df[df.keyword == keyword]\n",
    "        plt.plot(keyword_df.date, keyword_df.compound, label='Compound')\n",
    "        plt.plot(keyword_df.date, keyword_df.pos, label='Positive')\n",
    "        plt.plot(keyword_df.date, keyword_df.neg, label='Negative')\n",
    "        plt.plot(keyword_df.date, keyword_df.neu, label='Neutral')\n",
    "        plt.legend()\n",
    "        plt.title(keyword)\n",
    "        plt.show()\n",
    "    \n",
    "plot_keyword_sentiment(terrorism_keyword_raw, sample=True)\n",
    "plot_keyword_sentiment(terrorism_keyword_raw, sample=True)"
   ]
  },
  {
   "cell_type": "markdown",
   "metadata": {},
   "source": [
    "From here, we can already see that the most represented sentiment is the neutral by far. There seems to be some fluctuations among the other sentiments but no trend of sudden drop off.\n",
    "We will now inspect the general trend by aggregating all the keywords."
   ]
  },
  {
   "cell_type": "markdown",
   "metadata": {},
   "source": [
    "Let's filter the same keywords as for the tweet counts: by averaging the keywords, ones with few tweets will have the same weight as the others with a lot of tweets, so we filter out keywords with not enough tweets."
   ]
  },
  {
   "cell_type": "code",
   "execution_count": 39,
   "metadata": {
    "ExecuteTime": {
     "end_time": "2020-12-15T17:33:03.050584Z",
     "start_time": "2020-12-15T17:33:03.034427Z"
    }
   },
   "outputs": [],
   "source": [
    "terrorism_keyword = terrorism_keyword_raw[terrorism_keyword_raw.keyword.isin(filtered_terrorism_df.keyword.unique())]\n",
    "domestic_keyword = domestic_keyword_raw[domestic_keyword_raw.keyword.isin(filtered_domestic_df.keyword.unique())]"
   ]
  },
  {
   "cell_type": "code",
   "execution_count": 40,
   "metadata": {
    "ExecuteTime": {
     "end_time": "2020-12-15T17:33:03.079372Z",
     "start_time": "2020-12-15T17:33:03.057310Z"
    }
   },
   "outputs": [],
   "source": [
    "def aggregate_keywords(df):\n",
    "    \"Compute the mean sentiment proportions across all the keywords\"\n",
    "    df = df.groupby('date').mean().reset_index()\n",
    "    df['date'] = pd.to_datetime(df.date) \n",
    "    return df\n",
    "\n",
    "terrorism = aggregate_keywords(terrorism_keyword)\n",
    "domestic = aggregate_keywords(domestic_keyword)"
   ]
  },
  {
   "cell_type": "code",
   "execution_count": 41,
   "metadata": {
    "ExecuteTime": {
     "end_time": "2020-12-15T17:33:03.365246Z",
     "start_time": "2020-12-15T17:33:03.089965Z"
    },
    "scrolled": false
   },
   "outputs": [
    {
     "data": {
      "image/png": "[encoded data removed]",
      "text/plain": [
       "<Figure size 1080x360 with 1 Axes>"
      ]
     },
     "metadata": {
      "needs_background": "light"
     },
     "output_type": "display_data"
    }
   ],
   "source": [
    "#Compare the general compound values of terrorism and domestic security tweets\n",
    "plt.figure(figsize=(15,5))\n",
    "plt.scatter(terrorism.date, terrorism.compound, label='Terrorism compound value')\n",
    "plt.scatter(domestic.date, domestic.compound, label='Domestic compound value')\n",
    "plt.legend()\n",
    "plt.title(\"Compound value for the terrorism and domestic security keywords\")\n",
    "plt.show()"
   ]
  },
  {
   "cell_type": "markdown",
   "metadata": {},
   "source": [
    "While we can see that the terrorism keywords have a more negative connotation than the domestic security keywords, there doesn't seem to be any effect due to the June 2013 revelations: the trends are constants and there are no big drop off from what we can see. Let's continue and evaluate the statistical significance."
   ]
  },
  {
   "cell_type": "code",
   "execution_count": 42,
   "metadata": {
    "ExecuteTime": {
     "end_time": "2020-12-15T17:33:03.406217Z",
     "start_time": "2020-12-15T17:33:03.370282Z"
    }
   },
   "outputs": [
    {
     "data": {
      "text/html": [
       "<div>\n",
       "<style scoped>\n",
       "    .dataframe tbody tr th:only-of-type {\n",
       "        vertical-align: middle;\n",
       "    }\n",
       "\n",
       "    .dataframe tbody tr th {\n",
       "        vertical-align: top;\n",
       "    }\n",
       "\n",
       "    .dataframe thead th {\n",
       "        text-align: right;\n",
       "    }\n",
       "</style>\n",
       "<table border=\"1\" class=\"dataframe\">\n",
       "  <thead>\n",
       "    <tr style=\"text-align: right;\">\n",
       "      <th></th>\n",
       "      <th>date</th>\n",
       "      <th>neg_terrorism</th>\n",
       "      <th>neu_terrorism</th>\n",
       "      <th>pos_terrorism</th>\n",
       "      <th>compound_terrorism</th>\n",
       "      <th>neg_domestic</th>\n",
       "      <th>neu_domestic</th>\n",
       "      <th>pos_domestic</th>\n",
       "      <th>compound_domestic</th>\n",
       "      <th>time</th>\n",
       "      <th>intervention</th>\n",
       "      <th>postslope</th>\n",
       "    </tr>\n",
       "  </thead>\n",
       "  <tbody>\n",
       "    <tr>\n",
       "      <th>0</th>\n",
       "      <td>2012-01-31</td>\n",
       "      <td>0.197723</td>\n",
       "      <td>0.757652</td>\n",
       "      <td>0.044552</td>\n",
       "      <td>-0.287601</td>\n",
       "      <td>0.088590</td>\n",
       "      <td>0.824255</td>\n",
       "      <td>0.087156</td>\n",
       "      <td>-0.012219</td>\n",
       "      <td>1</td>\n",
       "      <td>0</td>\n",
       "      <td>0</td>\n",
       "    </tr>\n",
       "    <tr>\n",
       "      <th>1</th>\n",
       "      <td>2012-02-29</td>\n",
       "      <td>0.180796</td>\n",
       "      <td>0.769904</td>\n",
       "      <td>0.049279</td>\n",
       "      <td>-0.263336</td>\n",
       "      <td>0.089868</td>\n",
       "      <td>0.819045</td>\n",
       "      <td>0.091085</td>\n",
       "      <td>0.002857</td>\n",
       "      <td>2</td>\n",
       "      <td>0</td>\n",
       "      <td>0</td>\n",
       "    </tr>\n",
       "    <tr>\n",
       "      <th>2</th>\n",
       "      <td>2012-03-31</td>\n",
       "      <td>0.180347</td>\n",
       "      <td>0.769591</td>\n",
       "      <td>0.050042</td>\n",
       "      <td>-0.249281</td>\n",
       "      <td>0.089322</td>\n",
       "      <td>0.820601</td>\n",
       "      <td>0.090078</td>\n",
       "      <td>-0.001514</td>\n",
       "      <td>3</td>\n",
       "      <td>0</td>\n",
       "      <td>0</td>\n",
       "    </tr>\n",
       "    <tr>\n",
       "      <th>3</th>\n",
       "      <td>2012-04-30</td>\n",
       "      <td>0.187159</td>\n",
       "      <td>0.765631</td>\n",
       "      <td>0.047203</td>\n",
       "      <td>-0.273541</td>\n",
       "      <td>0.112880</td>\n",
       "      <td>0.805753</td>\n",
       "      <td>0.081365</td>\n",
       "      <td>-0.069772</td>\n",
       "      <td>4</td>\n",
       "      <td>0</td>\n",
       "      <td>0</td>\n",
       "    </tr>\n",
       "    <tr>\n",
       "      <th>4</th>\n",
       "      <td>2012-05-31</td>\n",
       "      <td>0.184977</td>\n",
       "      <td>0.767072</td>\n",
       "      <td>0.047943</td>\n",
       "      <td>-0.271864</td>\n",
       "      <td>0.097445</td>\n",
       "      <td>0.817812</td>\n",
       "      <td>0.084741</td>\n",
       "      <td>-0.027881</td>\n",
       "      <td>5</td>\n",
       "      <td>0</td>\n",
       "      <td>0</td>\n",
       "    </tr>\n",
       "  </tbody>\n",
       "</table>\n",
       "</div>"
      ],
      "text/plain": [
       "        date  neg_terrorism  neu_terrorism  pos_terrorism  compound_terrorism  \\\n",
       "0 2012-01-31       0.197723       0.757652       0.044552           -0.287601   \n",
       "1 2012-02-29       0.180796       0.769904       0.049279           -0.263336   \n",
       "2 2012-03-31       0.180347       0.769591       0.050042           -0.249281   \n",
       "3 2012-04-30       0.187159       0.765631       0.047203           -0.273541   \n",
       "4 2012-05-31       0.184977       0.767072       0.047943           -0.271864   \n",
       "\n",
       "   neg_domestic  neu_domestic  pos_domestic  compound_domestic  time  \\\n",
       "0      0.088590      0.824255      0.087156          -0.012219     1   \n",
       "1      0.089868      0.819045      0.091085           0.002857     2   \n",
       "2      0.089322      0.820601      0.090078          -0.001514     3   \n",
       "3      0.112880      0.805753      0.081365          -0.069772     4   \n",
       "4      0.097445      0.817812      0.084741          -0.027881     5   \n",
       "\n",
       "   intervention  postslope  \n",
       "0             0          0  \n",
       "1             0          0  \n",
       "2             0          0  \n",
       "3             0          0  \n",
       "4             0          0  "
      ]
     },
     "execution_count": 42,
     "metadata": {},
     "output_type": "execute_result"
    }
   ],
   "source": [
    "#Create the variables used in the ITS: time, intervention and postslope\n",
    "sentiments = pd.merge(terrorism, domestic, on=['date'], suffixes=('_terrorism', '_domestic'))\n",
    "create_ITS_variables(sentiments)\n",
    "sentiments.head()"
   ]
  },
  {
   "cell_type": "code",
   "execution_count": 43,
   "metadata": {
    "ExecuteTime": {
     "end_time": "2020-12-15T17:33:03.469350Z",
     "start_time": "2020-12-15T17:33:03.411131Z"
    }
   },
   "outputs": [
    {
     "name": "stdout",
     "output_type": "stream",
     "text": [
      "\n",
      "terrorism model :\n",
      "                            OLS Regression Results                            \n",
      "==============================================================================\n",
      "Dep. Variable:     compound_terrorism   R-squared:                       0.467\n",
      "Model:                            OLS   Adj. R-squared:                  0.417\n",
      "Method:                 Least Squares   F-statistic:                     9.355\n",
      "Date:                Tue, 15 Dec 2020   Prob (F-statistic):           0.000137\n",
      "Time:                        18:33:03   Log-Likelihood:                 112.62\n",
      "No. Observations:                  36   AIC:                            -217.2\n",
      "Df Residuals:                      32   BIC:                            -210.9\n",
      "Df Model:                           3                                         \n",
      "Covariance Type:            nonrobust                                         \n",
      "================================================================================\n",
      "                   coef    std err          t      P>|t|      [0.025      0.975]\n",
      "--------------------------------------------------------------------------------\n",
      "Intercept       -0.2685      0.006    -47.106      0.000      -0.280      -0.257\n",
      "time            -0.0012      0.001     -2.078      0.046      -0.002    -2.3e-05\n",
      "intervention     0.0184      0.007      2.459      0.020       0.003       0.034\n",
      "postslope       -0.0008      0.001     -1.046      0.303      -0.002       0.001\n",
      "==============================================================================\n",
      "Omnibus:                        2.440   Durbin-Watson:                   1.835\n",
      "Prob(Omnibus):                  0.295   Jarque-Bera (JB):                1.524\n",
      "Skew:                          -0.487   Prob(JB):                        0.467\n",
      "Kurtosis:                       3.257   Cond. No.                         95.9\n",
      "==============================================================================\n",
      "\n",
      "Warnings:\n",
      "[1] Standard Errors assume that the covariance matrix of the errors is correctly specified.\n",
      "\n",
      "domestic model :\n",
      "                            OLS Regression Results                            \n",
      "==============================================================================\n",
      "Dep. Variable:      compound_domestic   R-squared:                       0.295\n",
      "Model:                            OLS   Adj. R-squared:                  0.229\n",
      "Method:                 Least Squares   F-statistic:                     4.456\n",
      "Date:                Tue, 15 Dec 2020   Prob (F-statistic):             0.0100\n",
      "Time:                        18:33:03   Log-Likelihood:                 93.557\n",
      "No. Observations:                  36   AIC:                            -179.1\n",
      "Df Residuals:                      32   BIC:                            -172.8\n",
      "Df Model:                           3                                         \n",
      "Covariance Type:            nonrobust                                         \n",
      "================================================================================\n",
      "                   coef    std err          t      P>|t|      [0.025      0.975]\n",
      "--------------------------------------------------------------------------------\n",
      "Intercept       -0.0242      0.010     -2.504      0.018      -0.044      -0.005\n",
      "time            -0.0001      0.001     -0.139      0.890      -0.002       0.002\n",
      "intervention     0.0151      0.013      1.186      0.244      -0.011       0.041\n",
      "postslope       -0.0024      0.001     -1.950      0.060      -0.005       0.000\n",
      "==============================================================================\n",
      "Omnibus:                        4.285   Durbin-Watson:                   1.598\n",
      "Prob(Omnibus):                  0.117   Jarque-Bera (JB):                3.594\n",
      "Skew:                          -0.774   Prob(JB):                        0.166\n",
      "Kurtosis:                       2.977   Cond. No.                         95.9\n",
      "==============================================================================\n",
      "\n",
      "Warnings:\n",
      "[1] Standard Errors assume that the covariance matrix of the errors is correctly specified.\n"
     ]
    }
   ],
   "source": [
    "#Fit an Ordinary Least Square for the domestic security and terrorism keywords\n",
    "result_terrorism_sentiment = regression_model(sentiments, 'terrorism', prefix='compound')\n",
    "result_domestic_sentiment = regression_model(sentiments, 'domestic', prefix='compound')"
   ]
  },
  {
   "cell_type": "markdown",
   "metadata": {},
   "source": [
    "The terrorism model is statistically significant (Prob > F = 0.001) and the R-squared is 0.467, the model explains a lot of the variance and has a high predictive power.  Among the coefficient only the `postslope` is not statistically significant with a p-value of 0.303 while the other coefficients are all smaller than 0.05. Yet, apart from the `intercept`, the coefficient are really close to zero.\n",
    "Therefore we can conclude that there is no statistically significant drop off or change of trend after the intervention. \n",
    "\n",
    "The domestic model is also statistically significant (P > F = 0.01) and the R-squared is 0.295, so the predictive power is relatively high, though lower than the terrorism model. Only the `intercept` is statistically significant, with a p-value of 0.018. All the other coefficients have a p-value greater than 0.05. Moreover the coefficients are all close to zero so we cannot deduce any significant trend or drop-off either."
   ]
  },
  {
   "cell_type": "code",
   "execution_count": 44,
   "metadata": {
    "ExecuteTime": {
     "end_time": "2020-12-15T17:33:03.511348Z",
     "start_time": "2020-12-15T17:33:03.483295Z"
    }
   },
   "outputs": [],
   "source": [
    "#Let's plot the keywords average compound values\n",
    "predict(result_terrorism_sentiment, sentiments, 'terrorism')\n",
    "predict(result_domestic_sentiment, sentiments, 'domestic')"
   ]
  },
  {
   "cell_type": "code",
   "execution_count": 45,
   "metadata": {
    "ExecuteTime": {
     "end_time": "2020-12-15T17:33:03.861515Z",
     "start_time": "2020-12-15T17:33:03.515258Z"
    },
    "scrolled": true
   },
   "outputs": [
    {
     "data": {
      "image/png": "[encoded data removed]",
      "text/plain": [
       "<Figure size 720x360 with 1 Axes>"
      ]
     },
     "metadata": {
      "needs_background": "light"
     },
     "output_type": "display_data"
    }
   ],
   "source": [
    "plt.figure(figsize=(10,5))\n",
    "plot_predictions(sentiments, 'terrorism', 'xkcd:lipstick red', 'compound')\n",
    "plot_predictions(sentiments, 'domestic', 'xkcd:ultramarine blue', 'compound')\n",
    "plt.axvline(17.5, color='black', label='_nolegend_')\n",
    "plt.xlabel('Time (Months)')\n",
    "plt.ylabel('Compound value')\n",
    "plt.title(\"Evolution of the compound values over time\")\n",
    "plt.legend(bbox_to_anchor=(1.05, 1), loc='upper left')\n",
    "plt.show()"
   ]
  },
  {
   "cell_type": "markdown",
   "metadata": {},
   "source": [
    "Coherently with the statistical analysis of the linear regression models, we can see that there is no influence from the June 2013 revelations, neither as a drop or a change of trend. Some limitations of our sentiment analysis may come from the scrapped data: we can find a lot of news tweets in the scrapped that can anchor the overall sentiments as news Twitter accounts may be less influenced by a possible chilling effect. An extension would be to filter them out before the analysis."
   ]
  }
 ],
 "metadata": {
  "kernelspec": {
   "display_name": "Python 3",
   "language": "python",
   "name": "python3"
  },
  "language_info": {
   "codemirror_mode": {
    "name": "ipython",
    "version": 3
   },
   "file_extension": ".py",
   "mimetype": "text/x-python",
   "name": "python",
   "nbconvert_exporter": "python",
   "pygments_lexer": "ipython3",
   "version": "3.7.1"
  },
  "toc": {
   "base_numbering": 1,
   "nav_menu": {},
   "number_sections": true,
   "sideBar": true,
   "skip_h1_title": false,
   "title_cell": "Table of Contents",
   "title_sidebar": "Contents",
   "toc_cell": false,
   "toc_position": {},
   "toc_section_display": true,
   "toc_window_display": false
  }
 },
 "nbformat": 4,
 "nbformat_minor": 4
}
