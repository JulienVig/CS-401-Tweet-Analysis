{
 "cells": [
  {
   "cell_type": "markdown",
   "metadata": {},
   "source": [
    "# Imports and constants"
   ]
  },
  {
   "cell_type": "code",
   "execution_count": 1,
   "metadata": {
    "ExecuteTime": {
     "end_time": "2020-12-13T16:04:07.437337Z",
     "start_time": "2020-12-13T16:03:59.603622Z"
    }
   },
   "outputs": [
    {
     "name": "stderr",
     "output_type": "stream",
     "text": [
      "/Applications/anaconda3/lib/python3.7/site-packages/statsmodels/tools/_testing.py:19: FutureWarning: pandas.util.testing is deprecated. Use the functions in the public API at pandas.testing instead.\n",
      "  import pandas.util.testing as tm\n"
     ]
    }
   ],
   "source": [
    "import os \n",
    "import numpy as np\n",
    "import pandas as pd\n",
    "import seaborn as sns\n",
    "import matplotlib.pyplot as plt\n",
    "from datetime import datetime\n",
    "import statsmodels.formula.api as smf"
   ]
  },
  {
   "cell_type": "code",
   "execution_count": 2,
   "metadata": {
    "ExecuteTime": {
     "end_time": "2020-12-13T16:04:07.446031Z",
     "start_time": "2020-12-13T16:04:07.439841Z"
    }
   },
   "outputs": [],
   "source": [
    "TOP_FOLDER = \"data/\"\n",
    "TERRORISM_FILE = TOP_FOLDER + 'short_terrorism.csv'\n",
    "DOMESTIC_FILE = TOP_FOLDER + 'domestic_security.csv'"
   ]
  },
  {
   "cell_type": "markdown",
   "metadata": {},
   "source": [
    "As described in the report, our input is two csv files, in the same format as the Wikipedia views from the paper but with a number of tweets per day and per subject instead. On this dataset, we will perform some cleaning, then exploration of the data, and finally an in-depth analysis."
   ]
  },
  {
   "cell_type": "markdown",
   "metadata": {},
   "source": [
    "# 1 - Loading"
   ]
  },
  {
   "cell_type": "code",
   "execution_count": 3,
   "metadata": {
    "ExecuteTime": {
     "end_time": "2020-12-13T16:04:11.681806Z",
     "start_time": "2020-12-13T16:04:11.623476Z"
    }
   },
   "outputs": [],
   "source": [
    "terrorism_raw = pd.read_csv(TERRORISM_FILE, index_col=0)\n",
    "domestic_raw = pd.read_csv(DOMESTIC_FILE, index_col=0)"
   ]
  },
  {
   "cell_type": "code",
   "execution_count": 4,
   "metadata": {
    "ExecuteTime": {
     "end_time": "2020-12-13T16:04:12.261978Z",
     "start_time": "2020-12-13T16:04:12.238040Z"
    }
   },
   "outputs": [
    {
     "name": "stdout",
     "output_type": "stream",
     "text": [
      "29592\n"
     ]
    },
    {
     "data": {
      "text/html": [
       "<div>\n",
       "<style scoped>\n",
       "    .dataframe tbody tr th:only-of-type {\n",
       "        vertical-align: middle;\n",
       "    }\n",
       "\n",
       "    .dataframe tbody tr th {\n",
       "        vertical-align: top;\n",
       "    }\n",
       "\n",
       "    .dataframe thead th {\n",
       "        text-align: right;\n",
       "    }\n",
       "</style>\n",
       "<table border=\"1\" class=\"dataframe\">\n",
       "  <thead>\n",
       "    <tr style=\"text-align: right;\">\n",
       "      <th></th>\n",
       "      <th>date</th>\n",
       "      <th>tweets</th>\n",
       "      <th>article</th>\n",
       "    </tr>\n",
       "  </thead>\n",
       "  <tbody>\n",
       "    <tr>\n",
       "      <th>0</th>\n",
       "      <td>2012-01-01</td>\n",
       "      <td>7</td>\n",
       "      <td>abu_sayyaf</td>\n",
       "    </tr>\n",
       "    <tr>\n",
       "      <th>1</th>\n",
       "      <td>2012-01-02</td>\n",
       "      <td>1</td>\n",
       "      <td>abu_sayyaf</td>\n",
       "    </tr>\n",
       "    <tr>\n",
       "      <th>2</th>\n",
       "      <td>2012-01-03</td>\n",
       "      <td>5</td>\n",
       "      <td>abu_sayyaf</td>\n",
       "    </tr>\n",
       "    <tr>\n",
       "      <th>3</th>\n",
       "      <td>2012-01-04</td>\n",
       "      <td>22</td>\n",
       "      <td>abu_sayyaf</td>\n",
       "    </tr>\n",
       "    <tr>\n",
       "      <th>4</th>\n",
       "      <td>2012-01-05</td>\n",
       "      <td>93</td>\n",
       "      <td>abu_sayyaf</td>\n",
       "    </tr>\n",
       "  </tbody>\n",
       "</table>\n",
       "</div>"
      ],
      "text/plain": [
       "         date  tweets     article\n",
       "0  2012-01-01       7  abu_sayyaf\n",
       "1  2012-01-02       1  abu_sayyaf\n",
       "2  2012-01-03       5  abu_sayyaf\n",
       "3  2012-01-04      22  abu_sayyaf\n",
       "4  2012-01-05      93  abu_sayyaf"
      ]
     },
     "execution_count": 4,
     "metadata": {},
     "output_type": "execute_result"
    }
   ],
   "source": [
    "print(len(terrorism_raw))\n",
    "terrorism_raw.head()"
   ]
  },
  {
   "cell_type": "code",
   "execution_count": 5,
   "metadata": {
    "ExecuteTime": {
     "end_time": "2020-12-13T16:04:12.990359Z",
     "start_time": "2020-12-13T16:04:12.975602Z"
    },
    "scrolled": false
   },
   "outputs": [
    {
     "name": "stdout",
     "output_type": "stream",
     "text": [
      "26304\n"
     ]
    },
    {
     "data": {
      "text/html": [
       "<div>\n",
       "<style scoped>\n",
       "    .dataframe tbody tr th:only-of-type {\n",
       "        vertical-align: middle;\n",
       "    }\n",
       "\n",
       "    .dataframe tbody tr th {\n",
       "        vertical-align: top;\n",
       "    }\n",
       "\n",
       "    .dataframe thead th {\n",
       "        text-align: right;\n",
       "    }\n",
       "</style>\n",
       "<table border=\"1\" class=\"dataframe\">\n",
       "  <thead>\n",
       "    <tr style=\"text-align: right;\">\n",
       "      <th></th>\n",
       "      <th>date</th>\n",
       "      <th>tweets</th>\n",
       "      <th>article</th>\n",
       "    </tr>\n",
       "  </thead>\n",
       "  <tbody>\n",
       "    <tr>\n",
       "      <th>0</th>\n",
       "      <td>2012-01-01</td>\n",
       "      <td>11</td>\n",
       "      <td>air_marshal</td>\n",
       "    </tr>\n",
       "    <tr>\n",
       "      <th>1</th>\n",
       "      <td>2012-01-02</td>\n",
       "      <td>13</td>\n",
       "      <td>air_marshal</td>\n",
       "    </tr>\n",
       "    <tr>\n",
       "      <th>2</th>\n",
       "      <td>2012-01-03</td>\n",
       "      <td>9</td>\n",
       "      <td>air_marshal</td>\n",
       "    </tr>\n",
       "    <tr>\n",
       "      <th>3</th>\n",
       "      <td>2012-01-04</td>\n",
       "      <td>9</td>\n",
       "      <td>air_marshal</td>\n",
       "    </tr>\n",
       "    <tr>\n",
       "      <th>4</th>\n",
       "      <td>2012-01-05</td>\n",
       "      <td>7</td>\n",
       "      <td>air_marshal</td>\n",
       "    </tr>\n",
       "  </tbody>\n",
       "</table>\n",
       "</div>"
      ],
      "text/plain": [
       "         date  tweets      article\n",
       "0  2012-01-01      11  air_marshal\n",
       "1  2012-01-02      13  air_marshal\n",
       "2  2012-01-03       9  air_marshal\n",
       "3  2012-01-04       9  air_marshal\n",
       "4  2012-01-05       7  air_marshal"
      ]
     },
     "execution_count": 5,
     "metadata": {},
     "output_type": "execute_result"
    }
   ],
   "source": [
    "print(len(domestic_raw))\n",
    "domestic_raw.head()"
   ]
  },
  {
   "cell_type": "markdown",
   "metadata": {},
   "source": [
    "Nothing to comment as of yet. We only have the columns that are of use to us, which are the date and keyword as well as the number of tweets for this combination"
   ]
  },
  {
   "cell_type": "markdown",
   "metadata": {},
   "source": [
    "# 2 -  Cleaning"
   ]
  },
  {
   "cell_type": "code",
   "execution_count": 7,
   "metadata": {
    "ExecuteTime": {
     "end_time": "2020-12-13T16:06:56.075427Z",
     "start_time": "2020-12-13T16:06:56.053199Z"
    }
   },
   "outputs": [
    {
     "name": "stdout",
     "output_type": "stream",
     "text": [
      "Columns types in the terrorism dataset: \n",
      " date       object\n",
      "tweets      int64\n",
      "article    object\n",
      "dtype: object\n",
      "Columns types in the domestic security dataset: \n",
      " date       object\n",
      "tweets      int64\n",
      "article    object\n",
      "dtype: object\n",
      "Number of terrorism keywords:  27\n",
      "Number of domestic security keywords:  24\n",
      "The number of dates in each dataset should be equal: 1096 and 1096\n"
     ]
    }
   ],
   "source": [
    "# We check the types of the columns, as well as the number of keywords and dates\n",
    "print('Columns types in the terrorism dataset: \\n', terrorism_raw.dtypes)\n",
    "print('Columns types in the domestic security dataset: \\n', domestic_raw.dtypes)\n",
    "print('Number of terrorism keywords: ', terrorism_raw.article.nunique())\n",
    "print('Number of domestic security keywords: ', domestic_raw.article.nunique())\n",
    "print('The number of dates in each dataset should be equal: {} and {}'.format(domestic_raw.date.nunique(), terrorism_raw.date.nunique()))"
   ]
  },
  {
   "cell_type": "code",
   "execution_count": 8,
   "metadata": {
    "ExecuteTime": {
     "end_time": "2020-12-13T16:06:56.701304Z",
     "start_time": "2020-12-13T16:06:56.680703Z"
    }
   },
   "outputs": [],
   "source": [
    "# Converting date types from String to datetime\n",
    "terrorism_raw['date'] = pd.to_datetime(terrorism_raw.date)\n",
    "domestic_raw['date'] = pd.to_datetime(domestic_raw.date)"
   ]
  },
  {
   "cell_type": "code",
   "execution_count": 9,
   "metadata": {
    "ExecuteTime": {
     "end_time": "2020-12-13T16:07:01.440463Z",
     "start_time": "2020-12-13T16:07:01.427964Z"
    }
   },
   "outputs": [
    {
     "name": "stdout",
     "output_type": "stream",
     "text": [
      "date       0\n",
      "tweets     0\n",
      "article    0\n",
      "dtype: int64\n",
      "date       0\n",
      "tweets     0\n",
      "article    0\n",
      "dtype: int64\n"
     ]
    }
   ],
   "source": [
    "# Checking that we do not have any invalid values\n",
    "print(terrorism_raw.isna().sum())\n",
    "print(domestic_raw.isna().sum())"
   ]
  },
  {
   "cell_type": "code",
   "execution_count": 10,
   "metadata": {
    "ExecuteTime": {
     "end_time": "2020-12-13T16:07:12.492546Z",
     "start_time": "2020-12-13T16:07:12.481856Z"
    }
   },
   "outputs": [
    {
     "name": "stdout",
     "output_type": "stream",
     "text": [
      "2012-01-01 00:00:00 2014-12-31 00:00:00\n",
      "2012-01-01 00:00:00 2014-12-31 00:00:00\n"
     ]
    }
   ],
   "source": [
    "# Checking that the dates start and end at the right time\n",
    "print(terrorism_raw.date.min(), terrorism_raw.date.max())\n",
    "print(domestic_raw.date.min(), domestic_raw.date.max())"
   ]
  },
  {
   "cell_type": "code",
   "execution_count": 11,
   "metadata": {
    "ExecuteTime": {
     "end_time": "2020-12-13T16:07:21.436110Z",
     "start_time": "2020-12-13T16:07:21.429574Z"
    }
   },
   "outputs": [],
   "source": [
    "terrorism_df = terrorism_raw.copy()\n",
    "domestic_df = domestic_raw.copy()"
   ]
  },
  {
   "cell_type": "markdown",
   "metadata": {},
   "source": [
    "Now that we know our datasets have no obvious anomalies, and all our data types are coherent, we can start the exploration phase."
   ]
  },
  {
   "cell_type": "markdown",
   "metadata": {},
   "source": [
    "# 3 - Exploration"
   ]
  },
  {
   "cell_type": "code",
   "execution_count": 13,
   "metadata": {
    "ExecuteTime": {
     "end_time": "2020-12-13T16:11:16.822986Z",
     "start_time": "2020-12-13T16:11:16.815955Z"
    }
   },
   "outputs": [],
   "source": [
    "def plot_articles_monthly(df, sample=False):\n",
    "    \"\"\"\n",
    "    For a given dataframe, plots the views per month. Plot a random article is `sample` is \n",
    "    `True` and all of them otherwise.\n",
    "    \"\"\"\n",
    "    articles = df.article.unique()\n",
    "    \n",
    "    if sample:\n",
    "        index = np.random.randint(len(articles))\n",
    "        articles = [articles[index]]\n",
    "        \n",
    "    for article in articles:\n",
    "        monthly = df[df.article == article].groupby(pd.Grouper(key='date', freq='M')).sum()\n",
    "        plt.figure(figsize=(15,3))\n",
    "        sns.scatterplot(x='date', y='tweets', data=monthly)\n",
    "        plt.title(article)\n",
    "        plt.show()"
   ]
  },
  {
   "cell_type": "markdown",
   "metadata": {},
   "source": [
    "The first exploratory step is to look at the views per keyword, but since we don't want to plot every day as it would be too many datapoints and be unreadable we will group them by month."
   ]
  },
  {
   "cell_type": "code",
   "execution_count": 19,
   "metadata": {
    "ExecuteTime": {
     "end_time": "2020-12-13T16:11:41.506071Z",
     "start_time": "2020-12-13T16:11:41.191336Z"
    },
    "scrolled": true
   },
   "outputs": [
    {
     "data": {
      "image/png": "[encoded data removed]",
      "text/plain": [
       "<Figure size 1080x216 with 1 Axes>"
      ]
     },
     "metadata": {
      "needs_background": "light"
     },
     "output_type": "display_data"
    }
   ],
   "source": [
    "plot_articles_monthly(terrorism_df, sample=True)"
   ]
  },
  {
   "cell_type": "code",
   "execution_count": 20,
   "metadata": {
    "ExecuteTime": {
     "end_time": "2020-12-13T16:11:49.293806Z",
     "start_time": "2020-12-13T16:11:49.050361Z"
    },
    "scrolled": true
   },
   "outputs": [
    {
     "data": {
      "image/png": "[encoded data removed]",
      "text/plain": [
       "<Figure size 1080x216 with 1 Axes>"
      ]
     },
     "metadata": {
      "needs_background": "light"
     },
     "output_type": "display_data"
    }
   ],
   "source": [
    "plot_articles_monthly(domestic_df, sample=True)"
   ]
  },
  {
   "cell_type": "markdown",
   "metadata": {},
   "source": [
    "We observe that for individual articles, the tweet count is quite irregular. Let us look at the global trend by aggregating every keyword."
   ]
  },
  {
   "cell_type": "code",
   "execution_count": 21,
   "metadata": {
    "ExecuteTime": {
     "end_time": "2020-12-13T16:12:14.062486Z",
     "start_time": "2020-12-13T16:12:14.024789Z"
    }
   },
   "outputs": [],
   "source": [
    "monthly_terrorism_df = terrorism_df.groupby(pd.Grouper(key='date', freq='M')).sum().reset_index()\n",
    "monthly_domestic_df = domestic_df.groupby(pd.Grouper(key='date', freq='M')).sum().reset_index()"
   ]
  },
  {
   "cell_type": "code",
   "execution_count": 28,
   "metadata": {
    "ExecuteTime": {
     "end_time": "2020-12-13T16:23:07.341820Z",
     "start_time": "2020-12-13T16:23:06.698511Z"
    }
   },
   "outputs": [
    {
     "data": {
      "image/png": "[encoded data removed]",
      "text/plain": [
       "<Figure size 1080x360 with 1 Axes>"
      ]
     },
     "metadata": {
      "needs_background": "light"
     },
     "output_type": "display_data"
    },
    {
     "data": {
      "image/png": "[encoded data removed]",
      "text/plain": [
       "<Figure size 1080x360 with 1 Axes>"
      ]
     },
     "metadata": {
      "needs_background": "light"
     },
     "output_type": "display_data"
    }
   ],
   "source": [
    "def plot_global_trend(df, title):\n",
    "    \"\"\"Plot the number of tweets per day contained in the given dataframe.\"\"\"\n",
    "    plt.figure(figsize=(15,5))\n",
    "    sns.scatterplot(x='date', y='tweets', data=df)\n",
    "    plt.title(title)\n",
    "\n",
    "plot_global_trend(monthly_terrorism_df, 'Terrorism articles')\n",
    "plot_global_trend(monthly_domestic_df, 'Domestic security articles')"
   ]
  },
  {
   "cell_type": "markdown",
   "metadata": {},
   "source": [
    "Here the data is not as irregular but we still have some peaks at various points in time and not a stable trend. However, we might have a few keywords with a high number of tweets skewing our results. We will try to do the same plots, but we will first process the dataset in the following way: \n",
    "\n",
    "For each keyword, we will normalize the number of tweets each month by dividing it by the maximum number of tweets on any given month, so that the resulting value is between 0 and 1, but the trend will look the same. This way every keyword gives an equal contribution to the global trend. \n",
    "This makes sense because we are interested in trends for each keyword individually, and this will not be modified by this operation."
   ]
  },
  {
   "cell_type": "code",
   "execution_count": 26,
   "metadata": {
    "ExecuteTime": {
     "end_time": "2020-12-13T16:20:00.151903Z",
     "start_time": "2020-12-13T16:19:59.918016Z"
    }
   },
   "outputs": [
    {
     "data": {
      "image/png": "[encoded data removed]",
      "text/plain": [
       "<Figure size 1080x216 with 1 Axes>"
      ]
     },
     "metadata": {
      "needs_background": "light"
     },
     "output_type": "display_data"
    }
   ],
   "source": [
    "# Here is an example of this operation on a single article :\n",
    "keyword = 'al-qaeda'\n",
    "monthly = terrorism_df[terrorism_df.article == keyword].groupby(pd.Grouper(key='date', freq='M')).sum()\n",
    "monthly['tweets'] = monthly.tweets/monthly.tweets.max() # Here we divide by max tweets in a month\n",
    "plt.figure(figsize=(15,3))\n",
    "sns.scatterplot(x='date', y='tweets', data=monthly)\n",
    "plt.title(keyword)\n",
    "plt.show()\n",
    "# As we can see, the only the y-axis changed, but the relative values are the same"
   ]
  },
  {
   "cell_type": "code",
   "execution_count": 29,
   "metadata": {
    "ExecuteTime": {
     "end_time": "2020-12-13T16:28:34.460763Z",
     "start_time": "2020-12-13T16:28:31.209166Z"
    }
   },
   "outputs": [
    {
     "data": {
      "image/png": "[encoded data removed]",
      "text/plain": [
       "<Figure size 1080x360 with 1 Axes>"
      ]
     },
     "metadata": {
      "needs_background": "light"
     },
     "output_type": "display_data"
    },
    {
     "data": {
      "image/png": "[encoded data removed]",
      "text/plain": [
       "<Figure size 1080x360 with 1 Axes>"
      ]
     },
     "metadata": {
      "needs_background": "light"
     },
     "output_type": "display_data"
    }
   ],
   "source": [
    "# Now we apply this operation on all keywords before summing\n",
    "def normalize_df_and_plot_monthly(df, title):\n",
    "    \"\"\"Normalize the articles in df by dividing the articles counts by their respective maximum monthly counts.\"\"\"\n",
    "    copy = df.copy()\n",
    "    for keyword in copy.article.unique():\n",
    "        #Compute the monthly counts\n",
    "        monthly = copy[copy.article == keyword].groupby(pd.Grouper(key='date', freq='M')).sum()\n",
    "        #Normalize the current article counts\n",
    "        copy.tweets = np.where(copy.article == keyword, copy.tweets/monthly.tweets.max(), copy.tweets)\n",
    "    norm_monthly_df = copy.groupby(pd.Grouper(key='date', freq='M')).sum().reset_index()\n",
    "    \n",
    "    #Plot the normalized dataframe\n",
    "    plt.figure(figsize=(15,5))\n",
    "    sns.scatterplot(x='date', y='tweets', data=norm_monthly_df)\n",
    "    plt.title(title)\n",
    "    return norm_monthly_df\n",
    "\n",
    "normalized_terrorism_df = normalize_df_and_plot_monthly(terrorism_df, 'Terrorism normalized counts')\n",
    "normalized_domestic_df = normalize_df_and_plot_monthly(domestic_df, 'Domestic security normalized counts')"
   ]
  },
  {
   "cell_type": "markdown",
   "metadata": {},
   "source": [
    "However an issue arises now because keywords with very few tweets might be very irregular since stability comes from having a lot of users taking turns tweeting about a subjects. For instance, the trend of a keyword that is only tweeted by 10 people might be severely affected if only one of them stops. We will look at the mean number of tweets per subject and take out articles with under 100 tweets per day on average."
   ]
  },
  {
   "cell_type": "code",
   "execution_count": 64,
   "metadata": {
    "ExecuteTime": {
     "end_time": "2020-12-13T16:57:36.784779Z",
     "start_time": "2020-12-13T16:57:36.750319Z"
    }
   },
   "outputs": [
    {
     "name": "stdout",
     "output_type": "stream",
     "text": [
      "Eliminated 16 keywords out of 27\n",
      "Eliminated 17 keywords out of 24\n"
     ]
    }
   ],
   "source": [
    "def eliminate_low_tweets(df):\n",
    "    df_means = df.groupby(pd.Grouper(key='article')).mean()\n",
    "    nb_keywords = df_means.index.nunique()\n",
    "    df_means = df_means[df_means.tweets > 100.0]\n",
    "    new_nb_keywords = df_means.index.nunique()\n",
    "    print('Eliminated {} keywords out of {}'.format(nb_keywords - new_nb_keywords, nb_keywords))\n",
    "    return df[df.article.isin(df_means.index)]\n",
    "\n",
    "filtered_terrorism_df = eliminate_low_tweets(terrorism_df)\n",
    "filtered_domestic_df = eliminate_low_tweets(domestic_df)"
   ]
  },
  {
   "cell_type": "code",
   "execution_count": 65,
   "metadata": {
    "ExecuteTime": {
     "end_time": "2020-12-13T16:57:37.999904Z",
     "start_time": "2020-12-13T16:57:37.377507Z"
    }
   },
   "outputs": [
    {
     "data": {
      "image/png": "[encoded data removed]",
      "text/plain": [
       "<Figure size 1080x360 with 1 Axes>"
      ]
     },
     "metadata": {
      "needs_background": "light"
     },
     "output_type": "display_data"
    },
    {
     "data": {
      "image/png": "[encoded data removed]",
      "text/plain": [
       "<Figure size 1080x360 with 1 Axes>"
      ]
     },
     "metadata": {
      "needs_background": "light"
     },
     "output_type": "display_data"
    }
   ],
   "source": [
    "final_terrorism_df = normalize_df_and_plot_monthly(filtered_terrorism_df, 'Terrorism normalized and filtered counts')\n",
    "final_domestic_df = normalize_df_and_plot_monthly(filtered_domestic_df, 'Domestic security  normalized and filtered counts')"
   ]
  },
  {
   "cell_type": "markdown",
   "metadata": {},
   "source": [
    "The trends look somewhat smoother now. We can proceed with the analysis"
   ]
  },
  {
   "cell_type": "markdown",
   "metadata": {},
   "source": [
    "# 4 - Data analysis"
   ]
  },
  {
   "cell_type": "code",
   "execution_count": 66,
   "metadata": {
    "ExecuteTime": {
     "end_time": "2020-12-13T16:57:40.796663Z",
     "start_time": "2020-12-13T16:57:40.780494Z"
    }
   },
   "outputs": [
    {
     "data": {
      "text/html": [
       "<div>\n",
       "<style scoped>\n",
       "    .dataframe tbody tr th:only-of-type {\n",
       "        vertical-align: middle;\n",
       "    }\n",
       "\n",
       "    .dataframe tbody tr th {\n",
       "        vertical-align: top;\n",
       "    }\n",
       "\n",
       "    .dataframe thead th {\n",
       "        text-align: right;\n",
       "    }\n",
       "</style>\n",
       "<table border=\"1\" class=\"dataframe\">\n",
       "  <thead>\n",
       "    <tr style=\"text-align: right;\">\n",
       "      <th></th>\n",
       "      <th>date</th>\n",
       "      <th>tweets_security</th>\n",
       "      <th>tweets_terrorism</th>\n",
       "    </tr>\n",
       "  </thead>\n",
       "  <tbody>\n",
       "    <tr>\n",
       "      <th>0</th>\n",
       "      <td>2012-01-31</td>\n",
       "      <td>1.727746</td>\n",
       "      <td>3.054700</td>\n",
       "    </tr>\n",
       "    <tr>\n",
       "      <th>1</th>\n",
       "      <td>2012-02-29</td>\n",
       "      <td>1.734141</td>\n",
       "      <td>3.290300</td>\n",
       "    </tr>\n",
       "    <tr>\n",
       "      <th>2</th>\n",
       "      <td>2012-03-31</td>\n",
       "      <td>1.886777</td>\n",
       "      <td>3.568069</td>\n",
       "    </tr>\n",
       "    <tr>\n",
       "      <th>3</th>\n",
       "      <td>2012-04-30</td>\n",
       "      <td>3.081733</td>\n",
       "      <td>3.156634</td>\n",
       "    </tr>\n",
       "    <tr>\n",
       "      <th>4</th>\n",
       "      <td>2012-05-31</td>\n",
       "      <td>1.971143</td>\n",
       "      <td>4.112672</td>\n",
       "    </tr>\n",
       "  </tbody>\n",
       "</table>\n",
       "</div>"
      ],
      "text/plain": [
       "        date  tweets_security  tweets_terrorism\n",
       "0 2012-01-31         1.727746          3.054700\n",
       "1 2012-02-29         1.734141          3.290300\n",
       "2 2012-03-31         1.886777          3.568069\n",
       "3 2012-04-30         3.081733          3.156634\n",
       "4 2012-05-31         1.971143          4.112672"
      ]
     },
     "execution_count": 66,
     "metadata": {},
     "output_type": "execute_result"
    }
   ],
   "source": [
    "# We start by merging both dataframes\n",
    "total_tweets = final_domestic_df.copy()\n",
    "total_tweets = total_tweets.rename(columns={\"tweets\": \"tweets_security\"})\n",
    "total_tweets['tweets_terrorism'] = final_terrorism_df['tweets']\n",
    "\n",
    "# Then we sort by month, and reset the index to have them numbered in increasing order\n",
    "total_tweets = total_tweets.sort_values('date')\n",
    "total_tweets.head()"
   ]
  },
  {
   "cell_type": "markdown",
   "metadata": {},
   "source": [
    "Now we perform the Interrupted Time Series analysis\n",
    "\n",
    "The regression formula is as follows : $$Y_t = \\beta_0 + \\beta_1\\times time + \\beta_2\\times intervention + \\beta_3\\times postslope + \\epsilon_{1}$$\n",
    "\n",
    "Where $Y_t$ is the views at time $t$, the $\\beta$ are the parameters of the model, and $\\epsilon_1$ is the residuals\n",
    "\n",
    "There are 3 variables that are used to predict the total views :\n",
    "\n",
    "`time`, `intervention` and `postslope`. I will create a column for each in the dataframe :\n",
    "\n",
    "- Time: This is just the current month, from 1 to 32\n",
    "- Intervention: Whether or not the interruption has happened already (0 for the first 17 months, then 1)\n",
    "- Postslope: The time since the interruption (0 for the first 17 months, then $time - 17$)"
   ]
  },
  {
   "cell_type": "code",
   "execution_count": 67,
   "metadata": {
    "ExecuteTime": {
     "end_time": "2020-12-13T16:59:17.356766Z",
     "start_time": "2020-12-13T16:59:17.348338Z"
    }
   },
   "outputs": [],
   "source": [
    "# Now we create those variables in our dataframe\n",
    "total_tweets['time'] = total_tweets.index+1\n",
    "total_tweets['intervention'] = np.where(total_tweets['time'] <= 17, 0, 1)\n",
    "total_tweets['postslope'] = (total_tweets.time - 17) * total_tweets.intervention"
   ]
  },
  {
   "cell_type": "code",
   "execution_count": 72,
   "metadata": {
    "ExecuteTime": {
     "end_time": "2020-12-13T17:00:13.603861Z",
     "start_time": "2020-12-13T17:00:13.549698Z"
    },
    "scrolled": false
   },
   "outputs": [
    {
     "name": "stdout",
     "output_type": "stream",
     "text": [
      "\n",
      "terrorism model :\n",
      "                            OLS Regression Results                            \n",
      "==============================================================================\n",
      "Dep. Variable:       tweets_terrorism   R-squared:                       0.484\n",
      "Model:                            OLS   Adj. R-squared:                  0.435\n",
      "Method:                 Least Squares   F-statistic:                     9.990\n",
      "Date:                Sun, 13 Dec 2020   Prob (F-statistic):           8.46e-05\n",
      "Time:                        18:00:13   Log-Likelihood:                -33.905\n",
      "No. Observations:                  36   AIC:                             75.81\n",
      "Df Residuals:                      32   BIC:                             82.14\n",
      "Df Model:                           3                                         \n",
      "Covariance Type:            nonrobust                                         \n",
      "================================================================================\n",
      "                   coef    std err          t      P>|t|      [0.025      0.975]\n",
      "--------------------------------------------------------------------------------\n",
      "Intercept        3.1010      0.334      9.287      0.000       2.421       3.781\n",
      "time             0.1076      0.033      3.302      0.002       0.041       0.174\n",
      "intervention    -0.9767      0.438     -2.227      0.033      -1.870      -0.084\n",
      "postslope       -0.0257      0.043     -0.602      0.551      -0.113       0.061\n",
      "==============================================================================\n",
      "Omnibus:                        0.377   Durbin-Watson:                   1.639\n",
      "Prob(Omnibus):                  0.828   Jarque-Bera (JB):                0.481\n",
      "Skew:                           0.214   Prob(JB):                        0.786\n",
      "Kurtosis:                       2.629   Cond. No.                         95.9\n",
      "==============================================================================\n",
      "\n",
      "Warnings:\n",
      "[1] Standard Errors assume that the covariance matrix of the errors is correctly specified.\n",
      "\n",
      "security model :\n",
      "                            OLS Regression Results                            \n",
      "==============================================================================\n",
      "Dep. Variable:        tweets_security   R-squared:                       0.164\n",
      "Model:                            OLS   Adj. R-squared:                  0.086\n",
      "Method:                 Least Squares   F-statistic:                     2.098\n",
      "Date:                Sun, 13 Dec 2020   Prob (F-statistic):              0.120\n",
      "Time:                        18:00:13   Log-Likelihood:                -21.876\n",
      "No. Observations:                  36   AIC:                             51.75\n",
      "Df Residuals:                      32   BIC:                             58.09\n",
      "Df Model:                           3                                         \n",
      "Covariance Type:            nonrobust                                         \n",
      "================================================================================\n",
      "                   coef    std err          t      P>|t|      [0.025      0.975]\n",
      "--------------------------------------------------------------------------------\n",
      "Intercept        2.1125      0.239      8.837      0.000       1.626       2.599\n",
      "time             0.0136      0.023      0.583      0.564      -0.034       0.061\n",
      "intervention    -0.3733      0.314     -1.189      0.243      -1.013       0.266\n",
      "postslope        0.0297      0.031      0.972      0.338      -0.033       0.092\n",
      "==============================================================================\n",
      "Omnibus:                        6.685   Durbin-Watson:                   1.106\n",
      "Prob(Omnibus):                  0.035   Jarque-Bera (JB):                5.301\n",
      "Skew:                           0.886   Prob(JB):                       0.0706\n",
      "Kurtosis:                       3.629   Cond. No.                         95.9\n",
      "==============================================================================\n",
      "\n",
      "Warnings:\n",
      "[1] Standard Errors assume that the covariance matrix of the errors is correctly specified.\n"
     ]
    }
   ],
   "source": [
    "# Now that all our variables are ready, we can fit our regressions (one for each dataset)\n",
    "def regression_model(df, name):\n",
    "    # Declaring the model\n",
    "    print('\\n{} model :'.format(name))\n",
    "    model = smf.ols(formula='tweets_{} ~ time + intervention + postslope'.format(name), data=df)\n",
    "\n",
    "    # Fitting the model\n",
    "    np.random.seed(1)\n",
    "    result = model.fit()\n",
    "\n",
    "    # Checking the results\n",
    "    print(result.summary())\n",
    "    return result\n",
    "\n",
    "result_terrorism = regression_model(total_tweets, 'terrorism')\n",
    "result_security = regression_model(total_tweets, 'security')"
   ]
  },
  {
   "cell_type": "markdown",
   "metadata": {},
   "source": [
    "For the first model, the terrorism keywords, we find an adjusted R-squared value of 0.435, which means that even when accounting for the number of parameters, there is quite a strong explanatory power. Indeed, our p-value for `time` is very close to zero, and even though the p-value for `intervention` is higher, is is still under 0.05, which suggests a significance in this result. On the other hand, the p-value of `postslope` is greater than 0.05 which  means that the statistical significance for this parameter is very weak. So overall, the results point to an immediate decrease in tweets after the Snowden revelations (intervention = -0.37) but no significant change in the upwards post-intervention trend.\n",
    "\n",
    "For the second model, we only have R-squared = 0.164 which is not very high, but when adjusting for the number of parameters, the explanatory power falls to 0.086. Furthermore, all p-values are above 0.2, only suggesting at best a very weak predictive power for both `intervention` and `postslope`. It seems like the model is not very relevant for this set of keywords. This is expected from keywords which were not supposed to be affected by Chilling Effects."
   ]
  },
  {
   "cell_type": "code",
   "execution_count": 73,
   "metadata": {
    "ExecuteTime": {
     "end_time": "2020-12-13T17:10:37.982231Z",
     "start_time": "2020-12-13T17:10:37.940437Z"
    }
   },
   "outputs": [
    {
     "data": {
      "text/html": [
       "<div>\n",
       "<style scoped>\n",
       "    .dataframe tbody tr th:only-of-type {\n",
       "        vertical-align: middle;\n",
       "    }\n",
       "\n",
       "    .dataframe tbody tr th {\n",
       "        vertical-align: top;\n",
       "    }\n",
       "\n",
       "    .dataframe thead th {\n",
       "        text-align: right;\n",
       "    }\n",
       "</style>\n",
       "<table border=\"1\" class=\"dataframe\">\n",
       "  <thead>\n",
       "    <tr style=\"text-align: right;\">\n",
       "      <th></th>\n",
       "      <th>date</th>\n",
       "      <th>tweets_security</th>\n",
       "      <th>tweets_terrorism</th>\n",
       "      <th>time</th>\n",
       "      <th>intervention</th>\n",
       "      <th>postslope</th>\n",
       "      <th>prediction_terrorism</th>\n",
       "      <th>confidence_lower_terrorism</th>\n",
       "      <th>confidence_upper_terrorism</th>\n",
       "      <th>prediction_security</th>\n",
       "      <th>confidence_lower_security</th>\n",
       "      <th>confidence_upper_security</th>\n",
       "    </tr>\n",
       "  </thead>\n",
       "  <tbody>\n",
       "    <tr>\n",
       "      <th>0</th>\n",
       "      <td>2012-01-31</td>\n",
       "      <td>1.727746</td>\n",
       "      <td>3.054700</td>\n",
       "      <td>1</td>\n",
       "      <td>0</td>\n",
       "      <td>0</td>\n",
       "      <td>3.208570</td>\n",
       "      <td>2.585918</td>\n",
       "      <td>3.831223</td>\n",
       "      <td>2.126097</td>\n",
       "      <td>1.680309</td>\n",
       "      <td>2.571886</td>\n",
       "    </tr>\n",
       "    <tr>\n",
       "      <th>1</th>\n",
       "      <td>2012-02-29</td>\n",
       "      <td>1.734141</td>\n",
       "      <td>3.290300</td>\n",
       "      <td>2</td>\n",
       "      <td>0</td>\n",
       "      <td>0</td>\n",
       "      <td>3.316172</td>\n",
       "      <td>2.749064</td>\n",
       "      <td>3.883280</td>\n",
       "      <td>2.139692</td>\n",
       "      <td>1.733671</td>\n",
       "      <td>2.545714</td>\n",
       "    </tr>\n",
       "    <tr>\n",
       "      <th>2</th>\n",
       "      <td>2012-03-31</td>\n",
       "      <td>1.886777</td>\n",
       "      <td>3.568069</td>\n",
       "      <td>3</td>\n",
       "      <td>0</td>\n",
       "      <td>0</td>\n",
       "      <td>3.423773</td>\n",
       "      <td>2.909635</td>\n",
       "      <td>3.937912</td>\n",
       "      <td>2.153287</td>\n",
       "      <td>1.785190</td>\n",
       "      <td>2.521385</td>\n",
       "    </tr>\n",
       "    <tr>\n",
       "      <th>3</th>\n",
       "      <td>2012-04-30</td>\n",
       "      <td>3.081733</td>\n",
       "      <td>3.156634</td>\n",
       "      <td>4</td>\n",
       "      <td>0</td>\n",
       "      <td>0</td>\n",
       "      <td>3.531375</td>\n",
       "      <td>3.066750</td>\n",
       "      <td>3.996000</td>\n",
       "      <td>2.166882</td>\n",
       "      <td>1.834234</td>\n",
       "      <td>2.499531</td>\n",
       "    </tr>\n",
       "    <tr>\n",
       "      <th>4</th>\n",
       "      <td>2012-05-31</td>\n",
       "      <td>1.971143</td>\n",
       "      <td>4.112672</td>\n",
       "      <td>5</td>\n",
       "      <td>0</td>\n",
       "      <td>0</td>\n",
       "      <td>3.638977</td>\n",
       "      <td>3.219184</td>\n",
       "      <td>4.058769</td>\n",
       "      <td>2.180478</td>\n",
       "      <td>1.879927</td>\n",
       "      <td>2.481028</td>\n",
       "    </tr>\n",
       "  </tbody>\n",
       "</table>\n",
       "</div>"
      ],
      "text/plain": [
       "        date  tweets_security  tweets_terrorism  time  intervention  \\\n",
       "0 2012-01-31         1.727746          3.054700     1             0   \n",
       "1 2012-02-29         1.734141          3.290300     2             0   \n",
       "2 2012-03-31         1.886777          3.568069     3             0   \n",
       "3 2012-04-30         3.081733          3.156634     4             0   \n",
       "4 2012-05-31         1.971143          4.112672     5             0   \n",
       "\n",
       "   postslope  prediction_terrorism  confidence_lower_terrorism  \\\n",
       "0          0              3.208570                    2.585918   \n",
       "1          0              3.316172                    2.749064   \n",
       "2          0              3.423773                    2.909635   \n",
       "3          0              3.531375                    3.066750   \n",
       "4          0              3.638977                    3.219184   \n",
       "\n",
       "   confidence_upper_terrorism  prediction_security  confidence_lower_security  \\\n",
       "0                    3.831223             2.126097                   1.680309   \n",
       "1                    3.883280             2.139692                   1.733671   \n",
       "2                    3.937912             2.153287                   1.785190   \n",
       "3                    3.996000             2.166882                   1.834234   \n",
       "4                    4.058769             2.180478                   1.879927   \n",
       "\n",
       "   confidence_upper_security  \n",
       "0                   2.571886  \n",
       "1                   2.545714  \n",
       "2                   2.521385  \n",
       "3                   2.499531  \n",
       "4                   2.481028  "
      ]
     },
     "execution_count": 73,
     "metadata": {},
     "output_type": "execute_result"
    }
   ],
   "source": [
    "# We now have the parameters of our model, so we can make our predictions for the total tweets per month\n",
    "# We also produce 95% confidence intervals\n",
    "def predict(result, df, name):\n",
    "    beta_0 = result.params['Intercept']\n",
    "    beta_1 = result.params['time']\n",
    "    beta_2 = result.params['intervention']\n",
    "    beta_3 = result.params['postslope']\n",
    "    confidence = result.get_prediction(total_tweets).conf_int(alpha=0.05)\n",
    "    df['prediction_{}'.format(name)] = beta_0 + beta_1*df.time + beta_2*df.intervention + beta_3*df.postslope\n",
    "    df['confidence_lower_{}'.format(name)] = confidence[:, 0]\n",
    "    df['confidence_upper_{}'.format(name)] = confidence[:, 1]\n",
    "    \n",
    "predict(result_terrorism, total_tweets, 'terrorism')\n",
    "predict(result_security, total_tweets, 'security')\n",
    "total_tweets.head()"
   ]
  },
  {
   "cell_type": "code",
   "execution_count": 78,
   "metadata": {
    "ExecuteTime": {
     "end_time": "2020-12-13T17:16:45.309170Z",
     "start_time": "2020-12-13T17:16:44.989267Z"
    }
   },
   "outputs": [
    {
     "data": {
      "image/png": "[encoded data removed]",
      "text/plain": [
       "<Figure size 720x360 with 1 Axes>"
      ]
     },
     "metadata": {
      "needs_background": "light"
     },
     "output_type": "display_data"
    }
   ],
   "source": [
    "# Finally, we plot the results with 95% confidence intervals\n",
    "def plot_half(half, df, color, label='__nolegend__'):\n",
    "    x = half['time']\n",
    "    plt.plot(x, half['prediction_{}'.format(df)], color=color)\n",
    "    plt.scatter(x, half['tweets_{}'.format(df)], color=color, label=label)\n",
    "    plt.fill_between(x, half['confidence_lower_{}'.format(df)], half['confidence_upper_{}'.format(df)], color=color, alpha=0.3)\n",
    "\n",
    "def plot_predictions(df, name, color):\n",
    "    total_tweets_pre_interruption = total_tweets[:17]\n",
    "    total_tweets_post_interruption = total_tweets[17:]\n",
    "    plot_half(total_tweets_pre_interruption, name, color, label='Tweets for {}-related keywords'.format(name))\n",
    "    plot_half(total_tweets_post_interruption, name, color)\n",
    "    \n",
    "    \n",
    "\n",
    "plt.figure(figsize=(10,5))\n",
    "plot_predictions(total_tweets, 'terrorism', 'xkcd:lipstick red')\n",
    "plot_predictions(total_tweets, 'security', 'xkcd:ultramarine blue')\n",
    "plt.axvline(17.5, color='black', label='_nolegend_')\n",
    "plt.xlabel('Time (Months)')\n",
    "plt.ylabel('Total tweets normaized')\n",
    "plt.title(\"Evolution of number of tweets over time\")\n",
    "plt.legend(bbox_to_anchor=(1.05, 1), loc='upper left')\n",
    "plt.show()"
   ]
  },
  {
   "cell_type": "markdown",
   "metadata": {},
   "source": [
    "In accordance with the model parameters commented above, we observe a drop in tweets following the Snowden revelations, but no change in the trend for the terrorism keywords\n",
    "For the security keywords, there is almost no drop, and only a very slight change in trend (going up)"
   ]
  },
  {
   "cell_type": "code",
   "execution_count": null,
   "metadata": {},
   "outputs": [],
   "source": []
  }
 ],
 "metadata": {
  "kernelspec": {
   "display_name": "Python 3",
   "language": "python",
   "name": "python3"
  },
  "language_info": {
   "codemirror_mode": {
    "name": "ipython",
    "version": 3
   },
   "file_extension": ".py",
   "mimetype": "text/x-python",
   "name": "python",
   "nbconvert_exporter": "python",
   "pygments_lexer": "ipython3",
   "version": "3.7.1"
  },
  "toc": {
   "base_numbering": 1,
   "nav_menu": {},
   "number_sections": true,
   "sideBar": true,
   "skip_h1_title": false,
   "title_cell": "Table of Contents",
   "title_sidebar": "Contents",
   "toc_cell": false,
   "toc_position": {},
   "toc_section_display": true,
   "toc_window_display": false
  }
 },
 "nbformat": 4,
 "nbformat_minor": 4
}
