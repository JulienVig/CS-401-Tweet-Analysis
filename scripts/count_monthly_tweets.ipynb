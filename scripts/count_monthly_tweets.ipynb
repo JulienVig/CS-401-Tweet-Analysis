{
 "cells": [
  {
   "cell_type": "code",
   "execution_count": 2,
   "metadata": {
    "ExecuteTime": {
     "end_time": "2020-12-12T16:41:48.013824Z",
     "start_time": "2020-12-12T16:41:47.412838Z"
    }
   },
   "outputs": [],
   "source": [
    "import os\n",
    "import sys\n",
    "import pandas as pd\n",
    "import numpy as np\n",
    "from datetime import datetime"
   ]
  },
  {
   "cell_type": "code",
   "execution_count": 3,
   "metadata": {
    "ExecuteTime": {
     "end_time": "2020-12-12T16:42:15.688705Z",
     "start_time": "2020-12-12T16:42:15.674617Z"
    }
   },
   "outputs": [],
   "source": [
    "def count_monthly_views(init, path, article):\n",
    "    df = pd.read_csv(path)\n",
    "    if article == 'coast_guard':\n",
    "        df = df[df.date != '[]']\n",
    "    df[\"date\"] = pd.to_datetime(df.date)\n",
    "    count = df.groupby(\"date\").count()[['id']].rename(columns={'id':'tweets'})\n",
    "    entire_period = (init + count).fillna(value=0)\n",
    "    entire_period['tweets'] = entire_period.tweets.astype(int)\n",
    "    entire_period['article'] = article\n",
    "    return entire_period.reset_index()\n",
    "\n",
    "\n",
    "def compute_count():\n",
    "    SRC = \"/Volumes/PAULHD2/tweets/data/\"\n",
    "    DOMAINS = ['domestic_security']\n",
    "    WRITE_FOLDER = \"/Volumes/PAULHD2/tweets/monthly_count/\"\n",
    "    \n",
    "    start_date = datetime(2012, 1, 1)\n",
    "    end_date = datetime(2014,12,31)\n",
    "    dates = pd.date_range(start_date,end_date,freq='d', name='date')\n",
    "    init = pd.DataFrame(data=np.zeros((len(dates),1)),columns=['tweets'],index=dates, dtype=int)\n",
    "    \n",
    "    for folder in DOMAINS:\n",
    "        counts = pd.DataFrame(columns=[\"date\", 'tweets', 'article'])\n",
    "        for file in sorted(os.listdir(SRC + folder)):\n",
    "            print(file)\n",
    "            article = file.split('.csv')[0]\n",
    "            counts = counts.append(count_monthly_views(init, SRC + folder + '/' + file, article))\n",
    "        counts.to_csv(WRITE_FOLDER + folder + '.csv')"
   ]
  },
  {
   "cell_type": "code",
   "execution_count": 4,
   "metadata": {
    "ExecuteTime": {
     "end_time": "2020-12-12T16:44:12.528120Z",
     "start_time": "2020-12-12T16:42:16.300885Z"
    },
    "scrolled": false
   },
   "outputs": [
    {
     "name": "stdout",
     "output_type": "stream",
     "text": [
      "air_marshal.csv\n"
     ]
    },
    {
     "name": "stderr",
     "output_type": "stream",
     "text": [
      "/Applications/anaconda3/lib/python3.7/site-packages/IPython/core/interactiveshell.py:3319: DtypeWarning: Columns (23) have mixed types.Specify dtype option on import or set low_memory=False.\n",
      "  exec(code_obj, self.user_global_ns, self.user_ns)\n"
     ]
    },
    {
     "name": "stdout",
     "output_type": "stream",
     "text": [
      "alcohol_and_tobacco_tax_and_trade_bureau.csv\n",
      "border_patrol.csv\n",
      "bureau_of_land_management.csv\n",
      "central_intelligence_agency.csv\n",
      "coast_guard.csv\n"
     ]
    },
    {
     "name": "stderr",
     "output_type": "stream",
     "text": [
      "/Applications/anaconda3/lib/python3.7/site-packages/IPython/core/interactiveshell.py:3319: DtypeWarning: Columns (0,1,2,3,4,5,8,9,10,11,12,13,14,15,19,20,21,22,23,25,32) have mixed types.Specify dtype option on import or set low_memory=False.\n",
      "  exec(code_obj, self.user_global_ns, self.user_ns)\n"
     ]
    },
    {
     "name": "stdout",
     "output_type": "stream",
     "text": [
      "customs_and_border_protection.csv\n",
      "emergency_management.csv\n",
      "espionage.csv\n",
      "federal_air_marshal_service.csv\n",
      "federal_aviation_administration.csv\n"
     ]
    },
    {
     "name": "stderr",
     "output_type": "stream",
     "text": [
      "/Applications/anaconda3/lib/python3.7/site-packages/IPython/core/interactiveshell.py:3319: DtypeWarning: Columns (23,25) have mixed types.Specify dtype option on import or set low_memory=False.\n",
      "  exec(code_obj, self.user_global_ns, self.user_ns)\n"
     ]
    },
    {
     "name": "stdout",
     "output_type": "stream",
     "text": [
      "federal_bureau_of_investigation.csv\n",
      "federal_emergency_management_agency.csv\n",
      "fusion_center.csv\n",
      "homeland_defense.csv\n",
      "national_guard.csv\n",
      "secret_service.csv\n",
      "secure_border_initiative.csv\n",
      "task_force_88_(anti-terrorist_unit).csv\n",
      "transportation_security_administration.csv\n",
      "u.s._immigration_and_customs_enforcement.csv\n",
      "united_nations.csv\n",
      "united_states_citizenship_and_immigration_services.csv\n",
      "united_states_department_of_homeland_security.csv\n"
     ]
    }
   ],
   "source": [
    "compute_count()"
   ]
  },
  {
   "cell_type": "code",
   "execution_count": null,
   "metadata": {},
   "outputs": [],
   "source": []
  }
 ],
 "metadata": {
  "kernelspec": {
   "display_name": "Python 3",
   "language": "python",
   "name": "python3"
  },
  "language_info": {
   "codemirror_mode": {
    "name": "ipython",
    "version": 3
   },
   "file_extension": ".py",
   "mimetype": "text/x-python",
   "name": "python",
   "nbconvert_exporter": "python",
   "pygments_lexer": "ipython3",
   "version": "3.7.1"
  },
  "toc": {
   "base_numbering": 1,
   "nav_menu": {},
   "number_sections": true,
   "sideBar": true,
   "skip_h1_title": false,
   "title_cell": "Table of Contents",
   "title_sidebar": "Contents",
   "toc_cell": false,
   "toc_position": {},
   "toc_section_display": true,
   "toc_window_display": false
  }
 },
 "nbformat": 4,
 "nbformat_minor": 4
}
