{
 "cells": [
  {
   "cell_type": "code",
   "execution_count": 1,
   "metadata": {
    "ExecuteTime": {
     "end_time": "2020-11-27T19:12:20.601826Z",
     "start_time": "2020-11-27T19:12:20.595626Z"
    }
   },
   "outputs": [],
   "source": [
    "import os"
   ]
  },
  {
   "cell_type": "code",
   "execution_count": 2,
   "metadata": {
    "ExecuteTime": {
     "end_time": "2020-11-27T19:08:01.433678Z",
     "start_time": "2020-11-27T19:08:01.423065Z"
    },
    "scrolled": true
   },
   "outputs": [
    {
     "name": "stdout",
     "output_type": "stream",
     "text": [
      "['abu_sayyaf', 'afghanistan', 'agro', 'al-qaeda', 'al-qaeda_in_the_arabian_peninsula', 'al-qaeda_in_the_islamic_maghreb', 'al-shabaab', 'ammonium_nitrate', 'attack', 'biological_weapon', 'car_bomb', 'chemical_weapon', 'conventional_weapon', 'dirty_bomb', 'eco-terrorism', 'environmental_terrorism', 'euskadi_ta_askatasuna', 'extremism', 'farc', 'fundamentalism', 'hamas', 'hezbollah', 'improvised_explosive_device', 'iran', 'iraq', 'irish_republican_army', 'islamist', 'jihad', 'nationalism', 'nigeria', 'nuclear', 'nuclear_enrichment', 'pakistan', 'palestine_liberation_front', 'pirates', 'plo', 'political_radicalism', 'recruitment', 'somalia', 'suicide_attack', 'suicide_bomber', 'taliban', 'tamil_tigers', 'tehrik-i-taliban_pakistan', 'terror', 'terrorism', 'weapons-grade', 'yemen']\n"
     ]
    }
   ],
   "source": [
    "with open('config/search-terms.txt') as f:\n",
    "    search_terms = f.read().splitlines()\n",
    "print(search_terms)"
   ]
  },
  {
   "cell_type": "code",
   "execution_count": 3,
   "metadata": {
    "ExecuteTime": {
     "end_time": "2020-11-27T19:16:38.116387Z",
     "start_time": "2020-11-27T19:16:38.110398Z"
    }
   },
   "outputs": [],
   "source": [
    "not_sure = ['extremism', 'fundamentalism']\n",
    "blacklist = ['agro', 'attack', 'nationalism', 'recruitment', 'nuclear', 'pirates', 'terror']"
   ]
  },
  {
   "cell_type": "code",
   "execution_count": 6,
   "metadata": {
    "ExecuteTime": {
     "end_time": "2020-11-27T19:20:47.509998Z",
     "start_time": "2020-11-27T19:20:47.505097Z"
    }
   },
   "outputs": [],
   "source": [
    "def get_list_to_finish():\n",
    "    path = 'data/pas fini'\n",
    "    files = os.listdir(path)\n",
    "    #Exclude keywords present in the blacklist\n",
    "    valid_keywords = [keyword for keyword in search_terms if keyword not in blacklist]\n",
    "    \n",
    "    #Unfinished terms are the keywords from valid_keywords that are contained in the name of one file\n",
    "    unfinished = [term for term in valid_keywords if term in \"\\t\".join(files)]\n",
    "    return unfinished"
   ]
  },
  {
   "cell_type": "code",
   "execution_count": 5,
   "metadata": {
    "ExecuteTime": {
     "end_time": "2020-11-27T19:20:47.860897Z",
     "start_time": "2020-11-27T19:20:47.852291Z"
    }
   },
   "outputs": [
    {
     "data": {
      "text/plain": [
       "['car_bomb',\n",
       " 'extremism',\n",
       " 'farc',\n",
       " 'hamas',\n",
       " 'hezbollah',\n",
       " 'pakistan',\n",
       " 'plo',\n",
       " 'somalia',\n",
       " 'suicide_bomber',\n",
       " 'taliban',\n",
       " 'terrorism',\n",
       " 'yemen']"
      ]
     },
     "execution_count": 5,
     "metadata": {},
     "output_type": "execute_result"
    }
   ],
   "source": [
    "get_list_to_finish()"
   ]
  },
  {
   "cell_type": "code",
   "execution_count": 37,
   "metadata": {},
   "outputs": [],
   "source": [
    "def get_count_keyword(path):\n",
    "    files = os.listdir(path)\n",
    "    for keyword in search_terms:\n",
    "        keyword_files = list(filter(lambda file: '1-'+keyword+'.csv' in file or '6-'+keyword+'.csv' in file, files))\n",
    "        print(keyword,' : ',len(keyword_files))\n",
    "        #print(keyword_files)"
   ]
  },
  {
   "cell_type": "code",
   "execution_count": 38,
   "metadata": {},
   "outputs": [
    {
     "name": "stdout",
     "output_type": "stream",
     "text": [
      "abu_sayyaf  :  35\n",
      "afghanistan  :  35\n",
      "agro  :  35\n",
      "al-qaeda  :  35\n",
      "al-qaeda_in_the_arabian_peninsula  :  35\n",
      "al-qaeda_in_the_islamic_maghreb  :  35\n",
      "al-shabaab  :  35\n",
      "ammonium_nitrate  :  35\n",
      "attack  :  20\n",
      "biological_weapon  :  70\n",
      "car_bomb  :  68\n",
      "chemical_weapon  :  70\n",
      "conventional_weapon  :  68\n",
      "dirty_bomb  :  70\n",
      "eco-terrorism  :  70\n",
      "environmental_terrorism  :  70\n",
      "euskadi_ta_askatasuna  :  70\n",
      "extremism  :  68\n",
      "farc  :  1\n",
      "fundamentalism  :  70\n",
      "hamas  :  33\n",
      "hezbollah  :  32\n",
      "improvised_explosive_device  :  27\n",
      "iran  :  0\n",
      "iraq  :  0\n",
      "irish_republican_army  :  0\n",
      "islamist  :  0\n",
      "jihad  :  0\n",
      "nationalism  :  0\n",
      "nigeria  :  0\n",
      "nuclear  :  0\n",
      "nuclear_enrichment  :  35\n",
      "pakistan  :  0\n",
      "palestine_liberation_front  :  52\n",
      "pirates  :  0\n",
      "plo  :  18\n",
      "political_radicalism  :  68\n",
      "recruitment  :  1\n",
      "somalia  :  0\n",
      "suicide_attack  :  70\n",
      "suicide_bomber  :  61\n",
      "taliban  :  0\n",
      "tamil_tigers  :  70\n",
      "tehrik-i-taliban_pakistan  :  70\n",
      "terror  :  0\n",
      "terrorism  :  0\n",
      "weapons-grade  :  35\n",
      "yemen  :  0\n"
     ]
    }
   ],
   "source": [
    "get_count_keyword('data')"
   ]
  },
  {
   "cell_type": "code",
   "execution_count": 39,
   "metadata": {},
   "outputs": [
    {
     "name": "stdout",
     "output_type": "stream",
     "text": [
      "abu_sayyaf  :  0\n",
      "afghanistan  :  0\n",
      "agro  :  0\n",
      "al-qaeda  :  0\n",
      "al-qaeda_in_the_arabian_peninsula  :  0\n",
      "al-qaeda_in_the_islamic_maghreb  :  0\n",
      "al-shabaab  :  0\n",
      "ammonium_nitrate  :  0\n",
      "attack  :  0\n",
      "biological_weapon  :  0\n",
      "car_bomb  :  2\n",
      "chemical_weapon  :  0\n",
      "conventional_weapon  :  0\n",
      "dirty_bomb  :  0\n",
      "eco-terrorism  :  0\n",
      "environmental_terrorism  :  0\n",
      "euskadi_ta_askatasuna  :  0\n",
      "extremism  :  2\n",
      "farc  :  69\n",
      "fundamentalism  :  0\n",
      "hamas  :  37\n",
      "hezbollah  :  6\n",
      "improvised_explosive_device  :  0\n",
      "iran  :  0\n",
      "iraq  :  0\n",
      "irish_republican_army  :  0\n",
      "islamist  :  0\n",
      "jihad  :  0\n",
      "nationalism  :  0\n",
      "nigeria  :  0\n",
      "nuclear  :  0\n",
      "nuclear_enrichment  :  0\n",
      "pakistan  :  45\n",
      "palestine_liberation_front  :  0\n",
      "pirates  :  70\n",
      "plo  :  52\n",
      "political_radicalism  :  0\n",
      "recruitment  :  69\n",
      "somalia  :  70\n",
      "suicide_attack  :  0\n",
      "suicide_bomber  :  9\n",
      "taliban  :  70\n",
      "tamil_tigers  :  0\n",
      "tehrik-i-taliban_pakistan  :  0\n",
      "terror  :  70\n",
      "terrorism  :  44\n",
      "weapons-grade  :  0\n",
      "yemen  :  1\n"
     ]
    }
   ],
   "source": [
    "get_count_keyword('data/pas fini')"
   ]
  },
  {
   "cell_type": "code",
   "execution_count": null,
   "metadata": {},
   "outputs": [],
   "source": []
  }
 ],
 "metadata": {
  "kernelspec": {
   "display_name": "Python 3",
   "language": "python",
   "name": "python3"
  },
  "language_info": {
   "codemirror_mode": {
    "name": "ipython",
    "version": 3
   },
   "file_extension": ".py",
   "mimetype": "text/x-python",
   "name": "python",
   "nbconvert_exporter": "python",
   "pygments_lexer": "ipython3",
   "version": "3.8.3"
  },
  "toc": {
   "base_numbering": 1,
   "nav_menu": {},
   "number_sections": true,
   "sideBar": true,
   "skip_h1_title": false,
   "title_cell": "Table of Contents",
   "title_sidebar": "Contents",
   "toc_cell": false,
   "toc_position": {},
   "toc_section_display": true,
   "toc_window_display": false
  }
 },
 "nbformat": 4,
 "nbformat_minor": 4
}
