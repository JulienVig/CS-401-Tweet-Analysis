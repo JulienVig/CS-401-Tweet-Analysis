{
 "cells": [
  {
   "cell_type": "code",
   "execution_count": 3,
   "metadata": {
    "ExecuteTime": {
     "end_time": "2020-11-27T19:12:20.601826Z",
     "start_time": "2020-11-27T19:12:20.595626Z"
    }
   },
   "outputs": [],
   "source": [
    "import os"
   ]
  },
  {
   "cell_type": "code",
   "execution_count": 2,
   "metadata": {
    "ExecuteTime": {
     "end_time": "2020-11-27T19:08:01.433678Z",
     "start_time": "2020-11-27T19:08:01.423065Z"
    },
    "scrolled": true
   },
   "outputs": [
    {
     "name": "stdout",
     "output_type": "stream",
     "text": [
      "['abu_sayyaf', 'afghanistan', 'agro', 'al-qaeda', 'al-qaeda_in_the_arabian_peninsula', 'al-qaeda_in_the_islamic_maghreb', 'al-shabaab', 'ammonium_nitrate', 'attack', 'biological_weapon', 'car_bomb', 'chemical_weapon', 'conventional_weapon', 'dirty_bomb', 'eco-terrorism', 'environmental_terrorism', 'euskadi_ta_askatasuna', 'extremism', 'farc', 'fundamentalism', 'hamas', 'hezbollah', 'improvised_explosive_device', 'iran', 'iraq', 'irish_republican_army', 'islamist', 'jihad', 'nationalism', 'nigeria', 'nuclear', 'nuclear_enrichment', 'pakistan', 'palestine_liberation_front', 'pirates', 'plo', 'political_radicalism', 'recruitment', 'somalia', 'suicide_attack', 'suicide_bomber', 'taliban', 'tamil_tigers', 'tehrik-i-taliban_pakistan', 'terror', 'terrorism', 'weapons-grade', 'yemen']\n"
     ]
    }
   ],
   "source": [
    "with open('config/search-terms.txt') as f:\n",
    "    search_terms = f.read().splitlines()\n",
    "print(search_terms)"
   ]
  },
  {
   "cell_type": "code",
   "execution_count": 14,
   "metadata": {
    "ExecuteTime": {
     "end_time": "2020-11-27T19:16:38.116387Z",
     "start_time": "2020-11-27T19:16:38.110398Z"
    }
   },
   "outputs": [],
   "source": [
    "not_sure = ['extremism', 'fundamentalism']\n",
    "blacklist = ['agro', 'attack', 'nationalism', 'recruitment', 'nuclear', 'pirates', 'terror']"
   ]
  },
  {
   "cell_type": "code",
   "execution_count": 19,
   "metadata": {
    "ExecuteTime": {
     "end_time": "2020-11-27T19:20:47.509998Z",
     "start_time": "2020-11-27T19:20:47.505097Z"
    }
   },
   "outputs": [],
   "source": [
    "def get_list_to_finish():\n",
    "    path = 'data/pas fini'\n",
    "    files = os.listdir(path)\n",
    "    #Exclude keywords present in the blacklist\n",
    "    valid_keywords = [keyword for keyword in search_terms if keyword not in blacklist]\n",
    "    \n",
    "    #Unfinished terms are the keywords from valid_keywords that are contained in the name of one file\n",
    "    unfinished = [term for term in valid_keywords if term in \"\\t\".join(files)]\n",
    "    return unfinished"
   ]
  },
  {
   "cell_type": "code",
   "execution_count": 20,
   "metadata": {
    "ExecuteTime": {
     "end_time": "2020-11-27T19:20:47.860897Z",
     "start_time": "2020-11-27T19:20:47.852291Z"
    }
   },
   "outputs": [
    {
     "data": {
      "text/plain": [
       "['al-qaeda']"
      ]
     },
     "execution_count": 20,
     "metadata": {},
     "output_type": "execute_result"
    }
   ],
   "source": [
    "get_list_to_finish()"
   ]
  },
  {
   "cell_type": "code",
   "execution_count": null,
   "metadata": {},
   "outputs": [],
   "source": []
  }
 ],
 "metadata": {
  "kernelspec": {
   "display_name": "Python 3",
   "language": "python",
   "name": "python3"
  },
  "language_info": {
   "codemirror_mode": {
    "name": "ipython",
    "version": 3
   },
   "file_extension": ".py",
   "mimetype": "text/x-python",
   "name": "python",
   "nbconvert_exporter": "python",
   "pygments_lexer": "ipython3",
   "version": "3.7.1"
  },
  "toc": {
   "base_numbering": 1,
   "nav_menu": {},
   "number_sections": true,
   "sideBar": true,
   "skip_h1_title": false,
   "title_cell": "Table of Contents",
   "title_sidebar": "Contents",
   "toc_cell": false,
   "toc_position": {},
   "toc_section_display": true,
   "toc_window_display": false
  }
 },
 "nbformat": 4,
 "nbformat_minor": 4
}
