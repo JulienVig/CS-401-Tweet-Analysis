{
 "cells": [
  {
   "cell_type": "code",
   "execution_count": 154,
   "metadata": {
    "ExecuteTime": {
     "end_time": "2020-11-28T15:29:19.197433Z",
     "start_time": "2020-11-28T15:29:19.188698Z"
    }
   },
   "outputs": [],
   "source": [
    "# from datetime import datetime, timedelta\n",
    "# from dateutil.relativedelta import *\n",
    "\n",
    "# def divide_month(first_day_dt, nb_of_partition, keyword):\n",
    "#     \"\"\"\n",
    "#     @param nb_of_partition: number of parts\n",
    "#     \"\"\"\n",
    "#     since_dt = first_day_dt #First day of the month\n",
    "#     until_dt = since_dt + relativedelta(months=+1) - timedelta(days=1) #Last day of the month \n",
    "    \n",
    "#     nb_days_in_month = (until_dt - since_dt).days + 1 #Nb of day in the month\n",
    "#     nb_days_in_partition = max(1, nb_days_in_month // nb_of_partition) #Length of partitions\n",
    "#     def dt_to_string(dt):\n",
    "#         \"\"\"Convert datetime object to string\"\"\"\n",
    "#         return dt.strftime(\"%Y-%m-%d\")\n",
    "    \n",
    "#     start_dt = since_dt #Start date of partition\n",
    "#     end_dt = start_dt + timedelta(days=nb_days_in_partition - 1) #End date of partition (included)\n",
    "#     partition = []\n",
    "#     while end_dt <= until_dt:\n",
    "#         partition.append([keyword, dt_to_string(start_dt), dt_to_string(end_dt)])\n",
    "#         start_dt = end_dt + timedelta(days=1)\n",
    "#         end_dt = start_dt + timedelta(days=nb_days_in_partition - 1)\n",
    "        \n",
    "    \n",
    "#     #Extend last partition to the last day of month\n",
    "#     if partition[-1][2] != dt_to_string(until_dt): \n",
    "#         partition[-1][2] = dt_to_string(until_dt)\n",
    "#     return partition\n",
    "\n",
    "# def create_keyword_partition(keyword, month_partition, start_dt=datetime(2012, 1, 1), end_dt=datetime(2014, 12, 31)):\n",
    "#     curr_dt = start_dt\n",
    "#     partition = []    \n",
    "#     while curr_dt < end_dt:\n",
    "#         partition += divide_month(curr_dt, month_partition, keyword)\n",
    "#         curr_dt += relativedelta(months=+1)\n",
    "#     return partition"
   ]
  },
  {
   "cell_type": "code",
   "execution_count": 169,
   "metadata": {
    "ExecuteTime": {
     "end_time": "2020-11-28T15:31:28.325541Z",
     "start_time": "2020-11-28T15:31:28.295182Z"
    }
   },
   "outputs": [
    {
     "name": "stdout",
     "output_type": "stream",
     "text": [
      "Hey\n"
     ]
    },
    {
     "data": {
      "text/plain": [
       "1096"
      ]
     },
     "execution_count": 169,
     "metadata": {},
     "output_type": "execute_result"
    }
   ],
   "source": [
    "from time_partition import create_keyword_partitions\n",
    "len(create_keyword_partitions(\"al-qaeda\", 31))"
   ]
  },
  {
   "cell_type": "code",
   "execution_count": 166,
   "metadata": {
    "ExecuteTime": {
     "end_time": "2020-11-28T15:31:17.978189Z",
     "start_time": "2020-11-28T15:31:17.967679Z"
    }
   },
   "outputs": [
    {
     "data": {
      "text/plain": [
       "datetime.datetime(2021, 1, 1, 0, 0)"
      ]
     },
     "execution_count": 166,
     "metadata": {},
     "output_type": "execute_result"
    }
   ],
   "source": [
    "datetime(2020, 12, 1) + relativedelta(months=+1)"
   ]
  },
  {
   "cell_type": "code",
   "execution_count": null,
   "metadata": {},
   "outputs": [],
   "source": []
  }
 ],
 "metadata": {
  "kernelspec": {
   "display_name": "Python 3",
   "language": "python",
   "name": "python3"
  },
  "language_info": {
   "codemirror_mode": {
    "name": "ipython",
    "version": 3
   },
   "file_extension": ".py",
   "mimetype": "text/x-python",
   "name": "python",
   "nbconvert_exporter": "python",
   "pygments_lexer": "ipython3",
   "version": "3.7.1"
  },
  "toc": {
   "base_numbering": 1,
   "nav_menu": {},
   "number_sections": true,
   "sideBar": true,
   "skip_h1_title": false,
   "title_cell": "Table of Contents",
   "title_sidebar": "Contents",
   "toc_cell": false,
   "toc_position": {},
   "toc_section_display": true,
   "toc_window_display": false
  }
 },
 "nbformat": 4,
 "nbformat_minor": 4
}
