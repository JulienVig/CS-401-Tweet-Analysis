{
 "cells": [
  {
   "cell_type": "code",
   "execution_count": 102,
   "metadata": {},
   "outputs": [],
   "source": [
    "import os \n",
    "import numpy as np\n",
    "import pandas as pd\n",
    "import seaborn as sns\n",
    "import matplotlib.pyplot as plt\n",
    "from datetime import datetime\n",
    "import statsmodels.formula.api as smf\n",
    "\n",
    "#NLP libraries\n",
    "import spacy\n",
    "#Vader\n",
    "from nltk.sentiment.vader import SentimentIntensityAnalyzer"
   ]
  },
  {
   "cell_type": "code",
   "execution_count": 103,
   "metadata": {},
   "outputs": [],
   "source": [
    "TOP_FOLDER = \"full_csv/\"\n",
    "TERRORISM_FILE = TOP_FOLDER + 'domestic_security/'"
   ]
  },
  {
   "cell_type": "code",
   "execution_count": 109,
   "metadata": {},
   "outputs": [],
   "source": [
    "def compute_sentiment(df):\n",
    "    df['sentiment'] = df['tweet'].apply(lambda x: analyzer.polarity_scores(str(x)))\n",
    "    for sent in ['neg', 'neu', 'pos', 'compound']:\n",
    "        df[sent] = df['sentiment'].apply(lambda x: x.get(sent))"
   ]
  },
  {
   "cell_type": "code",
   "execution_count": 110,
   "metadata": {},
   "outputs": [],
   "source": [
    "def sentiment_analysis(source_folder):\n",
    "    source_dir = os.listdir(source_folder)\n",
    "    for file in source_dir[5:6]:\n",
    "        dataframe = pd.read_csv(source_folder+file)\n",
    "        compute_sentiment(dataframe)\n",
    "        save_dir = source_folder[:-1]+\"_sentiment/\"\n",
    "        if not os.path.exists(save_dir):\n",
    "            os.mkdir(save_dir)\n",
    "        dataframe.to_csv(save_dir+file)"
   ]
  },
  {
   "cell_type": "code",
   "execution_count": 111,
   "metadata": {},
   "outputs": [],
   "source": [
    "sentiment_analysis(TERRORISM_FILE)"
   ]
  },
  {
   "cell_type": "code",
   "execution_count": null,
   "metadata": {},
   "outputs": [],
   "source": []
  }
 ],
 "metadata": {
  "kernelspec": {
   "display_name": "Python [conda env:ada]",
   "language": "python",
   "name": "conda-env-ada-py"
  },
  "language_info": {
   "codemirror_mode": {
    "name": "ipython",
    "version": 3
   },
   "file_extension": ".py",
   "mimetype": "text/x-python",
   "name": "python",
   "nbconvert_exporter": "python",
   "pygments_lexer": "ipython3",
   "version": "3.8.5"
  }
 },
 "nbformat": 4,
 "nbformat_minor": 4
}
