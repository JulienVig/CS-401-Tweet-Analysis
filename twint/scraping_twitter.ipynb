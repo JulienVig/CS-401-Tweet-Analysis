{
 "cells": [
  {
   "cell_type": "code",
   "execution_count": 11,
   "metadata": {
    "ExecuteTime": {
     "end_time": "2020-12-01T17:06:05.856210Z",
     "start_time": "2020-12-01T17:06:05.846279Z"
    }
   },
   "outputs": [],
   "source": [
    "import twint\n",
    "import nest_asyncio\n",
    "import tqdm\n",
    "import datetime\n",
    "import os\n",
    "nest_asyncio.apply()"
   ]
  },
  {
   "cell_type": "code",
   "execution_count": 15,
   "metadata": {
    "ExecuteTime": {
     "end_time": "2020-12-01T17:07:00.844017Z",
     "start_time": "2020-12-01T17:07:00.836761Z"
    }
   },
   "outputs": [],
   "source": [
    "DATA_FILE = \"data_test/\"\n",
    "if not os.path.isdir(DATA_FILE):\n",
    "    os.mkdir(DATA_FILE)"
   ]
  },
  {
   "cell_type": "code",
   "execution_count": 2,
   "metadata": {
    "ExecuteTime": {
     "end_time": "2020-12-01T17:05:12.589616Z",
     "start_time": "2020-12-01T17:05:12.580995Z"
    }
   },
   "outputs": [
    {
     "name": "stdout",
     "output_type": "stream",
     "text": [
      "['abu_sayyaf', 'afghanistan', 'agro', 'al-qaeda', 'al-qaeda_in_the_arabian_peninsula', 'al-qaeda_in_the_islamic_maghreb', 'al-shabaab', 'ammonium_nitrate', 'attack', 'biological_weapon', 'car_bomb', 'chemical_weapon', 'conventional_weapon', 'dirty_bomb', 'eco-terrorism', 'environmental_terrorism', 'euskadi_ta_askatasuna', 'extremism', 'farc', 'fundamentalism', 'hamas', 'hezbollah', 'improvised_explosive_device', 'iran', 'iraq', 'irish_republican_army', 'islamist', 'jihad', 'nationalism', 'nigeria', 'nuclear', 'nuclear_enrichment', 'pakistan', 'palestine_liberation_front', 'pirates', 'plo', 'political_radicalism', 'recruitment', 'somalia', 'suicide_attack', 'suicide_bomber', 'taliban', 'tamil_tigers', 'tehrik-i-taliban_pakistan', 'terror', 'terrorism', 'weapons-grade', 'yemen']\n"
     ]
    }
   ],
   "source": [
    "search_terms = []\n",
    "with open('config/search-terms.txt') as f:\n",
    "    lines = f.read().splitlines()\n",
    "search_terms = lines\n",
    "print(search_terms)"
   ]
  },
  {
   "cell_type": "code",
   "execution_count": 3,
   "metadata": {
    "ExecuteTime": {
     "end_time": "2020-12-01T17:05:12.609065Z",
     "start_time": "2020-12-01T17:05:12.599634Z"
    }
   },
   "outputs": [],
   "source": [
    "short_terms = ['abu_sayyaf', 'al-qaeda', 'al-qaeda_in_the_arabian_peninsula', 'al-qaeda_in_the_islamic_maghreb', 'al-shabaab', 'ammonium_nitrate', 'biological_weapon', 'car_bomb', 'chemical_weapon', 'conventional_weapon', 'dirty_bomb', 'eco-terrorism', 'environmental_terrorism', 'euskadi_ta_askatasuna', 'extremism', 'farc', 'fundamentalism', 'hezbollah', 'improvised_explosive_device', 'irish_republican_army', 'jihad', 'nuclear_enrichment', 'palestine_liberation_front', 'political_radicalism', 'suicide_attack', 'suicide_bomber', 'taliban', 'tamil_tigers', 'tehrik-i-taliban_pakistan', 'weapons-grade']"
   ]
  },
  {
   "cell_type": "code",
   "execution_count": 4,
   "metadata": {
    "ExecuteTime": {
     "end_time": "2020-12-01T17:05:12.640741Z",
     "start_time": "2020-12-01T17:05:12.628361Z"
    }
   },
   "outputs": [],
   "source": [
    "long_terms = ['afghanistan', 'hamas', 'iran', 'iraq', 'islamist', 'nationalism', 'nigeria', 'pakistan', 'somalia', 'terrorism', 'yemen']"
   ]
  },
  {
   "cell_type": "code",
   "execution_count": 5,
   "metadata": {
    "ExecuteTime": {
     "end_time": "2020-12-01T17:05:12.651443Z",
     "start_time": "2020-12-01T17:05:12.647120Z"
    }
   },
   "outputs": [],
   "source": [
    "black_list = ['agro', 'attack', 'nuclear', 'pirates', 'plo', 'recruitment', 'terror']"
   ]
  },
  {
   "cell_type": "code",
   "execution_count": 6,
   "metadata": {
    "ExecuteTime": {
     "end_time": "2020-12-01T17:05:12.660660Z",
     "start_time": "2020-12-01T17:05:12.655502Z"
    }
   },
   "outputs": [],
   "source": [
    "concatenated = short_terms+long_terms+black_list\n",
    "for elem in search_terms:\n",
    "    if elem not in concatenated :\n",
    "        print(\"The two lists differ\")"
   ]
  },
  {
   "cell_type": "code",
   "execution_count": 7,
   "metadata": {
    "ExecuteTime": {
     "end_time": "2020-12-01T17:05:12.701819Z",
     "start_time": "2020-12-01T17:05:12.667171Z"
    }
   },
   "outputs": [
    {
     "name": "stdout",
     "output_type": "stream",
     "text": [
      "['2012-01-01', '2012-02-01', '2012-03-01', '2012-04-01', '2012-05-01', '2012-06-01', '2012-07-01', '2012-08-01', '2012-09-01', '2012-10-01', '2012-11-01', '2012-12-01', '2013-01-01', '2013-02-01', '2013-03-01', '2013-04-01', '2013-05-01', '2013-06-01', '2013-07-01', '2013-08-01', '2013-09-01', '2013-10-01', '2013-11-01', '2013-12-01', '2014-01-01', '2014-02-01', '2014-03-01', '2014-04-01', '2014-05-01', '2014-06-01', '2014-07-01', '2014-08-01', '2014-09-01', '2014-10-01', '2014-11-01', '2014-12-01']\n"
     ]
    }
   ],
   "source": [
    "dates = []\n",
    "for y in ['2012', '2013', '2014'] :\n",
    "    for m in range(1,12 + 1):\n",
    "        dates.append(f\"{y}-{m:02d}-01\")\n",
    "print(dates)"
   ]
  },
  {
   "cell_type": "code",
   "execution_count": 8,
   "metadata": {
    "ExecuteTime": {
     "end_time": "2020-12-01T17:05:12.722997Z",
     "start_time": "2020-12-01T17:05:12.708064Z"
    }
   },
   "outputs": [
    {
     "name": "stdout",
     "output_type": "stream",
     "text": [
      "['abu_sayyaf', 'afghanistan']\n",
      "['2012-01-01', '2012-02-01']\n"
     ]
    }
   ],
   "source": [
    "dummy_terms = search_terms[:2]\n",
    "dummy_dates = dates[:2]\n",
    "print(dummy_terms)\n",
    "print(dummy_dates)"
   ]
  },
  {
   "cell_type": "code",
   "execution_count": 9,
   "metadata": {
    "ExecuteTime": {
     "end_time": "2020-12-01T17:05:13.551443Z",
     "start_time": "2020-12-01T17:05:13.452807Z"
    }
   },
   "outputs": [],
   "source": [
    "import threading\n",
    "import multiprocessing\n",
    "from time import sleep\n",
    "from joblib import Parallel, delayed\n",
    "\n",
    "NB_PROC = 12\n",
    "NB_THREAD_P_PROC = 20"
   ]
  },
  {
   "cell_type": "code",
   "execution_count": 10,
   "metadata": {
    "ExecuteTime": {
     "end_time": "2020-12-01T17:05:19.929420Z",
     "start_time": "2020-12-01T17:05:19.916949Z"
    }
   },
   "outputs": [],
   "source": [
    "def process_run(task_queue):\n",
    "    for i in range(NB_THREAD_P_PROC):\n",
    "        thread = Thread(target = thread_run, args=(task_queue))\n",
    "        thread.start()\n",
    "\n",
    "def thread_run(task_queue):\n",
    "    continue_ = True\n",
    "    while continue_:\n",
    "        task = task_queue.get()\n",
    "        if task == None: #TODO change\n",
    "            tadk_queue.put(None)\n",
    "            continue_ = False\n",
    "            break\n",
    "        term = task[0]\n",
    "        since = task[1]\n",
    "        until = task[2]\n",
    "        print(\"Beginning scrapping \", term, \" from \", since, \" until \", until)\n",
    "        Scrap(term, since, until)\n",
    "        print(\"Finished scrapping \", term, \" from \", since, \" until \", until)\n",
    "        if (int(until[-2:])>25):\n",
    "            print(\"##################### Finished term \", term)\n",
    "    print(\"No more element in the queue, terminating\")\n",
    "\n",
    "def Scrap(term, since, until):\n",
    "    print(term, ' from ', since, ' to ', until)\n",
    "    c = twint.Config()\n",
    "    c.Search = term\n",
    "    c.Since = since\n",
    "    c.Until = until\n",
    "    #c.Until = \"2012-06-01\"\n",
    "    c.Output = DATA_FILE+term+'/'+since+'-'+term+\".csv\"\n",
    "    c.Hide_output = True\n",
    "    c.Store_csv = True\n",
    "    twint.run.Search(c)\n",
    "    \n",
    "#Scrap('pineapple', '2012-02-02', '2012-02-03')"
   ]
  },
  {
   "cell_type": "code",
   "execution_count": 10,
   "metadata": {},
   "outputs": [
    {
     "name": "stdout",
     "output_type": "stream",
     "text": [
      "[['abu_sayyaf', '2012-01-01', '2012-01-06'], ['abu_sayyaf', '2012-01-07', '2012-01-12'], ['abu_sayyaf', '2012-01-13', '2012-01-18'], ['abu_sayyaf', '2012-01-19', '2012-01-24'], ['abu_sayyaf', '2012-01-25', '2012-01-31']]\n"
     ]
    },
    {
     "ename": "NameError",
     "evalue": "name 'multiprocessing' is not defined",
     "output_type": "error",
     "traceback": [
      "\u001b[1;31m---------------------------------------------------------------------------\u001b[0m",
      "\u001b[1;31mNameError\u001b[0m                                 Traceback (most recent call last)",
      "\u001b[1;32m<ipython-input-10-f6461e90b876>\u001b[0m in \u001b[0;36m<module>\u001b[1;34m\u001b[0m\n\u001b[0;32m      7\u001b[0m \u001b[0mwork\u001b[0m \u001b[1;33m=\u001b[0m \u001b[0msorted\u001b[0m\u001b[1;33m(\u001b[0m\u001b[0mwork\u001b[0m\u001b[1;33m,\u001b[0m \u001b[0mkey\u001b[0m\u001b[1;33m=\u001b[0m \u001b[1;32mlambda\u001b[0m \u001b[0melem\u001b[0m\u001b[1;33m:\u001b[0m \u001b[0melem\u001b[0m\u001b[1;33m[\u001b[0m\u001b[1;36m0\u001b[0m\u001b[1;33m]\u001b[0m\u001b[1;33m)\u001b[0m\u001b[1;33m\u001b[0m\u001b[1;33m\u001b[0m\u001b[0m\n\u001b[0;32m      8\u001b[0m \u001b[0mprint\u001b[0m\u001b[1;33m(\u001b[0m\u001b[0mwork\u001b[0m\u001b[1;33m[\u001b[0m\u001b[1;33m:\u001b[0m\u001b[1;36m5\u001b[0m\u001b[1;33m]\u001b[0m\u001b[1;33m)\u001b[0m\u001b[1;33m\u001b[0m\u001b[1;33m\u001b[0m\u001b[0m\n\u001b[1;32m----> 9\u001b[1;33m \u001b[0mtask_queue\u001b[0m \u001b[1;33m=\u001b[0m \u001b[0mmultiprocessing\u001b[0m\u001b[1;33m.\u001b[0m\u001b[0mQueue\u001b[0m\u001b[1;33m(\u001b[0m\u001b[1;33m)\u001b[0m\u001b[1;33m\u001b[0m\u001b[1;33m\u001b[0m\u001b[0m\n\u001b[0m\u001b[0;32m     10\u001b[0m \u001b[1;32mfor\u001b[0m \u001b[0mw\u001b[0m \u001b[1;32min\u001b[0m \u001b[0mwork\u001b[0m\u001b[1;33m:\u001b[0m\u001b[1;33m\u001b[0m\u001b[1;33m\u001b[0m\u001b[0m\n\u001b[0;32m     11\u001b[0m     \u001b[0mtask_queue\u001b[0m\u001b[1;33m.\u001b[0m\u001b[0mput\u001b[0m\u001b[1;33m(\u001b[0m\u001b[0mw\u001b[0m\u001b[1;33m)\u001b[0m\u001b[1;33m\u001b[0m\u001b[1;33m\u001b[0m\u001b[0m\n",
      "\u001b[1;31mNameError\u001b[0m: name 'multiprocessing' is not defined"
     ]
    }
   ],
   "source": [
    "from time_partition import *\n",
    "\n",
    "work = []\n",
    "\n",
    "for keyword in short_terms:\n",
    "    work+=create_keyword_partition(keyword, 5)\n",
    "work = sorted(work, key= lambda elem: elem[0])\n",
    "print(work[:5])\n",
    "task_queue = multiprocessing.Queue()\n",
    "for w in work:\n",
    "    task_queue.put(w)\n",
    "for i in range(NB_PROC):\n",
    "    task_queue.put(None)"
   ]
  },
  {
   "cell_type": "code",
   "execution_count": null,
   "metadata": {},
   "outputs": [],
   "source": [
    "if False:\n",
    "    task_queue = multiprocessing.Queue()\n",
    "    work = [['abu_sayyaf', '2012-01-01', '2012-02-01'], ['afghanistan', '2012-01-01', '2012-02-01']]\n",
    "    for w in work:\n",
    "        task_queue.put(w)\n",
    "    for i in range(NB_PROC):\n",
    "        task_queue.put(None)\n",
    "    num_cores = multiprocessing.cpu_count()\n",
    "    print(num_cores)\n",
    "    the_pool = multiprocessing.Pool(NB_PROC, process_run, (task_queue,))\n",
    "    #results = Parallel(n_jobs=NB_PROC)(delayed(process_run)(task_queue) for i in range(NB_PROC))\n",
    "    sleep(10)"
   ]
  },
  {
   "cell_type": "code",
   "execution_count": null,
   "metadata": {},
   "outputs": [],
   "source": [
    "print('''\n",
    "Time taken to scrap \n",
    "abu_sayyaf : 7 min 44 sec, 11.8 MB\n",
    "afghanistan : \n",
    "\n",
    "''')"
   ]
  },
  {
   "cell_type": "code",
   "execution_count": 14,
   "metadata": {},
   "outputs": [
    {
     "name": "stdout",
     "output_type": "stream",
     "text": [
      "12\n"
     ]
    }
   ],
   "source": [
    "num_cores = multiprocessing.cpu_count()\n",
    "print(num_cores)"
   ]
  },
  {
   "cell_type": "code",
   "execution_count": null,
   "metadata": {},
   "outputs": [],
   "source": []
  }
 ],
 "metadata": {
  "kernelspec": {
   "display_name": "Python 3",
   "language": "python",
   "name": "python3"
  },
  "language_info": {
   "codemirror_mode": {
    "name": "ipython",
    "version": 3
   },
   "file_extension": ".py",
   "mimetype": "text/x-python",
   "name": "python",
   "nbconvert_exporter": "python",
   "pygments_lexer": "ipython3",
   "version": "3.7.1"
  },
  "toc": {
   "base_numbering": 1,
   "nav_menu": {},
   "number_sections": true,
   "sideBar": true,
   "skip_h1_title": false,
   "title_cell": "Table of Contents",
   "title_sidebar": "Contents",
   "toc_cell": false,
   "toc_position": {},
   "toc_section_display": true,
   "toc_window_display": false
  }
 },
 "nbformat": 4,
 "nbformat_minor": 4
}
